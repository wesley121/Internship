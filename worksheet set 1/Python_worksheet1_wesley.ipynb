{
 "cells": [
  {
   "cell_type": "markdown",
   "id": "07b5e487",
   "metadata": {},
   "source": [
    "# Factorial of a number"
   ]
  },
  {
   "cell_type": "code",
   "execution_count": 3,
   "id": "3edff189",
   "metadata": {},
   "outputs": [
    {
     "name": "stdout",
     "output_type": "stream",
     "text": [
      "The factorial of 23 is 25852016738884976640000 : \n"
     ]
    }
   ],
   "source": [
    "n = 23\n",
    "fact = 1\n",
    "  \n",
    "for i in range(1,n+1):\n",
    "    fact = fact * i\n",
    "      \n",
    "print (\"The factorial of {} is {} : \".format(n,fact))\n"
   ]
  },
  {
   "cell_type": "markdown",
   "id": "664de666",
   "metadata": {},
   "source": [
    "# Finding whether a number is prime or composite."
   ]
  },
  {
   "cell_type": "code",
   "execution_count": 5,
   "id": "e403f5f8",
   "metadata": {},
   "outputs": [
    {
     "name": "stdout",
     "output_type": "stream",
     "text": [
      "Enter any number:5\n",
      "5 number is prime but not composite number\n"
     ]
    }
   ],
   "source": [
    "#Input a number and check if the number is prime or composite number\n",
    "n= int(input(\"Enter any number:\"))\n",
    "if(n ==0 or n == 1):\n",
    "    printf(n,\"Number is neither prime nor composite\")\n",
    "elif n>1 :\n",
    "    for i in range(2,n):\n",
    "        if(n%i == 0):\n",
    "            print(n,\"is not prime but composite number\")\n",
    "            break\n",
    "    else:\n",
    "        print(n,\"number is prime but not composite number\")\n",
    "else :\n",
    "    print(\"Please enter positive number only \")"
   ]
  },
  {
   "cell_type": "markdown",
   "id": "0209a973",
   "metadata": {},
   "source": [
    "# Checking if a string is palindrome or not"
   ]
  },
  {
   "cell_type": "code",
   "execution_count": 8,
   "id": "99aae325",
   "metadata": {},
   "outputs": [
    {
     "name": "stdout",
     "output_type": "stream",
     "text": [
      "Enter a string:rock\n",
      "No, It is not a palindrome\n"
     ]
    }
   ],
   "source": [
    "def isPalindrome(s):\n",
    "    rev = ''.join(reversed(s))\n",
    "    if (s == rev):\n",
    "        return True\n",
    "    return False\n",
    " \n",
    "# main function\n",
    "s = str(input(\"Enter a string:\"))\n",
    "ans = isPalindrome(s)\n",
    " \n",
    "if (ans):\n",
    "    print(\"Yes, It is a palimdrome\")\n",
    "else:\n",
    "    print(\"No, It is not a palindrome\")"
   ]
  },
  {
   "cell_type": "code",
   "execution_count": 10,
   "id": "841d43a7",
   "metadata": {},
   "outputs": [
    {
     "name": "stdout",
     "output_type": "stream",
     "text": [
      "Enter side 1: 3\n",
      "Enter side 2: 4\n"
     ]
    }
   ],
   "source": [
    "side1 = input(\"Enter side 1: \")\n",
    "side2 = input(\"Enter side 2: \")"
   ]
  },
  {
   "cell_type": "markdown",
   "id": "84db940d",
   "metadata": {},
   "source": [
    "### The below program was an experiment and realised it would be logically wrong at \"a=...\". This program was to find the third side given any two sides, not necessarily base and height.\n",
    "\n",
    "### If this could be corrected, please do."
   ]
  },
  {
   "cell_type": "code",
   "execution_count": 1,
   "id": "28de0da8",
   "metadata": {},
   "outputs": [
    {
     "name": "stdout",
     "output_type": "stream",
     "text": [
      "Enter side 1: 3\n",
      "Enter side 2: 4\n",
      "This is if - The third side is 5.0\n"
     ]
    }
   ],
   "source": [
    "import math\n",
    "\n",
    "\n",
    "side1 = int(input(\"Enter side 1: \"))\n",
    "side2 = int(input(\"Enter side 2: \"))\n",
    "\n",
    "a = math.sqrt(side1**2 + side2**2)\n",
    "\n",
    "if a > max(side1, side2):\n",
    "    print(\"This is if - The third side is {}\".format(a))\n",
    "\n",
    "else:\n",
    "    side3 = math.sqrt((max(side1, side2)**2) - (min(side1, side2)**2))\n",
    "    print(\"This is else - The third side is {}\".format(side3))\n",
    "    \n",
    "    \n",
    "    \n"
   ]
  },
  {
   "cell_type": "markdown",
   "id": "819f6e10",
   "metadata": {},
   "source": [
    "### Assuming the 2 given sides are base and height - Program to calculate the hypotenuse\n"
   ]
  },
  {
   "cell_type": "code",
   "execution_count": 2,
   "id": "fe94ee8b",
   "metadata": {},
   "outputs": [
    {
     "name": "stdout",
     "output_type": "stream",
     "text": [
      "Enter side 1: 5\n",
      "Enter side 2: 6\n",
      "The third side is 7.810249675906654\n"
     ]
    }
   ],
   "source": [
    "import math\n",
    "\n",
    "\n",
    "side1 = int(input(\"Enter side 1: \"))\n",
    "side2 = int(input(\"Enter side 2: \"))\n",
    "\n",
    "Hypotenuse = math.sqrt(side1**2 + side2**2)\n",
    "print(\"The third side is {}\".format(Hypotenuse))"
   ]
  },
  {
   "cell_type": "markdown",
   "id": "7150335c",
   "metadata": {},
   "source": [
    "### Frequency of each alphabet in a string"
   ]
  },
  {
   "cell_type": "code",
   "execution_count": 4,
   "id": "6dc97f58",
   "metadata": {},
   "outputs": [
    {
     "name": "stdout",
     "output_type": "stream",
     "text": [
      "Enter a string : Thanks for checking, Kashif!\n",
      "Count of all characters in your string is :\n",
      " {'T': 1, 'h': 3, 'a': 2, 'n': 2, 'k': 2, 's': 2, ' ': 3, 'f': 2, 'o': 1, 'r': 1, 'c': 2, 'e': 1, 'i': 2, 'g': 1, ',': 1, 'K': 1, '!': 1}\n"
     ]
    }
   ],
   "source": [
    "string = input(\"Enter a string : \")\n",
    "  \n",
    "# using naive method to get count \n",
    "# of each element in string \n",
    "all_freq = {}\n",
    "  \n",
    "for i in string:\n",
    "    if i in all_freq:\n",
    "        all_freq[i] += 1\n",
    "    else:\n",
    "        all_freq[i] = 1\n",
    "  \n",
    "# printing result \n",
    "print (\"Count of all characters in your string is :\\n \"\n",
    "                                        +  str(all_freq))"
   ]
  },
  {
   "cell_type": "code",
   "execution_count": null,
   "id": "4dad6461",
   "metadata": {},
   "outputs": [],
   "source": []
  }
 ],
 "metadata": {
  "kernelspec": {
   "display_name": "Python 3 (ipykernel)",
   "language": "python",
   "name": "python3"
  },
  "language_info": {
   "codemirror_mode": {
    "name": "ipython",
    "version": 3
   },
   "file_extension": ".py",
   "mimetype": "text/x-python",
   "name": "python",
   "nbconvert_exporter": "python",
   "pygments_lexer": "ipython3",
   "version": "3.9.7"
  }
 },
 "nbformat": 4,
 "nbformat_minor": 5
}
