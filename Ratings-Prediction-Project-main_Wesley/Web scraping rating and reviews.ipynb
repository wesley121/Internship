{
 "cells": [
  {
   "cell_type": "code",
   "execution_count": 1,
   "metadata": {},
   "outputs": [],
   "source": [
    "#importing all the required libraries\n",
    "import selenium\n",
    "from selenium import webdriver\n",
    "from selenium.webdriver.common.by import By\n",
    "from selenium.webdriver.support.ui import WebDriverWait\n",
    "from selenium.webdriver.support import expected_conditions as EC\n",
    "import time\n",
    "import requests\n",
    "from bs4 import BeautifulSoup\n",
    "import os\n",
    "import pandas as pd\n",
    "from selenium.common.exceptions import StaleElementReferenceException, NoSuchElementException,ElementNotInteractableException,InvalidArgumentException,InvalidCookieDomainException"
   ]
  },
  {
   "cell_type": "code",
   "execution_count": 46,
   "metadata": {},
   "outputs": [],
   "source": [
    "#connecting to the webdriver\n",
    "driver = webdriver.Chrome(r\"C:\\Users\\Abhishek\\Downloads\\chromedriver_win32_1\\chromedriver.exe\")"
   ]
  },
  {
   "cell_type": "code",
   "execution_count": 3,
   "metadata": {},
   "outputs": [],
   "source": [
    "url='https://www.flipkart.com/hp-pavilion-gaming-ryzen-5-quad-core-3550h-8-gb-1-tb-hdd-windows-10-home-4-gb-graphics-nvidia-geforce-gtx-1650-15-ec0101ax-laptop/product-reviews/itma1af6bf593dc8?pid=COMFSFNVDXG74QXR&lid=LSTCOMFSFNVDXG74QXRY8FRH2&marketplace=FLIPKART'"
   ]
  },
  {
   "cell_type": "code",
   "execution_count": 9,
   "metadata": {},
   "outputs": [],
   "source": [
    "#opening the webpage through our driver\n",
    "driver.get(url)"
   ]
  },
  {
   "cell_type": "code",
   "execution_count": 33,
   "metadata": {},
   "outputs": [],
   "source": [
    "#creating empty lists\n",
    "Rating=[]\n",
    "Full_review=[]"
   ]
  },
  {
   "cell_type": "markdown",
   "metadata": {},
   "source": [
    "### scraping ratings and reviews of laptops"
   ]
  },
  {
   "cell_type": "code",
   "execution_count": 11,
   "metadata": {},
   "outputs": [],
   "source": [
    "URL=[]\n",
    "for j in range(0,147):\n",
    "    review_tags=driver.find_elements_by_xpath(\"//nav[@class='yFHi8N']\")\n",
    "    for i in review_tags:\n",
    "        review_tags1=i.find_element_by_tag_name(\"a\")\n",
    "        URL.append(review_tags1.get_attribute('href'))\n",
    "        \n",
    "        button=driver.find_element_by_xpath(\"//*[contains(text(), 'Next')]\")\n",
    "        driver.execute_script(\"arguments[0].click();\", button)\n",
    "        time.sleep(3)"
   ]
  },
  {
   "cell_type": "code",
   "execution_count": 12,
   "metadata": {},
   "outputs": [
    {
     "data": {
      "text/plain": [
       "['https://www.flipkart.com/hp-pavilion-gaming-ryzen-5-quad-core-3550h-8-gb-1-tb-hdd-windows-10-home-4-gb-graphics-nvidia-geforce-gtx-1650-15-ec0101ax-laptop/product-reviews/itma1af6bf593dc8?pid=COMFSFNVDXG74QXR&lid=LSTCOMFSFNVDXG74QXRY8FRH2&marketplace=FLIPKART&page=1',\n",
       " 'https://www.flipkart.com/hp-pavilion-gaming-ryzen-5-quad-core-3550h-8-gb-1-tb-hdd-windows-10-home-4-gb-graphics-nvidia-geforce-gtx-1650-15-ec0101ax-laptop/product-reviews/itma1af6bf593dc8?pid=COMFSFNVDXG74QXR&lid=LSTCOMFSFNVDXG74QXRY8FRH2&marketplace=FLIPKART&page=1',\n",
       " 'https://www.flipkart.com/hp-pavilion-gaming-ryzen-5-quad-core-3550h-8-gb-1-tb-hdd-windows-10-home-4-gb-graphics-nvidia-geforce-gtx-1650-15-ec0101ax-laptop/product-reviews/itma1af6bf593dc8?pid=COMFSFNVDXG74QXR&lid=LSTCOMFSFNVDXG74QXRY8FRH2&marketplace=FLIPKART&page=2',\n",
       " 'https://www.flipkart.com/hp-pavilion-gaming-ryzen-5-quad-core-3550h-8-gb-1-tb-hdd-windows-10-home-4-gb-graphics-nvidia-geforce-gtx-1650-15-ec0101ax-laptop/product-reviews/itma1af6bf593dc8?pid=COMFSFNVDXG74QXR&lid=LSTCOMFSFNVDXG74QXRY8FRH2&marketplace=FLIPKART&page=3',\n",
       " 'https://www.flipkart.com/hp-pavilion-gaming-ryzen-5-quad-core-3550h-8-gb-1-tb-hdd-windows-10-home-4-gb-graphics-nvidia-geforce-gtx-1650-15-ec0101ax-laptop/product-reviews/itma1af6bf593dc8?pid=COMFSFNVDXG74QXR&lid=LSTCOMFSFNVDXG74QXRY8FRH2&marketplace=FLIPKART&page=4',\n",
       " 'https://www.flipkart.com/hp-pavilion-gaming-ryzen-5-quad-core-3550h-8-gb-1-tb-hdd-windows-10-home-4-gb-graphics-nvidia-geforce-gtx-1650-15-ec0101ax-laptop/product-reviews/itma1af6bf593dc8?pid=COMFSFNVDXG74QXR&lid=LSTCOMFSFNVDXG74QXRY8FRH2&marketplace=FLIPKART&page=5',\n",
       " 'https://www.flipkart.com/hp-pavilion-gaming-ryzen-5-quad-core-3550h-8-gb-1-tb-hdd-windows-10-home-4-gb-graphics-nvidia-geforce-gtx-1650-15-ec0101ax-laptop/product-reviews/itma1af6bf593dc8?pid=COMFSFNVDXG74QXR&lid=LSTCOMFSFNVDXG74QXRY8FRH2&marketplace=FLIPKART&page=6',\n",
       " 'https://www.flipkart.com/hp-pavilion-gaming-ryzen-5-quad-core-3550h-8-gb-1-tb-hdd-windows-10-home-4-gb-graphics-nvidia-geforce-gtx-1650-15-ec0101ax-laptop/product-reviews/itma1af6bf593dc8?pid=COMFSFNVDXG74QXR&lid=LSTCOMFSFNVDXG74QXRY8FRH2&marketplace=FLIPKART&page=7',\n",
       " 'https://www.flipkart.com/hp-pavilion-gaming-ryzen-5-quad-core-3550h-8-gb-1-tb-hdd-windows-10-home-4-gb-graphics-nvidia-geforce-gtx-1650-15-ec0101ax-laptop/product-reviews/itma1af6bf593dc8?pid=COMFSFNVDXG74QXR&lid=LSTCOMFSFNVDXG74QXRY8FRH2&marketplace=FLIPKART&page=8',\n",
       " 'https://www.flipkart.com/hp-pavilion-gaming-ryzen-5-quad-core-3550h-8-gb-1-tb-hdd-windows-10-home-4-gb-graphics-nvidia-geforce-gtx-1650-15-ec0101ax-laptop/product-reviews/itma1af6bf593dc8?pid=COMFSFNVDXG74QXR&lid=LSTCOMFSFNVDXG74QXRY8FRH2&marketplace=FLIPKART&page=9',\n",
       " 'https://www.flipkart.com/hp-pavilion-gaming-ryzen-5-quad-core-3550h-8-gb-1-tb-hdd-windows-10-home-4-gb-graphics-nvidia-geforce-gtx-1650-15-ec0101ax-laptop/product-reviews/itma1af6bf593dc8?pid=COMFSFNVDXG74QXR&lid=LSTCOMFSFNVDXG74QXRY8FRH2&marketplace=FLIPKART&page=10',\n",
       " 'https://www.flipkart.com/hp-pavilion-gaming-ryzen-5-quad-core-3550h-8-gb-1-tb-hdd-windows-10-home-4-gb-graphics-nvidia-geforce-gtx-1650-15-ec0101ax-laptop/product-reviews/itma1af6bf593dc8?pid=COMFSFNVDXG74QXR&lid=LSTCOMFSFNVDXG74QXRY8FRH2&marketplace=FLIPKART&page=11',\n",
       " 'https://www.flipkart.com/hp-pavilion-gaming-ryzen-5-quad-core-3550h-8-gb-1-tb-hdd-windows-10-home-4-gb-graphics-nvidia-geforce-gtx-1650-15-ec0101ax-laptop/product-reviews/itma1af6bf593dc8?pid=COMFSFNVDXG74QXR&lid=LSTCOMFSFNVDXG74QXRY8FRH2&marketplace=FLIPKART&page=12',\n",
       " 'https://www.flipkart.com/hp-pavilion-gaming-ryzen-5-quad-core-3550h-8-gb-1-tb-hdd-windows-10-home-4-gb-graphics-nvidia-geforce-gtx-1650-15-ec0101ax-laptop/product-reviews/itma1af6bf593dc8?pid=COMFSFNVDXG74QXR&lid=LSTCOMFSFNVDXG74QXRY8FRH2&marketplace=FLIPKART&page=13',\n",
       " 'https://www.flipkart.com/hp-pavilion-gaming-ryzen-5-quad-core-3550h-8-gb-1-tb-hdd-windows-10-home-4-gb-graphics-nvidia-geforce-gtx-1650-15-ec0101ax-laptop/product-reviews/itma1af6bf593dc8?pid=COMFSFNVDXG74QXR&lid=LSTCOMFSFNVDXG74QXRY8FRH2&marketplace=FLIPKART&page=14',\n",
       " 'https://www.flipkart.com/hp-pavilion-gaming-ryzen-5-quad-core-3550h-8-gb-1-tb-hdd-windows-10-home-4-gb-graphics-nvidia-geforce-gtx-1650-15-ec0101ax-laptop/product-reviews/itma1af6bf593dc8?pid=COMFSFNVDXG74QXR&lid=LSTCOMFSFNVDXG74QXRY8FRH2&marketplace=FLIPKART&page=15',\n",
       " 'https://www.flipkart.com/hp-pavilion-gaming-ryzen-5-quad-core-3550h-8-gb-1-tb-hdd-windows-10-home-4-gb-graphics-nvidia-geforce-gtx-1650-15-ec0101ax-laptop/product-reviews/itma1af6bf593dc8?pid=COMFSFNVDXG74QXR&lid=LSTCOMFSFNVDXG74QXRY8FRH2&marketplace=FLIPKART&page=16',\n",
       " 'https://www.flipkart.com/hp-pavilion-gaming-ryzen-5-quad-core-3550h-8-gb-1-tb-hdd-windows-10-home-4-gb-graphics-nvidia-geforce-gtx-1650-15-ec0101ax-laptop/product-reviews/itma1af6bf593dc8?pid=COMFSFNVDXG74QXR&lid=LSTCOMFSFNVDXG74QXRY8FRH2&marketplace=FLIPKART&page=17',\n",
       " 'https://www.flipkart.com/hp-pavilion-gaming-ryzen-5-quad-core-3550h-8-gb-1-tb-hdd-windows-10-home-4-gb-graphics-nvidia-geforce-gtx-1650-15-ec0101ax-laptop/product-reviews/itma1af6bf593dc8?pid=COMFSFNVDXG74QXR&lid=LSTCOMFSFNVDXG74QXRY8FRH2&marketplace=FLIPKART&page=18',\n",
       " 'https://www.flipkart.com/hp-pavilion-gaming-ryzen-5-quad-core-3550h-8-gb-1-tb-hdd-windows-10-home-4-gb-graphics-nvidia-geforce-gtx-1650-15-ec0101ax-laptop/product-reviews/itma1af6bf593dc8?pid=COMFSFNVDXG74QXR&lid=LSTCOMFSFNVDXG74QXRY8FRH2&marketplace=FLIPKART&page=19',\n",
       " 'https://www.flipkart.com/hp-pavilion-gaming-ryzen-5-quad-core-3550h-8-gb-1-tb-hdd-windows-10-home-4-gb-graphics-nvidia-geforce-gtx-1650-15-ec0101ax-laptop/product-reviews/itma1af6bf593dc8?pid=COMFSFNVDXG74QXR&lid=LSTCOMFSFNVDXG74QXRY8FRH2&marketplace=FLIPKART&page=20',\n",
       " 'https://www.flipkart.com/hp-pavilion-gaming-ryzen-5-quad-core-3550h-8-gb-1-tb-hdd-windows-10-home-4-gb-graphics-nvidia-geforce-gtx-1650-15-ec0101ax-laptop/product-reviews/itma1af6bf593dc8?pid=COMFSFNVDXG74QXR&lid=LSTCOMFSFNVDXG74QXRY8FRH2&marketplace=FLIPKART&page=21',\n",
       " 'https://www.flipkart.com/hp-pavilion-gaming-ryzen-5-quad-core-3550h-8-gb-1-tb-hdd-windows-10-home-4-gb-graphics-nvidia-geforce-gtx-1650-15-ec0101ax-laptop/product-reviews/itma1af6bf593dc8?pid=COMFSFNVDXG74QXR&lid=LSTCOMFSFNVDXG74QXRY8FRH2&marketplace=FLIPKART&page=22',\n",
       " 'https://www.flipkart.com/hp-pavilion-gaming-ryzen-5-quad-core-3550h-8-gb-1-tb-hdd-windows-10-home-4-gb-graphics-nvidia-geforce-gtx-1650-15-ec0101ax-laptop/product-reviews/itma1af6bf593dc8?pid=COMFSFNVDXG74QXR&lid=LSTCOMFSFNVDXG74QXRY8FRH2&marketplace=FLIPKART&page=23',\n",
       " 'https://www.flipkart.com/hp-pavilion-gaming-ryzen-5-quad-core-3550h-8-gb-1-tb-hdd-windows-10-home-4-gb-graphics-nvidia-geforce-gtx-1650-15-ec0101ax-laptop/product-reviews/itma1af6bf593dc8?pid=COMFSFNVDXG74QXR&lid=LSTCOMFSFNVDXG74QXRY8FRH2&marketplace=FLIPKART&page=24',\n",
       " 'https://www.flipkart.com/hp-pavilion-gaming-ryzen-5-quad-core-3550h-8-gb-1-tb-hdd-windows-10-home-4-gb-graphics-nvidia-geforce-gtx-1650-15-ec0101ax-laptop/product-reviews/itma1af6bf593dc8?pid=COMFSFNVDXG74QXR&lid=LSTCOMFSFNVDXG74QXRY8FRH2&marketplace=FLIPKART&page=25',\n",
       " 'https://www.flipkart.com/hp-pavilion-gaming-ryzen-5-quad-core-3550h-8-gb-1-tb-hdd-windows-10-home-4-gb-graphics-nvidia-geforce-gtx-1650-15-ec0101ax-laptop/product-reviews/itma1af6bf593dc8?pid=COMFSFNVDXG74QXR&lid=LSTCOMFSFNVDXG74QXRY8FRH2&marketplace=FLIPKART&page=26',\n",
       " 'https://www.flipkart.com/hp-pavilion-gaming-ryzen-5-quad-core-3550h-8-gb-1-tb-hdd-windows-10-home-4-gb-graphics-nvidia-geforce-gtx-1650-15-ec0101ax-laptop/product-reviews/itma1af6bf593dc8?pid=COMFSFNVDXG74QXR&lid=LSTCOMFSFNVDXG74QXRY8FRH2&marketplace=FLIPKART&page=27',\n",
       " 'https://www.flipkart.com/hp-pavilion-gaming-ryzen-5-quad-core-3550h-8-gb-1-tb-hdd-windows-10-home-4-gb-graphics-nvidia-geforce-gtx-1650-15-ec0101ax-laptop/product-reviews/itma1af6bf593dc8?pid=COMFSFNVDXG74QXR&lid=LSTCOMFSFNVDXG74QXRY8FRH2&marketplace=FLIPKART&page=28',\n",
       " 'https://www.flipkart.com/hp-pavilion-gaming-ryzen-5-quad-core-3550h-8-gb-1-tb-hdd-windows-10-home-4-gb-graphics-nvidia-geforce-gtx-1650-15-ec0101ax-laptop/product-reviews/itma1af6bf593dc8?pid=COMFSFNVDXG74QXR&lid=LSTCOMFSFNVDXG74QXRY8FRH2&marketplace=FLIPKART&page=29',\n",
       " 'https://www.flipkart.com/hp-pavilion-gaming-ryzen-5-quad-core-3550h-8-gb-1-tb-hdd-windows-10-home-4-gb-graphics-nvidia-geforce-gtx-1650-15-ec0101ax-laptop/product-reviews/itma1af6bf593dc8?pid=COMFSFNVDXG74QXR&lid=LSTCOMFSFNVDXG74QXRY8FRH2&marketplace=FLIPKART&page=30',\n",
       " 'https://www.flipkart.com/hp-pavilion-gaming-ryzen-5-quad-core-3550h-8-gb-1-tb-hdd-windows-10-home-4-gb-graphics-nvidia-geforce-gtx-1650-15-ec0101ax-laptop/product-reviews/itma1af6bf593dc8?pid=COMFSFNVDXG74QXR&lid=LSTCOMFSFNVDXG74QXRY8FRH2&marketplace=FLIPKART&page=31',\n",
       " 'https://www.flipkart.com/hp-pavilion-gaming-ryzen-5-quad-core-3550h-8-gb-1-tb-hdd-windows-10-home-4-gb-graphics-nvidia-geforce-gtx-1650-15-ec0101ax-laptop/product-reviews/itma1af6bf593dc8?pid=COMFSFNVDXG74QXR&lid=LSTCOMFSFNVDXG74QXRY8FRH2&marketplace=FLIPKART&page=32',\n",
       " 'https://www.flipkart.com/hp-pavilion-gaming-ryzen-5-quad-core-3550h-8-gb-1-tb-hdd-windows-10-home-4-gb-graphics-nvidia-geforce-gtx-1650-15-ec0101ax-laptop/product-reviews/itma1af6bf593dc8?pid=COMFSFNVDXG74QXR&lid=LSTCOMFSFNVDXG74QXRY8FRH2&marketplace=FLIPKART&page=33',\n",
       " 'https://www.flipkart.com/hp-pavilion-gaming-ryzen-5-quad-core-3550h-8-gb-1-tb-hdd-windows-10-home-4-gb-graphics-nvidia-geforce-gtx-1650-15-ec0101ax-laptop/product-reviews/itma1af6bf593dc8?pid=COMFSFNVDXG74QXR&lid=LSTCOMFSFNVDXG74QXRY8FRH2&marketplace=FLIPKART&page=34',\n",
       " 'https://www.flipkart.com/hp-pavilion-gaming-ryzen-5-quad-core-3550h-8-gb-1-tb-hdd-windows-10-home-4-gb-graphics-nvidia-geforce-gtx-1650-15-ec0101ax-laptop/product-reviews/itma1af6bf593dc8?pid=COMFSFNVDXG74QXR&lid=LSTCOMFSFNVDXG74QXRY8FRH2&marketplace=FLIPKART&page=35',\n",
       " 'https://www.flipkart.com/hp-pavilion-gaming-ryzen-5-quad-core-3550h-8-gb-1-tb-hdd-windows-10-home-4-gb-graphics-nvidia-geforce-gtx-1650-15-ec0101ax-laptop/product-reviews/itma1af6bf593dc8?pid=COMFSFNVDXG74QXR&lid=LSTCOMFSFNVDXG74QXRY8FRH2&marketplace=FLIPKART&page=36',\n",
       " 'https://www.flipkart.com/hp-pavilion-gaming-ryzen-5-quad-core-3550h-8-gb-1-tb-hdd-windows-10-home-4-gb-graphics-nvidia-geforce-gtx-1650-15-ec0101ax-laptop/product-reviews/itma1af6bf593dc8?pid=COMFSFNVDXG74QXR&lid=LSTCOMFSFNVDXG74QXRY8FRH2&marketplace=FLIPKART&page=37',\n",
       " 'https://www.flipkart.com/hp-pavilion-gaming-ryzen-5-quad-core-3550h-8-gb-1-tb-hdd-windows-10-home-4-gb-graphics-nvidia-geforce-gtx-1650-15-ec0101ax-laptop/product-reviews/itma1af6bf593dc8?pid=COMFSFNVDXG74QXR&lid=LSTCOMFSFNVDXG74QXRY8FRH2&marketplace=FLIPKART&page=38',\n",
       " 'https://www.flipkart.com/hp-pavilion-gaming-ryzen-5-quad-core-3550h-8-gb-1-tb-hdd-windows-10-home-4-gb-graphics-nvidia-geforce-gtx-1650-15-ec0101ax-laptop/product-reviews/itma1af6bf593dc8?pid=COMFSFNVDXG74QXR&lid=LSTCOMFSFNVDXG74QXRY8FRH2&marketplace=FLIPKART&page=39',\n",
       " 'https://www.flipkart.com/hp-pavilion-gaming-ryzen-5-quad-core-3550h-8-gb-1-tb-hdd-windows-10-home-4-gb-graphics-nvidia-geforce-gtx-1650-15-ec0101ax-laptop/product-reviews/itma1af6bf593dc8?pid=COMFSFNVDXG74QXR&lid=LSTCOMFSFNVDXG74QXRY8FRH2&marketplace=FLIPKART&page=40',\n",
       " 'https://www.flipkart.com/hp-pavilion-gaming-ryzen-5-quad-core-3550h-8-gb-1-tb-hdd-windows-10-home-4-gb-graphics-nvidia-geforce-gtx-1650-15-ec0101ax-laptop/product-reviews/itma1af6bf593dc8?pid=COMFSFNVDXG74QXR&lid=LSTCOMFSFNVDXG74QXRY8FRH2&marketplace=FLIPKART&page=41',\n",
       " 'https://www.flipkart.com/hp-pavilion-gaming-ryzen-5-quad-core-3550h-8-gb-1-tb-hdd-windows-10-home-4-gb-graphics-nvidia-geforce-gtx-1650-15-ec0101ax-laptop/product-reviews/itma1af6bf593dc8?pid=COMFSFNVDXG74QXR&lid=LSTCOMFSFNVDXG74QXRY8FRH2&marketplace=FLIPKART&page=42',\n",
       " 'https://www.flipkart.com/hp-pavilion-gaming-ryzen-5-quad-core-3550h-8-gb-1-tb-hdd-windows-10-home-4-gb-graphics-nvidia-geforce-gtx-1650-15-ec0101ax-laptop/product-reviews/itma1af6bf593dc8?pid=COMFSFNVDXG74QXR&lid=LSTCOMFSFNVDXG74QXRY8FRH2&marketplace=FLIPKART&page=43',\n",
       " 'https://www.flipkart.com/hp-pavilion-gaming-ryzen-5-quad-core-3550h-8-gb-1-tb-hdd-windows-10-home-4-gb-graphics-nvidia-geforce-gtx-1650-15-ec0101ax-laptop/product-reviews/itma1af6bf593dc8?pid=COMFSFNVDXG74QXR&lid=LSTCOMFSFNVDXG74QXRY8FRH2&marketplace=FLIPKART&page=44',\n",
       " 'https://www.flipkart.com/hp-pavilion-gaming-ryzen-5-quad-core-3550h-8-gb-1-tb-hdd-windows-10-home-4-gb-graphics-nvidia-geforce-gtx-1650-15-ec0101ax-laptop/product-reviews/itma1af6bf593dc8?pid=COMFSFNVDXG74QXR&lid=LSTCOMFSFNVDXG74QXRY8FRH2&marketplace=FLIPKART&page=45',\n",
       " 'https://www.flipkart.com/hp-pavilion-gaming-ryzen-5-quad-core-3550h-8-gb-1-tb-hdd-windows-10-home-4-gb-graphics-nvidia-geforce-gtx-1650-15-ec0101ax-laptop/product-reviews/itma1af6bf593dc8?pid=COMFSFNVDXG74QXR&lid=LSTCOMFSFNVDXG74QXRY8FRH2&marketplace=FLIPKART&page=46',\n",
       " 'https://www.flipkart.com/hp-pavilion-gaming-ryzen-5-quad-core-3550h-8-gb-1-tb-hdd-windows-10-home-4-gb-graphics-nvidia-geforce-gtx-1650-15-ec0101ax-laptop/product-reviews/itma1af6bf593dc8?pid=COMFSFNVDXG74QXR&lid=LSTCOMFSFNVDXG74QXRY8FRH2&marketplace=FLIPKART&page=47',\n",
       " 'https://www.flipkart.com/hp-pavilion-gaming-ryzen-5-quad-core-3550h-8-gb-1-tb-hdd-windows-10-home-4-gb-graphics-nvidia-geforce-gtx-1650-15-ec0101ax-laptop/product-reviews/itma1af6bf593dc8?pid=COMFSFNVDXG74QXR&lid=LSTCOMFSFNVDXG74QXRY8FRH2&marketplace=FLIPKART&page=48',\n",
       " 'https://www.flipkart.com/hp-pavilion-gaming-ryzen-5-quad-core-3550h-8-gb-1-tb-hdd-windows-10-home-4-gb-graphics-nvidia-geforce-gtx-1650-15-ec0101ax-laptop/product-reviews/itma1af6bf593dc8?pid=COMFSFNVDXG74QXR&lid=LSTCOMFSFNVDXG74QXRY8FRH2&marketplace=FLIPKART&page=49',\n",
       " 'https://www.flipkart.com/hp-pavilion-gaming-ryzen-5-quad-core-3550h-8-gb-1-tb-hdd-windows-10-home-4-gb-graphics-nvidia-geforce-gtx-1650-15-ec0101ax-laptop/product-reviews/itma1af6bf593dc8?pid=COMFSFNVDXG74QXR&lid=LSTCOMFSFNVDXG74QXRY8FRH2&marketplace=FLIPKART&page=50',\n",
       " 'https://www.flipkart.com/hp-pavilion-gaming-ryzen-5-quad-core-3550h-8-gb-1-tb-hdd-windows-10-home-4-gb-graphics-nvidia-geforce-gtx-1650-15-ec0101ax-laptop/product-reviews/itma1af6bf593dc8?pid=COMFSFNVDXG74QXR&lid=LSTCOMFSFNVDXG74QXRY8FRH2&marketplace=FLIPKART&page=51',\n",
       " 'https://www.flipkart.com/hp-pavilion-gaming-ryzen-5-quad-core-3550h-8-gb-1-tb-hdd-windows-10-home-4-gb-graphics-nvidia-geforce-gtx-1650-15-ec0101ax-laptop/product-reviews/itma1af6bf593dc8?pid=COMFSFNVDXG74QXR&lid=LSTCOMFSFNVDXG74QXRY8FRH2&marketplace=FLIPKART&page=52',\n",
       " 'https://www.flipkart.com/hp-pavilion-gaming-ryzen-5-quad-core-3550h-8-gb-1-tb-hdd-windows-10-home-4-gb-graphics-nvidia-geforce-gtx-1650-15-ec0101ax-laptop/product-reviews/itma1af6bf593dc8?pid=COMFSFNVDXG74QXR&lid=LSTCOMFSFNVDXG74QXRY8FRH2&marketplace=FLIPKART&page=53',\n",
       " 'https://www.flipkart.com/hp-pavilion-gaming-ryzen-5-quad-core-3550h-8-gb-1-tb-hdd-windows-10-home-4-gb-graphics-nvidia-geforce-gtx-1650-15-ec0101ax-laptop/product-reviews/itma1af6bf593dc8?pid=COMFSFNVDXG74QXR&lid=LSTCOMFSFNVDXG74QXRY8FRH2&marketplace=FLIPKART&page=54',\n",
       " 'https://www.flipkart.com/hp-pavilion-gaming-ryzen-5-quad-core-3550h-8-gb-1-tb-hdd-windows-10-home-4-gb-graphics-nvidia-geforce-gtx-1650-15-ec0101ax-laptop/product-reviews/itma1af6bf593dc8?pid=COMFSFNVDXG74QXR&lid=LSTCOMFSFNVDXG74QXRY8FRH2&marketplace=FLIPKART&page=55',\n",
       " 'https://www.flipkart.com/hp-pavilion-gaming-ryzen-5-quad-core-3550h-8-gb-1-tb-hdd-windows-10-home-4-gb-graphics-nvidia-geforce-gtx-1650-15-ec0101ax-laptop/product-reviews/itma1af6bf593dc8?pid=COMFSFNVDXG74QXR&lid=LSTCOMFSFNVDXG74QXRY8FRH2&marketplace=FLIPKART&page=56',\n",
       " 'https://www.flipkart.com/hp-pavilion-gaming-ryzen-5-quad-core-3550h-8-gb-1-tb-hdd-windows-10-home-4-gb-graphics-nvidia-geforce-gtx-1650-15-ec0101ax-laptop/product-reviews/itma1af6bf593dc8?pid=COMFSFNVDXG74QXR&lid=LSTCOMFSFNVDXG74QXRY8FRH2&marketplace=FLIPKART&page=57',\n",
       " 'https://www.flipkart.com/hp-pavilion-gaming-ryzen-5-quad-core-3550h-8-gb-1-tb-hdd-windows-10-home-4-gb-graphics-nvidia-geforce-gtx-1650-15-ec0101ax-laptop/product-reviews/itma1af6bf593dc8?pid=COMFSFNVDXG74QXR&lid=LSTCOMFSFNVDXG74QXRY8FRH2&marketplace=FLIPKART&page=58',\n",
       " 'https://www.flipkart.com/hp-pavilion-gaming-ryzen-5-quad-core-3550h-8-gb-1-tb-hdd-windows-10-home-4-gb-graphics-nvidia-geforce-gtx-1650-15-ec0101ax-laptop/product-reviews/itma1af6bf593dc8?pid=COMFSFNVDXG74QXR&lid=LSTCOMFSFNVDXG74QXRY8FRH2&marketplace=FLIPKART&page=59',\n",
       " 'https://www.flipkart.com/hp-pavilion-gaming-ryzen-5-quad-core-3550h-8-gb-1-tb-hdd-windows-10-home-4-gb-graphics-nvidia-geforce-gtx-1650-15-ec0101ax-laptop/product-reviews/itma1af6bf593dc8?pid=COMFSFNVDXG74QXR&lid=LSTCOMFSFNVDXG74QXRY8FRH2&marketplace=FLIPKART&page=60',\n",
       " 'https://www.flipkart.com/hp-pavilion-gaming-ryzen-5-quad-core-3550h-8-gb-1-tb-hdd-windows-10-home-4-gb-graphics-nvidia-geforce-gtx-1650-15-ec0101ax-laptop/product-reviews/itma1af6bf593dc8?pid=COMFSFNVDXG74QXR&lid=LSTCOMFSFNVDXG74QXRY8FRH2&marketplace=FLIPKART&page=61',\n",
       " 'https://www.flipkart.com/hp-pavilion-gaming-ryzen-5-quad-core-3550h-8-gb-1-tb-hdd-windows-10-home-4-gb-graphics-nvidia-geforce-gtx-1650-15-ec0101ax-laptop/product-reviews/itma1af6bf593dc8?pid=COMFSFNVDXG74QXR&lid=LSTCOMFSFNVDXG74QXRY8FRH2&marketplace=FLIPKART&page=62',\n",
       " 'https://www.flipkart.com/hp-pavilion-gaming-ryzen-5-quad-core-3550h-8-gb-1-tb-hdd-windows-10-home-4-gb-graphics-nvidia-geforce-gtx-1650-15-ec0101ax-laptop/product-reviews/itma1af6bf593dc8?pid=COMFSFNVDXG74QXR&lid=LSTCOMFSFNVDXG74QXRY8FRH2&marketplace=FLIPKART&page=63',\n",
       " 'https://www.flipkart.com/hp-pavilion-gaming-ryzen-5-quad-core-3550h-8-gb-1-tb-hdd-windows-10-home-4-gb-graphics-nvidia-geforce-gtx-1650-15-ec0101ax-laptop/product-reviews/itma1af6bf593dc8?pid=COMFSFNVDXG74QXR&lid=LSTCOMFSFNVDXG74QXRY8FRH2&marketplace=FLIPKART&page=63',\n",
       " 'https://www.flipkart.com/hp-pavilion-gaming-ryzen-5-quad-core-3550h-8-gb-1-tb-hdd-windows-10-home-4-gb-graphics-nvidia-geforce-gtx-1650-15-ec0101ax-laptop/product-reviews/itma1af6bf593dc8?pid=COMFSFNVDXG74QXR&lid=LSTCOMFSFNVDXG74QXRY8FRH2&marketplace=FLIPKART&page=64',\n",
       " 'https://www.flipkart.com/hp-pavilion-gaming-ryzen-5-quad-core-3550h-8-gb-1-tb-hdd-windows-10-home-4-gb-graphics-nvidia-geforce-gtx-1650-15-ec0101ax-laptop/product-reviews/itma1af6bf593dc8?pid=COMFSFNVDXG74QXR&lid=LSTCOMFSFNVDXG74QXRY8FRH2&marketplace=FLIPKART&page=65',\n",
       " 'https://www.flipkart.com/hp-pavilion-gaming-ryzen-5-quad-core-3550h-8-gb-1-tb-hdd-windows-10-home-4-gb-graphics-nvidia-geforce-gtx-1650-15-ec0101ax-laptop/product-reviews/itma1af6bf593dc8?pid=COMFSFNVDXG74QXR&lid=LSTCOMFSFNVDXG74QXRY8FRH2&marketplace=FLIPKART&page=66',\n",
       " 'https://www.flipkart.com/hp-pavilion-gaming-ryzen-5-quad-core-3550h-8-gb-1-tb-hdd-windows-10-home-4-gb-graphics-nvidia-geforce-gtx-1650-15-ec0101ax-laptop/product-reviews/itma1af6bf593dc8?pid=COMFSFNVDXG74QXR&lid=LSTCOMFSFNVDXG74QXRY8FRH2&marketplace=FLIPKART&page=67',\n",
       " 'https://www.flipkart.com/hp-pavilion-gaming-ryzen-5-quad-core-3550h-8-gb-1-tb-hdd-windows-10-home-4-gb-graphics-nvidia-geforce-gtx-1650-15-ec0101ax-laptop/product-reviews/itma1af6bf593dc8?pid=COMFSFNVDXG74QXR&lid=LSTCOMFSFNVDXG74QXRY8FRH2&marketplace=FLIPKART&page=68',\n",
       " 'https://www.flipkart.com/hp-pavilion-gaming-ryzen-5-quad-core-3550h-8-gb-1-tb-hdd-windows-10-home-4-gb-graphics-nvidia-geforce-gtx-1650-15-ec0101ax-laptop/product-reviews/itma1af6bf593dc8?pid=COMFSFNVDXG74QXR&lid=LSTCOMFSFNVDXG74QXRY8FRH2&marketplace=FLIPKART&page=69',\n",
       " 'https://www.flipkart.com/hp-pavilion-gaming-ryzen-5-quad-core-3550h-8-gb-1-tb-hdd-windows-10-home-4-gb-graphics-nvidia-geforce-gtx-1650-15-ec0101ax-laptop/product-reviews/itma1af6bf593dc8?pid=COMFSFNVDXG74QXR&lid=LSTCOMFSFNVDXG74QXRY8FRH2&marketplace=FLIPKART&page=70',\n",
       " 'https://www.flipkart.com/hp-pavilion-gaming-ryzen-5-quad-core-3550h-8-gb-1-tb-hdd-windows-10-home-4-gb-graphics-nvidia-geforce-gtx-1650-15-ec0101ax-laptop/product-reviews/itma1af6bf593dc8?pid=COMFSFNVDXG74QXR&lid=LSTCOMFSFNVDXG74QXRY8FRH2&marketplace=FLIPKART&page=71',\n",
       " 'https://www.flipkart.com/hp-pavilion-gaming-ryzen-5-quad-core-3550h-8-gb-1-tb-hdd-windows-10-home-4-gb-graphics-nvidia-geforce-gtx-1650-15-ec0101ax-laptop/product-reviews/itma1af6bf593dc8?pid=COMFSFNVDXG74QXR&lid=LSTCOMFSFNVDXG74QXRY8FRH2&marketplace=FLIPKART&page=72',\n",
       " 'https://www.flipkart.com/hp-pavilion-gaming-ryzen-5-quad-core-3550h-8-gb-1-tb-hdd-windows-10-home-4-gb-graphics-nvidia-geforce-gtx-1650-15-ec0101ax-laptop/product-reviews/itma1af6bf593dc8?pid=COMFSFNVDXG74QXR&lid=LSTCOMFSFNVDXG74QXRY8FRH2&marketplace=FLIPKART&page=73',\n",
       " 'https://www.flipkart.com/hp-pavilion-gaming-ryzen-5-quad-core-3550h-8-gb-1-tb-hdd-windows-10-home-4-gb-graphics-nvidia-geforce-gtx-1650-15-ec0101ax-laptop/product-reviews/itma1af6bf593dc8?pid=COMFSFNVDXG74QXR&lid=LSTCOMFSFNVDXG74QXRY8FRH2&marketplace=FLIPKART&page=74',\n",
       " 'https://www.flipkart.com/hp-pavilion-gaming-ryzen-5-quad-core-3550h-8-gb-1-tb-hdd-windows-10-home-4-gb-graphics-nvidia-geforce-gtx-1650-15-ec0101ax-laptop/product-reviews/itma1af6bf593dc8?pid=COMFSFNVDXG74QXR&lid=LSTCOMFSFNVDXG74QXRY8FRH2&marketplace=FLIPKART&page=75',\n",
       " 'https://www.flipkart.com/hp-pavilion-gaming-ryzen-5-quad-core-3550h-8-gb-1-tb-hdd-windows-10-home-4-gb-graphics-nvidia-geforce-gtx-1650-15-ec0101ax-laptop/product-reviews/itma1af6bf593dc8?pid=COMFSFNVDXG74QXR&lid=LSTCOMFSFNVDXG74QXRY8FRH2&marketplace=FLIPKART&page=76',\n",
       " 'https://www.flipkart.com/hp-pavilion-gaming-ryzen-5-quad-core-3550h-8-gb-1-tb-hdd-windows-10-home-4-gb-graphics-nvidia-geforce-gtx-1650-15-ec0101ax-laptop/product-reviews/itma1af6bf593dc8?pid=COMFSFNVDXG74QXR&lid=LSTCOMFSFNVDXG74QXRY8FRH2&marketplace=FLIPKART&page=77',\n",
       " 'https://www.flipkart.com/hp-pavilion-gaming-ryzen-5-quad-core-3550h-8-gb-1-tb-hdd-windows-10-home-4-gb-graphics-nvidia-geforce-gtx-1650-15-ec0101ax-laptop/product-reviews/itma1af6bf593dc8?pid=COMFSFNVDXG74QXR&lid=LSTCOMFSFNVDXG74QXRY8FRH2&marketplace=FLIPKART&page=78',\n",
       " 'https://www.flipkart.com/hp-pavilion-gaming-ryzen-5-quad-core-3550h-8-gb-1-tb-hdd-windows-10-home-4-gb-graphics-nvidia-geforce-gtx-1650-15-ec0101ax-laptop/product-reviews/itma1af6bf593dc8?pid=COMFSFNVDXG74QXR&lid=LSTCOMFSFNVDXG74QXRY8FRH2&marketplace=FLIPKART&page=79',\n",
       " 'https://www.flipkart.com/hp-pavilion-gaming-ryzen-5-quad-core-3550h-8-gb-1-tb-hdd-windows-10-home-4-gb-graphics-nvidia-geforce-gtx-1650-15-ec0101ax-laptop/product-reviews/itma1af6bf593dc8?pid=COMFSFNVDXG74QXR&lid=LSTCOMFSFNVDXG74QXRY8FRH2&marketplace=FLIPKART&page=80',\n",
       " 'https://www.flipkart.com/hp-pavilion-gaming-ryzen-5-quad-core-3550h-8-gb-1-tb-hdd-windows-10-home-4-gb-graphics-nvidia-geforce-gtx-1650-15-ec0101ax-laptop/product-reviews/itma1af6bf593dc8?pid=COMFSFNVDXG74QXR&lid=LSTCOMFSFNVDXG74QXRY8FRH2&marketplace=FLIPKART&page=81',\n",
       " 'https://www.flipkart.com/hp-pavilion-gaming-ryzen-5-quad-core-3550h-8-gb-1-tb-hdd-windows-10-home-4-gb-graphics-nvidia-geforce-gtx-1650-15-ec0101ax-laptop/product-reviews/itma1af6bf593dc8?pid=COMFSFNVDXG74QXR&lid=LSTCOMFSFNVDXG74QXRY8FRH2&marketplace=FLIPKART&page=82',\n",
       " 'https://www.flipkart.com/hp-pavilion-gaming-ryzen-5-quad-core-3550h-8-gb-1-tb-hdd-windows-10-home-4-gb-graphics-nvidia-geforce-gtx-1650-15-ec0101ax-laptop/product-reviews/itma1af6bf593dc8?pid=COMFSFNVDXG74QXR&lid=LSTCOMFSFNVDXG74QXRY8FRH2&marketplace=FLIPKART&page=82',\n",
       " 'https://www.flipkart.com/hp-pavilion-gaming-ryzen-5-quad-core-3550h-8-gb-1-tb-hdd-windows-10-home-4-gb-graphics-nvidia-geforce-gtx-1650-15-ec0101ax-laptop/product-reviews/itma1af6bf593dc8?pid=COMFSFNVDXG74QXR&lid=LSTCOMFSFNVDXG74QXRY8FRH2&marketplace=FLIPKART&page=83',\n",
       " 'https://www.flipkart.com/hp-pavilion-gaming-ryzen-5-quad-core-3550h-8-gb-1-tb-hdd-windows-10-home-4-gb-graphics-nvidia-geforce-gtx-1650-15-ec0101ax-laptop/product-reviews/itma1af6bf593dc8?pid=COMFSFNVDXG74QXR&lid=LSTCOMFSFNVDXG74QXRY8FRH2&marketplace=FLIPKART&page=83',\n",
       " 'https://www.flipkart.com/hp-pavilion-gaming-ryzen-5-quad-core-3550h-8-gb-1-tb-hdd-windows-10-home-4-gb-graphics-nvidia-geforce-gtx-1650-15-ec0101ax-laptop/product-reviews/itma1af6bf593dc8?pid=COMFSFNVDXG74QXR&lid=LSTCOMFSFNVDXG74QXRY8FRH2&marketplace=FLIPKART&page=84',\n",
       " 'https://www.flipkart.com/hp-pavilion-gaming-ryzen-5-quad-core-3550h-8-gb-1-tb-hdd-windows-10-home-4-gb-graphics-nvidia-geforce-gtx-1650-15-ec0101ax-laptop/product-reviews/itma1af6bf593dc8?pid=COMFSFNVDXG74QXR&lid=LSTCOMFSFNVDXG74QXRY8FRH2&marketplace=FLIPKART&page=85',\n",
       " 'https://www.flipkart.com/hp-pavilion-gaming-ryzen-5-quad-core-3550h-8-gb-1-tb-hdd-windows-10-home-4-gb-graphics-nvidia-geforce-gtx-1650-15-ec0101ax-laptop/product-reviews/itma1af6bf593dc8?pid=COMFSFNVDXG74QXR&lid=LSTCOMFSFNVDXG74QXRY8FRH2&marketplace=FLIPKART&page=86',\n",
       " 'https://www.flipkart.com/hp-pavilion-gaming-ryzen-5-quad-core-3550h-8-gb-1-tb-hdd-windows-10-home-4-gb-graphics-nvidia-geforce-gtx-1650-15-ec0101ax-laptop/product-reviews/itma1af6bf593dc8?pid=COMFSFNVDXG74QXR&lid=LSTCOMFSFNVDXG74QXRY8FRH2&marketplace=FLIPKART&page=87',\n",
       " 'https://www.flipkart.com/hp-pavilion-gaming-ryzen-5-quad-core-3550h-8-gb-1-tb-hdd-windows-10-home-4-gb-graphics-nvidia-geforce-gtx-1650-15-ec0101ax-laptop/product-reviews/itma1af6bf593dc8?pid=COMFSFNVDXG74QXR&lid=LSTCOMFSFNVDXG74QXRY8FRH2&marketplace=FLIPKART&page=88',\n",
       " 'https://www.flipkart.com/hp-pavilion-gaming-ryzen-5-quad-core-3550h-8-gb-1-tb-hdd-windows-10-home-4-gb-graphics-nvidia-geforce-gtx-1650-15-ec0101ax-laptop/product-reviews/itma1af6bf593dc8?pid=COMFSFNVDXG74QXR&lid=LSTCOMFSFNVDXG74QXRY8FRH2&marketplace=FLIPKART&page=89',\n",
       " 'https://www.flipkart.com/hp-pavilion-gaming-ryzen-5-quad-core-3550h-8-gb-1-tb-hdd-windows-10-home-4-gb-graphics-nvidia-geforce-gtx-1650-15-ec0101ax-laptop/product-reviews/itma1af6bf593dc8?pid=COMFSFNVDXG74QXR&lid=LSTCOMFSFNVDXG74QXRY8FRH2&marketplace=FLIPKART&page=90',\n",
       " 'https://www.flipkart.com/hp-pavilion-gaming-ryzen-5-quad-core-3550h-8-gb-1-tb-hdd-windows-10-home-4-gb-graphics-nvidia-geforce-gtx-1650-15-ec0101ax-laptop/product-reviews/itma1af6bf593dc8?pid=COMFSFNVDXG74QXR&lid=LSTCOMFSFNVDXG74QXRY8FRH2&marketplace=FLIPKART&page=91',\n",
       " 'https://www.flipkart.com/hp-pavilion-gaming-ryzen-5-quad-core-3550h-8-gb-1-tb-hdd-windows-10-home-4-gb-graphics-nvidia-geforce-gtx-1650-15-ec0101ax-laptop/product-reviews/itma1af6bf593dc8?pid=COMFSFNVDXG74QXR&lid=LSTCOMFSFNVDXG74QXRY8FRH2&marketplace=FLIPKART&page=92',\n",
       " 'https://www.flipkart.com/hp-pavilion-gaming-ryzen-5-quad-core-3550h-8-gb-1-tb-hdd-windows-10-home-4-gb-graphics-nvidia-geforce-gtx-1650-15-ec0101ax-laptop/product-reviews/itma1af6bf593dc8?pid=COMFSFNVDXG74QXR&lid=LSTCOMFSFNVDXG74QXRY8FRH2&marketplace=FLIPKART&page=93',\n",
       " 'https://www.flipkart.com/hp-pavilion-gaming-ryzen-5-quad-core-3550h-8-gb-1-tb-hdd-windows-10-home-4-gb-graphics-nvidia-geforce-gtx-1650-15-ec0101ax-laptop/product-reviews/itma1af6bf593dc8?pid=COMFSFNVDXG74QXR&lid=LSTCOMFSFNVDXG74QXRY8FRH2&marketplace=FLIPKART&page=94',\n",
       " 'https://www.flipkart.com/hp-pavilion-gaming-ryzen-5-quad-core-3550h-8-gb-1-tb-hdd-windows-10-home-4-gb-graphics-nvidia-geforce-gtx-1650-15-ec0101ax-laptop/product-reviews/itma1af6bf593dc8?pid=COMFSFNVDXG74QXR&lid=LSTCOMFSFNVDXG74QXRY8FRH2&marketplace=FLIPKART&page=94',\n",
       " 'https://www.flipkart.com/hp-pavilion-gaming-ryzen-5-quad-core-3550h-8-gb-1-tb-hdd-windows-10-home-4-gb-graphics-nvidia-geforce-gtx-1650-15-ec0101ax-laptop/product-reviews/itma1af6bf593dc8?pid=COMFSFNVDXG74QXR&lid=LSTCOMFSFNVDXG74QXRY8FRH2&marketplace=FLIPKART&page=95',\n",
       " 'https://www.flipkart.com/hp-pavilion-gaming-ryzen-5-quad-core-3550h-8-gb-1-tb-hdd-windows-10-home-4-gb-graphics-nvidia-geforce-gtx-1650-15-ec0101ax-laptop/product-reviews/itma1af6bf593dc8?pid=COMFSFNVDXG74QXR&lid=LSTCOMFSFNVDXG74QXRY8FRH2&marketplace=FLIPKART&page=96',\n",
       " 'https://www.flipkart.com/hp-pavilion-gaming-ryzen-5-quad-core-3550h-8-gb-1-tb-hdd-windows-10-home-4-gb-graphics-nvidia-geforce-gtx-1650-15-ec0101ax-laptop/product-reviews/itma1af6bf593dc8?pid=COMFSFNVDXG74QXR&lid=LSTCOMFSFNVDXG74QXRY8FRH2&marketplace=FLIPKART&page=97',\n",
       " 'https://www.flipkart.com/hp-pavilion-gaming-ryzen-5-quad-core-3550h-8-gb-1-tb-hdd-windows-10-home-4-gb-graphics-nvidia-geforce-gtx-1650-15-ec0101ax-laptop/product-reviews/itma1af6bf593dc8?pid=COMFSFNVDXG74QXR&lid=LSTCOMFSFNVDXG74QXRY8FRH2&marketplace=FLIPKART&page=98',\n",
       " 'https://www.flipkart.com/hp-pavilion-gaming-ryzen-5-quad-core-3550h-8-gb-1-tb-hdd-windows-10-home-4-gb-graphics-nvidia-geforce-gtx-1650-15-ec0101ax-laptop/product-reviews/itma1af6bf593dc8?pid=COMFSFNVDXG74QXR&lid=LSTCOMFSFNVDXG74QXRY8FRH2&marketplace=FLIPKART&page=99',\n",
       " 'https://www.flipkart.com/hp-pavilion-gaming-ryzen-5-quad-core-3550h-8-gb-1-tb-hdd-windows-10-home-4-gb-graphics-nvidia-geforce-gtx-1650-15-ec0101ax-laptop/product-reviews/itma1af6bf593dc8?pid=COMFSFNVDXG74QXR&lid=LSTCOMFSFNVDXG74QXRY8FRH2&marketplace=FLIPKART&page=100',\n",
       " 'https://www.flipkart.com/hp-pavilion-gaming-ryzen-5-quad-core-3550h-8-gb-1-tb-hdd-windows-10-home-4-gb-graphics-nvidia-geforce-gtx-1650-15-ec0101ax-laptop/product-reviews/itma1af6bf593dc8?pid=COMFSFNVDXG74QXR&lid=LSTCOMFSFNVDXG74QXRY8FRH2&marketplace=FLIPKART&page=101',\n",
       " 'https://www.flipkart.com/hp-pavilion-gaming-ryzen-5-quad-core-3550h-8-gb-1-tb-hdd-windows-10-home-4-gb-graphics-nvidia-geforce-gtx-1650-15-ec0101ax-laptop/product-reviews/itma1af6bf593dc8?pid=COMFSFNVDXG74QXR&lid=LSTCOMFSFNVDXG74QXRY8FRH2&marketplace=FLIPKART&page=102',\n",
       " 'https://www.flipkart.com/hp-pavilion-gaming-ryzen-5-quad-core-3550h-8-gb-1-tb-hdd-windows-10-home-4-gb-graphics-nvidia-geforce-gtx-1650-15-ec0101ax-laptop/product-reviews/itma1af6bf593dc8?pid=COMFSFNVDXG74QXR&lid=LSTCOMFSFNVDXG74QXRY8FRH2&marketplace=FLIPKART&page=103',\n",
       " 'https://www.flipkart.com/hp-pavilion-gaming-ryzen-5-quad-core-3550h-8-gb-1-tb-hdd-windows-10-home-4-gb-graphics-nvidia-geforce-gtx-1650-15-ec0101ax-laptop/product-reviews/itma1af6bf593dc8?pid=COMFSFNVDXG74QXR&lid=LSTCOMFSFNVDXG74QXRY8FRH2&marketplace=FLIPKART&page=104',\n",
       " 'https://www.flipkart.com/hp-pavilion-gaming-ryzen-5-quad-core-3550h-8-gb-1-tb-hdd-windows-10-home-4-gb-graphics-nvidia-geforce-gtx-1650-15-ec0101ax-laptop/product-reviews/itma1af6bf593dc8?pid=COMFSFNVDXG74QXR&lid=LSTCOMFSFNVDXG74QXRY8FRH2&marketplace=FLIPKART&page=105',\n",
       " 'https://www.flipkart.com/hp-pavilion-gaming-ryzen-5-quad-core-3550h-8-gb-1-tb-hdd-windows-10-home-4-gb-graphics-nvidia-geforce-gtx-1650-15-ec0101ax-laptop/product-reviews/itma1af6bf593dc8?pid=COMFSFNVDXG74QXR&lid=LSTCOMFSFNVDXG74QXRY8FRH2&marketplace=FLIPKART&page=106',\n",
       " 'https://www.flipkart.com/hp-pavilion-gaming-ryzen-5-quad-core-3550h-8-gb-1-tb-hdd-windows-10-home-4-gb-graphics-nvidia-geforce-gtx-1650-15-ec0101ax-laptop/product-reviews/itma1af6bf593dc8?pid=COMFSFNVDXG74QXR&lid=LSTCOMFSFNVDXG74QXRY8FRH2&marketplace=FLIPKART&page=106',\n",
       " 'https://www.flipkart.com/hp-pavilion-gaming-ryzen-5-quad-core-3550h-8-gb-1-tb-hdd-windows-10-home-4-gb-graphics-nvidia-geforce-gtx-1650-15-ec0101ax-laptop/product-reviews/itma1af6bf593dc8?pid=COMFSFNVDXG74QXR&lid=LSTCOMFSFNVDXG74QXRY8FRH2&marketplace=FLIPKART&page=106',\n",
       " 'https://www.flipkart.com/hp-pavilion-gaming-ryzen-5-quad-core-3550h-8-gb-1-tb-hdd-windows-10-home-4-gb-graphics-nvidia-geforce-gtx-1650-15-ec0101ax-laptop/product-reviews/itma1af6bf593dc8?pid=COMFSFNVDXG74QXR&lid=LSTCOMFSFNVDXG74QXRY8FRH2&marketplace=FLIPKART&page=106',\n",
       " 'https://www.flipkart.com/hp-pavilion-gaming-ryzen-5-quad-core-3550h-8-gb-1-tb-hdd-windows-10-home-4-gb-graphics-nvidia-geforce-gtx-1650-15-ec0101ax-laptop/product-reviews/itma1af6bf593dc8?pid=COMFSFNVDXG74QXR&lid=LSTCOMFSFNVDXG74QXRY8FRH2&marketplace=FLIPKART&page=106',\n",
       " 'https://www.flipkart.com/hp-pavilion-gaming-ryzen-5-quad-core-3550h-8-gb-1-tb-hdd-windows-10-home-4-gb-graphics-nvidia-geforce-gtx-1650-15-ec0101ax-laptop/product-reviews/itma1af6bf593dc8?pid=COMFSFNVDXG74QXR&lid=LSTCOMFSFNVDXG74QXRY8FRH2&marketplace=FLIPKART&page=106',\n",
       " 'https://www.flipkart.com/hp-pavilion-gaming-ryzen-5-quad-core-3550h-8-gb-1-tb-hdd-windows-10-home-4-gb-graphics-nvidia-geforce-gtx-1650-15-ec0101ax-laptop/product-reviews/itma1af6bf593dc8?pid=COMFSFNVDXG74QXR&lid=LSTCOMFSFNVDXG74QXRY8FRH2&marketplace=FLIPKART&page=106',\n",
       " 'https://www.flipkart.com/hp-pavilion-gaming-ryzen-5-quad-core-3550h-8-gb-1-tb-hdd-windows-10-home-4-gb-graphics-nvidia-geforce-gtx-1650-15-ec0101ax-laptop/product-reviews/itma1af6bf593dc8?pid=COMFSFNVDXG74QXR&lid=LSTCOMFSFNVDXG74QXRY8FRH2&marketplace=FLIPKART&page=106',\n",
       " 'https://www.flipkart.com/hp-pavilion-gaming-ryzen-5-quad-core-3550h-8-gb-1-tb-hdd-windows-10-home-4-gb-graphics-nvidia-geforce-gtx-1650-15-ec0101ax-laptop/product-reviews/itma1af6bf593dc8?pid=COMFSFNVDXG74QXR&lid=LSTCOMFSFNVDXG74QXRY8FRH2&marketplace=FLIPKART&page=106',\n",
       " 'https://www.flipkart.com/hp-pavilion-gaming-ryzen-5-quad-core-3550h-8-gb-1-tb-hdd-windows-10-home-4-gb-graphics-nvidia-geforce-gtx-1650-15-ec0101ax-laptop/product-reviews/itma1af6bf593dc8?pid=COMFSFNVDXG74QXR&lid=LSTCOMFSFNVDXG74QXRY8FRH2&marketplace=FLIPKART&page=106',\n",
       " 'https://www.flipkart.com/hp-pavilion-gaming-ryzen-5-quad-core-3550h-8-gb-1-tb-hdd-windows-10-home-4-gb-graphics-nvidia-geforce-gtx-1650-15-ec0101ax-laptop/product-reviews/itma1af6bf593dc8?pid=COMFSFNVDXG74QXR&lid=LSTCOMFSFNVDXG74QXRY8FRH2&marketplace=FLIPKART&page=106',\n",
       " 'https://www.flipkart.com/hp-pavilion-gaming-ryzen-5-quad-core-3550h-8-gb-1-tb-hdd-windows-10-home-4-gb-graphics-nvidia-geforce-gtx-1650-15-ec0101ax-laptop/product-reviews/itma1af6bf593dc8?pid=COMFSFNVDXG74QXR&lid=LSTCOMFSFNVDXG74QXRY8FRH2&marketplace=FLIPKART&page=106',\n",
       " 'https://www.flipkart.com/hp-pavilion-gaming-ryzen-5-quad-core-3550h-8-gb-1-tb-hdd-windows-10-home-4-gb-graphics-nvidia-geforce-gtx-1650-15-ec0101ax-laptop/product-reviews/itma1af6bf593dc8?pid=COMFSFNVDXG74QXR&lid=LSTCOMFSFNVDXG74QXRY8FRH2&marketplace=FLIPKART&page=106',\n",
       " 'https://www.flipkart.com/hp-pavilion-gaming-ryzen-5-quad-core-3550h-8-gb-1-tb-hdd-windows-10-home-4-gb-graphics-nvidia-geforce-gtx-1650-15-ec0101ax-laptop/product-reviews/itma1af6bf593dc8?pid=COMFSFNVDXG74QXR&lid=LSTCOMFSFNVDXG74QXRY8FRH2&marketplace=FLIPKART&page=106',\n",
       " 'https://www.flipkart.com/hp-pavilion-gaming-ryzen-5-quad-core-3550h-8-gb-1-tb-hdd-windows-10-home-4-gb-graphics-nvidia-geforce-gtx-1650-15-ec0101ax-laptop/product-reviews/itma1af6bf593dc8?pid=COMFSFNVDXG74QXR&lid=LSTCOMFSFNVDXG74QXRY8FRH2&marketplace=FLIPKART&page=106',\n",
       " 'https://www.flipkart.com/hp-pavilion-gaming-ryzen-5-quad-core-3550h-8-gb-1-tb-hdd-windows-10-home-4-gb-graphics-nvidia-geforce-gtx-1650-15-ec0101ax-laptop/product-reviews/itma1af6bf593dc8?pid=COMFSFNVDXG74QXR&lid=LSTCOMFSFNVDXG74QXRY8FRH2&marketplace=FLIPKART&page=106',\n",
       " 'https://www.flipkart.com/hp-pavilion-gaming-ryzen-5-quad-core-3550h-8-gb-1-tb-hdd-windows-10-home-4-gb-graphics-nvidia-geforce-gtx-1650-15-ec0101ax-laptop/product-reviews/itma1af6bf593dc8?pid=COMFSFNVDXG74QXR&lid=LSTCOMFSFNVDXG74QXRY8FRH2&marketplace=FLIPKART&page=106',\n",
       " 'https://www.flipkart.com/hp-pavilion-gaming-ryzen-5-quad-core-3550h-8-gb-1-tb-hdd-windows-10-home-4-gb-graphics-nvidia-geforce-gtx-1650-15-ec0101ax-laptop/product-reviews/itma1af6bf593dc8?pid=COMFSFNVDXG74QXR&lid=LSTCOMFSFNVDXG74QXRY8FRH2&marketplace=FLIPKART&page=106',\n",
       " 'https://www.flipkart.com/hp-pavilion-gaming-ryzen-5-quad-core-3550h-8-gb-1-tb-hdd-windows-10-home-4-gb-graphics-nvidia-geforce-gtx-1650-15-ec0101ax-laptop/product-reviews/itma1af6bf593dc8?pid=COMFSFNVDXG74QXR&lid=LSTCOMFSFNVDXG74QXRY8FRH2&marketplace=FLIPKART&page=106',\n",
       " 'https://www.flipkart.com/hp-pavilion-gaming-ryzen-5-quad-core-3550h-8-gb-1-tb-hdd-windows-10-home-4-gb-graphics-nvidia-geforce-gtx-1650-15-ec0101ax-laptop/product-reviews/itma1af6bf593dc8?pid=COMFSFNVDXG74QXR&lid=LSTCOMFSFNVDXG74QXRY8FRH2&marketplace=FLIPKART&page=106',\n",
       " 'https://www.flipkart.com/hp-pavilion-gaming-ryzen-5-quad-core-3550h-8-gb-1-tb-hdd-windows-10-home-4-gb-graphics-nvidia-geforce-gtx-1650-15-ec0101ax-laptop/product-reviews/itma1af6bf593dc8?pid=COMFSFNVDXG74QXR&lid=LSTCOMFSFNVDXG74QXRY8FRH2&marketplace=FLIPKART&page=106',\n",
       " 'https://www.flipkart.com/hp-pavilion-gaming-ryzen-5-quad-core-3550h-8-gb-1-tb-hdd-windows-10-home-4-gb-graphics-nvidia-geforce-gtx-1650-15-ec0101ax-laptop/product-reviews/itma1af6bf593dc8?pid=COMFSFNVDXG74QXR&lid=LSTCOMFSFNVDXG74QXRY8FRH2&marketplace=FLIPKART&page=106',\n",
       " 'https://www.flipkart.com/hp-pavilion-gaming-ryzen-5-quad-core-3550h-8-gb-1-tb-hdd-windows-10-home-4-gb-graphics-nvidia-geforce-gtx-1650-15-ec0101ax-laptop/product-reviews/itma1af6bf593dc8?pid=COMFSFNVDXG74QXR&lid=LSTCOMFSFNVDXG74QXRY8FRH2&marketplace=FLIPKART&page=106',\n",
       " 'https://www.flipkart.com/hp-pavilion-gaming-ryzen-5-quad-core-3550h-8-gb-1-tb-hdd-windows-10-home-4-gb-graphics-nvidia-geforce-gtx-1650-15-ec0101ax-laptop/product-reviews/itma1af6bf593dc8?pid=COMFSFNVDXG74QXR&lid=LSTCOMFSFNVDXG74QXRY8FRH2&marketplace=FLIPKART&page=106',\n",
       " 'https://www.flipkart.com/hp-pavilion-gaming-ryzen-5-quad-core-3550h-8-gb-1-tb-hdd-windows-10-home-4-gb-graphics-nvidia-geforce-gtx-1650-15-ec0101ax-laptop/product-reviews/itma1af6bf593dc8?pid=COMFSFNVDXG74QXR&lid=LSTCOMFSFNVDXG74QXRY8FRH2&marketplace=FLIPKART&page=106',\n",
       " 'https://www.flipkart.com/hp-pavilion-gaming-ryzen-5-quad-core-3550h-8-gb-1-tb-hdd-windows-10-home-4-gb-graphics-nvidia-geforce-gtx-1650-15-ec0101ax-laptop/product-reviews/itma1af6bf593dc8?pid=COMFSFNVDXG74QXR&lid=LSTCOMFSFNVDXG74QXRY8FRH2&marketplace=FLIPKART&page=106',\n",
       " 'https://www.flipkart.com/hp-pavilion-gaming-ryzen-5-quad-core-3550h-8-gb-1-tb-hdd-windows-10-home-4-gb-graphics-nvidia-geforce-gtx-1650-15-ec0101ax-laptop/product-reviews/itma1af6bf593dc8?pid=COMFSFNVDXG74QXR&lid=LSTCOMFSFNVDXG74QXRY8FRH2&marketplace=FLIPKART&page=106',\n",
       " 'https://www.flipkart.com/hp-pavilion-gaming-ryzen-5-quad-core-3550h-8-gb-1-tb-hdd-windows-10-home-4-gb-graphics-nvidia-geforce-gtx-1650-15-ec0101ax-laptop/product-reviews/itma1af6bf593dc8?pid=COMFSFNVDXG74QXR&lid=LSTCOMFSFNVDXG74QXRY8FRH2&marketplace=FLIPKART&page=106',\n",
       " 'https://www.flipkart.com/hp-pavilion-gaming-ryzen-5-quad-core-3550h-8-gb-1-tb-hdd-windows-10-home-4-gb-graphics-nvidia-geforce-gtx-1650-15-ec0101ax-laptop/product-reviews/itma1af6bf593dc8?pid=COMFSFNVDXG74QXR&lid=LSTCOMFSFNVDXG74QXRY8FRH2&marketplace=FLIPKART&page=106',\n",
       " 'https://www.flipkart.com/hp-pavilion-gaming-ryzen-5-quad-core-3550h-8-gb-1-tb-hdd-windows-10-home-4-gb-graphics-nvidia-geforce-gtx-1650-15-ec0101ax-laptop/product-reviews/itma1af6bf593dc8?pid=COMFSFNVDXG74QXR&lid=LSTCOMFSFNVDXG74QXRY8FRH2&marketplace=FLIPKART&page=106',\n",
       " 'https://www.flipkart.com/hp-pavilion-gaming-ryzen-5-quad-core-3550h-8-gb-1-tb-hdd-windows-10-home-4-gb-graphics-nvidia-geforce-gtx-1650-15-ec0101ax-laptop/product-reviews/itma1af6bf593dc8?pid=COMFSFNVDXG74QXR&lid=LSTCOMFSFNVDXG74QXRY8FRH2&marketplace=FLIPKART&page=106',\n",
       " 'https://www.flipkart.com/hp-pavilion-gaming-ryzen-5-quad-core-3550h-8-gb-1-tb-hdd-windows-10-home-4-gb-graphics-nvidia-geforce-gtx-1650-15-ec0101ax-laptop/product-reviews/itma1af6bf593dc8?pid=COMFSFNVDXG74QXR&lid=LSTCOMFSFNVDXG74QXRY8FRH2&marketplace=FLIPKART&page=106',\n",
       " 'https://www.flipkart.com/hp-pavilion-gaming-ryzen-5-quad-core-3550h-8-gb-1-tb-hdd-windows-10-home-4-gb-graphics-nvidia-geforce-gtx-1650-15-ec0101ax-laptop/product-reviews/itma1af6bf593dc8?pid=COMFSFNVDXG74QXR&lid=LSTCOMFSFNVDXG74QXRY8FRH2&marketplace=FLIPKART&page=106',\n",
       " 'https://www.flipkart.com/hp-pavilion-gaming-ryzen-5-quad-core-3550h-8-gb-1-tb-hdd-windows-10-home-4-gb-graphics-nvidia-geforce-gtx-1650-15-ec0101ax-laptop/product-reviews/itma1af6bf593dc8?pid=COMFSFNVDXG74QXR&lid=LSTCOMFSFNVDXG74QXRY8FRH2&marketplace=FLIPKART&page=106',\n",
       " 'https://www.flipkart.com/hp-pavilion-gaming-ryzen-5-quad-core-3550h-8-gb-1-tb-hdd-windows-10-home-4-gb-graphics-nvidia-geforce-gtx-1650-15-ec0101ax-laptop/product-reviews/itma1af6bf593dc8?pid=COMFSFNVDXG74QXR&lid=LSTCOMFSFNVDXG74QXRY8FRH2&marketplace=FLIPKART&page=106',\n",
       " 'https://www.flipkart.com/hp-pavilion-gaming-ryzen-5-quad-core-3550h-8-gb-1-tb-hdd-windows-10-home-4-gb-graphics-nvidia-geforce-gtx-1650-15-ec0101ax-laptop/product-reviews/itma1af6bf593dc8?pid=COMFSFNVDXG74QXR&lid=LSTCOMFSFNVDXG74QXRY8FRH2&marketplace=FLIPKART&page=106',\n",
       " 'https://www.flipkart.com/hp-pavilion-gaming-ryzen-5-quad-core-3550h-8-gb-1-tb-hdd-windows-10-home-4-gb-graphics-nvidia-geforce-gtx-1650-15-ec0101ax-laptop/product-reviews/itma1af6bf593dc8?pid=COMFSFNVDXG74QXR&lid=LSTCOMFSFNVDXG74QXRY8FRH2&marketplace=FLIPKART&page=106']"
      ]
     },
     "execution_count": 12,
     "metadata": {},
     "output_type": "execute_result"
    }
   ],
   "source": [
    "URL"
   ]
  },
  {
   "cell_type": "code",
   "execution_count": 13,
   "metadata": {},
   "outputs": [
    {
     "data": {
      "text/plain": [
       "147"
      ]
     },
     "execution_count": 13,
     "metadata": {},
     "output_type": "execute_result"
    }
   ],
   "source": [
    "len(URL)"
   ]
  },
  {
   "cell_type": "code",
   "execution_count": 14,
   "metadata": {},
   "outputs": [],
   "source": [
    "List_of_url = []\n",
    "for i in URL:\n",
    "    if i not in List_of_url:\n",
    "        List_of_url.append(i)"
   ]
  },
  {
   "cell_type": "code",
   "execution_count": 15,
   "metadata": {},
   "outputs": [
    {
     "data": {
      "text/plain": [
       "106"
      ]
     },
     "execution_count": 15,
     "metadata": {},
     "output_type": "execute_result"
    }
   ],
   "source": [
    "len(List_of_url)"
   ]
  },
  {
   "cell_type": "code",
   "execution_count": 16,
   "metadata": {},
   "outputs": [
    {
     "data": {
      "text/plain": [
       "['https://www.flipkart.com/hp-pavilion-gaming-ryzen-5-quad-core-3550h-8-gb-1-tb-hdd-windows-10-home-4-gb-graphics-nvidia-geforce-gtx-1650-15-ec0101ax-laptop/product-reviews/itma1af6bf593dc8?pid=COMFSFNVDXG74QXR&lid=LSTCOMFSFNVDXG74QXRY8FRH2&marketplace=FLIPKART&page=1',\n",
       " 'https://www.flipkart.com/hp-pavilion-gaming-ryzen-5-quad-core-3550h-8-gb-1-tb-hdd-windows-10-home-4-gb-graphics-nvidia-geforce-gtx-1650-15-ec0101ax-laptop/product-reviews/itma1af6bf593dc8?pid=COMFSFNVDXG74QXR&lid=LSTCOMFSFNVDXG74QXRY8FRH2&marketplace=FLIPKART&page=2',\n",
       " 'https://www.flipkart.com/hp-pavilion-gaming-ryzen-5-quad-core-3550h-8-gb-1-tb-hdd-windows-10-home-4-gb-graphics-nvidia-geforce-gtx-1650-15-ec0101ax-laptop/product-reviews/itma1af6bf593dc8?pid=COMFSFNVDXG74QXR&lid=LSTCOMFSFNVDXG74QXRY8FRH2&marketplace=FLIPKART&page=3',\n",
       " 'https://www.flipkart.com/hp-pavilion-gaming-ryzen-5-quad-core-3550h-8-gb-1-tb-hdd-windows-10-home-4-gb-graphics-nvidia-geforce-gtx-1650-15-ec0101ax-laptop/product-reviews/itma1af6bf593dc8?pid=COMFSFNVDXG74QXR&lid=LSTCOMFSFNVDXG74QXRY8FRH2&marketplace=FLIPKART&page=4',\n",
       " 'https://www.flipkart.com/hp-pavilion-gaming-ryzen-5-quad-core-3550h-8-gb-1-tb-hdd-windows-10-home-4-gb-graphics-nvidia-geforce-gtx-1650-15-ec0101ax-laptop/product-reviews/itma1af6bf593dc8?pid=COMFSFNVDXG74QXR&lid=LSTCOMFSFNVDXG74QXRY8FRH2&marketplace=FLIPKART&page=5',\n",
       " 'https://www.flipkart.com/hp-pavilion-gaming-ryzen-5-quad-core-3550h-8-gb-1-tb-hdd-windows-10-home-4-gb-graphics-nvidia-geforce-gtx-1650-15-ec0101ax-laptop/product-reviews/itma1af6bf593dc8?pid=COMFSFNVDXG74QXR&lid=LSTCOMFSFNVDXG74QXRY8FRH2&marketplace=FLIPKART&page=6',\n",
       " 'https://www.flipkart.com/hp-pavilion-gaming-ryzen-5-quad-core-3550h-8-gb-1-tb-hdd-windows-10-home-4-gb-graphics-nvidia-geforce-gtx-1650-15-ec0101ax-laptop/product-reviews/itma1af6bf593dc8?pid=COMFSFNVDXG74QXR&lid=LSTCOMFSFNVDXG74QXRY8FRH2&marketplace=FLIPKART&page=7',\n",
       " 'https://www.flipkart.com/hp-pavilion-gaming-ryzen-5-quad-core-3550h-8-gb-1-tb-hdd-windows-10-home-4-gb-graphics-nvidia-geforce-gtx-1650-15-ec0101ax-laptop/product-reviews/itma1af6bf593dc8?pid=COMFSFNVDXG74QXR&lid=LSTCOMFSFNVDXG74QXRY8FRH2&marketplace=FLIPKART&page=8',\n",
       " 'https://www.flipkart.com/hp-pavilion-gaming-ryzen-5-quad-core-3550h-8-gb-1-tb-hdd-windows-10-home-4-gb-graphics-nvidia-geforce-gtx-1650-15-ec0101ax-laptop/product-reviews/itma1af6bf593dc8?pid=COMFSFNVDXG74QXR&lid=LSTCOMFSFNVDXG74QXRY8FRH2&marketplace=FLIPKART&page=9',\n",
       " 'https://www.flipkart.com/hp-pavilion-gaming-ryzen-5-quad-core-3550h-8-gb-1-tb-hdd-windows-10-home-4-gb-graphics-nvidia-geforce-gtx-1650-15-ec0101ax-laptop/product-reviews/itma1af6bf593dc8?pid=COMFSFNVDXG74QXR&lid=LSTCOMFSFNVDXG74QXRY8FRH2&marketplace=FLIPKART&page=10',\n",
       " 'https://www.flipkart.com/hp-pavilion-gaming-ryzen-5-quad-core-3550h-8-gb-1-tb-hdd-windows-10-home-4-gb-graphics-nvidia-geforce-gtx-1650-15-ec0101ax-laptop/product-reviews/itma1af6bf593dc8?pid=COMFSFNVDXG74QXR&lid=LSTCOMFSFNVDXG74QXRY8FRH2&marketplace=FLIPKART&page=11',\n",
       " 'https://www.flipkart.com/hp-pavilion-gaming-ryzen-5-quad-core-3550h-8-gb-1-tb-hdd-windows-10-home-4-gb-graphics-nvidia-geforce-gtx-1650-15-ec0101ax-laptop/product-reviews/itma1af6bf593dc8?pid=COMFSFNVDXG74QXR&lid=LSTCOMFSFNVDXG74QXRY8FRH2&marketplace=FLIPKART&page=12',\n",
       " 'https://www.flipkart.com/hp-pavilion-gaming-ryzen-5-quad-core-3550h-8-gb-1-tb-hdd-windows-10-home-4-gb-graphics-nvidia-geforce-gtx-1650-15-ec0101ax-laptop/product-reviews/itma1af6bf593dc8?pid=COMFSFNVDXG74QXR&lid=LSTCOMFSFNVDXG74QXRY8FRH2&marketplace=FLIPKART&page=13',\n",
       " 'https://www.flipkart.com/hp-pavilion-gaming-ryzen-5-quad-core-3550h-8-gb-1-tb-hdd-windows-10-home-4-gb-graphics-nvidia-geforce-gtx-1650-15-ec0101ax-laptop/product-reviews/itma1af6bf593dc8?pid=COMFSFNVDXG74QXR&lid=LSTCOMFSFNVDXG74QXRY8FRH2&marketplace=FLIPKART&page=14',\n",
       " 'https://www.flipkart.com/hp-pavilion-gaming-ryzen-5-quad-core-3550h-8-gb-1-tb-hdd-windows-10-home-4-gb-graphics-nvidia-geforce-gtx-1650-15-ec0101ax-laptop/product-reviews/itma1af6bf593dc8?pid=COMFSFNVDXG74QXR&lid=LSTCOMFSFNVDXG74QXRY8FRH2&marketplace=FLIPKART&page=15',\n",
       " 'https://www.flipkart.com/hp-pavilion-gaming-ryzen-5-quad-core-3550h-8-gb-1-tb-hdd-windows-10-home-4-gb-graphics-nvidia-geforce-gtx-1650-15-ec0101ax-laptop/product-reviews/itma1af6bf593dc8?pid=COMFSFNVDXG74QXR&lid=LSTCOMFSFNVDXG74QXRY8FRH2&marketplace=FLIPKART&page=16',\n",
       " 'https://www.flipkart.com/hp-pavilion-gaming-ryzen-5-quad-core-3550h-8-gb-1-tb-hdd-windows-10-home-4-gb-graphics-nvidia-geforce-gtx-1650-15-ec0101ax-laptop/product-reviews/itma1af6bf593dc8?pid=COMFSFNVDXG74QXR&lid=LSTCOMFSFNVDXG74QXRY8FRH2&marketplace=FLIPKART&page=17',\n",
       " 'https://www.flipkart.com/hp-pavilion-gaming-ryzen-5-quad-core-3550h-8-gb-1-tb-hdd-windows-10-home-4-gb-graphics-nvidia-geforce-gtx-1650-15-ec0101ax-laptop/product-reviews/itma1af6bf593dc8?pid=COMFSFNVDXG74QXR&lid=LSTCOMFSFNVDXG74QXRY8FRH2&marketplace=FLIPKART&page=18',\n",
       " 'https://www.flipkart.com/hp-pavilion-gaming-ryzen-5-quad-core-3550h-8-gb-1-tb-hdd-windows-10-home-4-gb-graphics-nvidia-geforce-gtx-1650-15-ec0101ax-laptop/product-reviews/itma1af6bf593dc8?pid=COMFSFNVDXG74QXR&lid=LSTCOMFSFNVDXG74QXRY8FRH2&marketplace=FLIPKART&page=19',\n",
       " 'https://www.flipkart.com/hp-pavilion-gaming-ryzen-5-quad-core-3550h-8-gb-1-tb-hdd-windows-10-home-4-gb-graphics-nvidia-geforce-gtx-1650-15-ec0101ax-laptop/product-reviews/itma1af6bf593dc8?pid=COMFSFNVDXG74QXR&lid=LSTCOMFSFNVDXG74QXRY8FRH2&marketplace=FLIPKART&page=20',\n",
       " 'https://www.flipkart.com/hp-pavilion-gaming-ryzen-5-quad-core-3550h-8-gb-1-tb-hdd-windows-10-home-4-gb-graphics-nvidia-geforce-gtx-1650-15-ec0101ax-laptop/product-reviews/itma1af6bf593dc8?pid=COMFSFNVDXG74QXR&lid=LSTCOMFSFNVDXG74QXRY8FRH2&marketplace=FLIPKART&page=21',\n",
       " 'https://www.flipkart.com/hp-pavilion-gaming-ryzen-5-quad-core-3550h-8-gb-1-tb-hdd-windows-10-home-4-gb-graphics-nvidia-geforce-gtx-1650-15-ec0101ax-laptop/product-reviews/itma1af6bf593dc8?pid=COMFSFNVDXG74QXR&lid=LSTCOMFSFNVDXG74QXRY8FRH2&marketplace=FLIPKART&page=22',\n",
       " 'https://www.flipkart.com/hp-pavilion-gaming-ryzen-5-quad-core-3550h-8-gb-1-tb-hdd-windows-10-home-4-gb-graphics-nvidia-geforce-gtx-1650-15-ec0101ax-laptop/product-reviews/itma1af6bf593dc8?pid=COMFSFNVDXG74QXR&lid=LSTCOMFSFNVDXG74QXRY8FRH2&marketplace=FLIPKART&page=23',\n",
       " 'https://www.flipkart.com/hp-pavilion-gaming-ryzen-5-quad-core-3550h-8-gb-1-tb-hdd-windows-10-home-4-gb-graphics-nvidia-geforce-gtx-1650-15-ec0101ax-laptop/product-reviews/itma1af6bf593dc8?pid=COMFSFNVDXG74QXR&lid=LSTCOMFSFNVDXG74QXRY8FRH2&marketplace=FLIPKART&page=24',\n",
       " 'https://www.flipkart.com/hp-pavilion-gaming-ryzen-5-quad-core-3550h-8-gb-1-tb-hdd-windows-10-home-4-gb-graphics-nvidia-geforce-gtx-1650-15-ec0101ax-laptop/product-reviews/itma1af6bf593dc8?pid=COMFSFNVDXG74QXR&lid=LSTCOMFSFNVDXG74QXRY8FRH2&marketplace=FLIPKART&page=25',\n",
       " 'https://www.flipkart.com/hp-pavilion-gaming-ryzen-5-quad-core-3550h-8-gb-1-tb-hdd-windows-10-home-4-gb-graphics-nvidia-geforce-gtx-1650-15-ec0101ax-laptop/product-reviews/itma1af6bf593dc8?pid=COMFSFNVDXG74QXR&lid=LSTCOMFSFNVDXG74QXRY8FRH2&marketplace=FLIPKART&page=26',\n",
       " 'https://www.flipkart.com/hp-pavilion-gaming-ryzen-5-quad-core-3550h-8-gb-1-tb-hdd-windows-10-home-4-gb-graphics-nvidia-geforce-gtx-1650-15-ec0101ax-laptop/product-reviews/itma1af6bf593dc8?pid=COMFSFNVDXG74QXR&lid=LSTCOMFSFNVDXG74QXRY8FRH2&marketplace=FLIPKART&page=27',\n",
       " 'https://www.flipkart.com/hp-pavilion-gaming-ryzen-5-quad-core-3550h-8-gb-1-tb-hdd-windows-10-home-4-gb-graphics-nvidia-geforce-gtx-1650-15-ec0101ax-laptop/product-reviews/itma1af6bf593dc8?pid=COMFSFNVDXG74QXR&lid=LSTCOMFSFNVDXG74QXRY8FRH2&marketplace=FLIPKART&page=28',\n",
       " 'https://www.flipkart.com/hp-pavilion-gaming-ryzen-5-quad-core-3550h-8-gb-1-tb-hdd-windows-10-home-4-gb-graphics-nvidia-geforce-gtx-1650-15-ec0101ax-laptop/product-reviews/itma1af6bf593dc8?pid=COMFSFNVDXG74QXR&lid=LSTCOMFSFNVDXG74QXRY8FRH2&marketplace=FLIPKART&page=29',\n",
       " 'https://www.flipkart.com/hp-pavilion-gaming-ryzen-5-quad-core-3550h-8-gb-1-tb-hdd-windows-10-home-4-gb-graphics-nvidia-geforce-gtx-1650-15-ec0101ax-laptop/product-reviews/itma1af6bf593dc8?pid=COMFSFNVDXG74QXR&lid=LSTCOMFSFNVDXG74QXRY8FRH2&marketplace=FLIPKART&page=30',\n",
       " 'https://www.flipkart.com/hp-pavilion-gaming-ryzen-5-quad-core-3550h-8-gb-1-tb-hdd-windows-10-home-4-gb-graphics-nvidia-geforce-gtx-1650-15-ec0101ax-laptop/product-reviews/itma1af6bf593dc8?pid=COMFSFNVDXG74QXR&lid=LSTCOMFSFNVDXG74QXRY8FRH2&marketplace=FLIPKART&page=31',\n",
       " 'https://www.flipkart.com/hp-pavilion-gaming-ryzen-5-quad-core-3550h-8-gb-1-tb-hdd-windows-10-home-4-gb-graphics-nvidia-geforce-gtx-1650-15-ec0101ax-laptop/product-reviews/itma1af6bf593dc8?pid=COMFSFNVDXG74QXR&lid=LSTCOMFSFNVDXG74QXRY8FRH2&marketplace=FLIPKART&page=32',\n",
       " 'https://www.flipkart.com/hp-pavilion-gaming-ryzen-5-quad-core-3550h-8-gb-1-tb-hdd-windows-10-home-4-gb-graphics-nvidia-geforce-gtx-1650-15-ec0101ax-laptop/product-reviews/itma1af6bf593dc8?pid=COMFSFNVDXG74QXR&lid=LSTCOMFSFNVDXG74QXRY8FRH2&marketplace=FLIPKART&page=33',\n",
       " 'https://www.flipkart.com/hp-pavilion-gaming-ryzen-5-quad-core-3550h-8-gb-1-tb-hdd-windows-10-home-4-gb-graphics-nvidia-geforce-gtx-1650-15-ec0101ax-laptop/product-reviews/itma1af6bf593dc8?pid=COMFSFNVDXG74QXR&lid=LSTCOMFSFNVDXG74QXRY8FRH2&marketplace=FLIPKART&page=34',\n",
       " 'https://www.flipkart.com/hp-pavilion-gaming-ryzen-5-quad-core-3550h-8-gb-1-tb-hdd-windows-10-home-4-gb-graphics-nvidia-geforce-gtx-1650-15-ec0101ax-laptop/product-reviews/itma1af6bf593dc8?pid=COMFSFNVDXG74QXR&lid=LSTCOMFSFNVDXG74QXRY8FRH2&marketplace=FLIPKART&page=35',\n",
       " 'https://www.flipkart.com/hp-pavilion-gaming-ryzen-5-quad-core-3550h-8-gb-1-tb-hdd-windows-10-home-4-gb-graphics-nvidia-geforce-gtx-1650-15-ec0101ax-laptop/product-reviews/itma1af6bf593dc8?pid=COMFSFNVDXG74QXR&lid=LSTCOMFSFNVDXG74QXRY8FRH2&marketplace=FLIPKART&page=36',\n",
       " 'https://www.flipkart.com/hp-pavilion-gaming-ryzen-5-quad-core-3550h-8-gb-1-tb-hdd-windows-10-home-4-gb-graphics-nvidia-geforce-gtx-1650-15-ec0101ax-laptop/product-reviews/itma1af6bf593dc8?pid=COMFSFNVDXG74QXR&lid=LSTCOMFSFNVDXG74QXRY8FRH2&marketplace=FLIPKART&page=37',\n",
       " 'https://www.flipkart.com/hp-pavilion-gaming-ryzen-5-quad-core-3550h-8-gb-1-tb-hdd-windows-10-home-4-gb-graphics-nvidia-geforce-gtx-1650-15-ec0101ax-laptop/product-reviews/itma1af6bf593dc8?pid=COMFSFNVDXG74QXR&lid=LSTCOMFSFNVDXG74QXRY8FRH2&marketplace=FLIPKART&page=38',\n",
       " 'https://www.flipkart.com/hp-pavilion-gaming-ryzen-5-quad-core-3550h-8-gb-1-tb-hdd-windows-10-home-4-gb-graphics-nvidia-geforce-gtx-1650-15-ec0101ax-laptop/product-reviews/itma1af6bf593dc8?pid=COMFSFNVDXG74QXR&lid=LSTCOMFSFNVDXG74QXRY8FRH2&marketplace=FLIPKART&page=39',\n",
       " 'https://www.flipkart.com/hp-pavilion-gaming-ryzen-5-quad-core-3550h-8-gb-1-tb-hdd-windows-10-home-4-gb-graphics-nvidia-geforce-gtx-1650-15-ec0101ax-laptop/product-reviews/itma1af6bf593dc8?pid=COMFSFNVDXG74QXR&lid=LSTCOMFSFNVDXG74QXRY8FRH2&marketplace=FLIPKART&page=40',\n",
       " 'https://www.flipkart.com/hp-pavilion-gaming-ryzen-5-quad-core-3550h-8-gb-1-tb-hdd-windows-10-home-4-gb-graphics-nvidia-geforce-gtx-1650-15-ec0101ax-laptop/product-reviews/itma1af6bf593dc8?pid=COMFSFNVDXG74QXR&lid=LSTCOMFSFNVDXG74QXRY8FRH2&marketplace=FLIPKART&page=41',\n",
       " 'https://www.flipkart.com/hp-pavilion-gaming-ryzen-5-quad-core-3550h-8-gb-1-tb-hdd-windows-10-home-4-gb-graphics-nvidia-geforce-gtx-1650-15-ec0101ax-laptop/product-reviews/itma1af6bf593dc8?pid=COMFSFNVDXG74QXR&lid=LSTCOMFSFNVDXG74QXRY8FRH2&marketplace=FLIPKART&page=42',\n",
       " 'https://www.flipkart.com/hp-pavilion-gaming-ryzen-5-quad-core-3550h-8-gb-1-tb-hdd-windows-10-home-4-gb-graphics-nvidia-geforce-gtx-1650-15-ec0101ax-laptop/product-reviews/itma1af6bf593dc8?pid=COMFSFNVDXG74QXR&lid=LSTCOMFSFNVDXG74QXRY8FRH2&marketplace=FLIPKART&page=43',\n",
       " 'https://www.flipkart.com/hp-pavilion-gaming-ryzen-5-quad-core-3550h-8-gb-1-tb-hdd-windows-10-home-4-gb-graphics-nvidia-geforce-gtx-1650-15-ec0101ax-laptop/product-reviews/itma1af6bf593dc8?pid=COMFSFNVDXG74QXR&lid=LSTCOMFSFNVDXG74QXRY8FRH2&marketplace=FLIPKART&page=44',\n",
       " 'https://www.flipkart.com/hp-pavilion-gaming-ryzen-5-quad-core-3550h-8-gb-1-tb-hdd-windows-10-home-4-gb-graphics-nvidia-geforce-gtx-1650-15-ec0101ax-laptop/product-reviews/itma1af6bf593dc8?pid=COMFSFNVDXG74QXR&lid=LSTCOMFSFNVDXG74QXRY8FRH2&marketplace=FLIPKART&page=45',\n",
       " 'https://www.flipkart.com/hp-pavilion-gaming-ryzen-5-quad-core-3550h-8-gb-1-tb-hdd-windows-10-home-4-gb-graphics-nvidia-geforce-gtx-1650-15-ec0101ax-laptop/product-reviews/itma1af6bf593dc8?pid=COMFSFNVDXG74QXR&lid=LSTCOMFSFNVDXG74QXRY8FRH2&marketplace=FLIPKART&page=46',\n",
       " 'https://www.flipkart.com/hp-pavilion-gaming-ryzen-5-quad-core-3550h-8-gb-1-tb-hdd-windows-10-home-4-gb-graphics-nvidia-geforce-gtx-1650-15-ec0101ax-laptop/product-reviews/itma1af6bf593dc8?pid=COMFSFNVDXG74QXR&lid=LSTCOMFSFNVDXG74QXRY8FRH2&marketplace=FLIPKART&page=47',\n",
       " 'https://www.flipkart.com/hp-pavilion-gaming-ryzen-5-quad-core-3550h-8-gb-1-tb-hdd-windows-10-home-4-gb-graphics-nvidia-geforce-gtx-1650-15-ec0101ax-laptop/product-reviews/itma1af6bf593dc8?pid=COMFSFNVDXG74QXR&lid=LSTCOMFSFNVDXG74QXRY8FRH2&marketplace=FLIPKART&page=48',\n",
       " 'https://www.flipkart.com/hp-pavilion-gaming-ryzen-5-quad-core-3550h-8-gb-1-tb-hdd-windows-10-home-4-gb-graphics-nvidia-geforce-gtx-1650-15-ec0101ax-laptop/product-reviews/itma1af6bf593dc8?pid=COMFSFNVDXG74QXR&lid=LSTCOMFSFNVDXG74QXRY8FRH2&marketplace=FLIPKART&page=49',\n",
       " 'https://www.flipkart.com/hp-pavilion-gaming-ryzen-5-quad-core-3550h-8-gb-1-tb-hdd-windows-10-home-4-gb-graphics-nvidia-geforce-gtx-1650-15-ec0101ax-laptop/product-reviews/itma1af6bf593dc8?pid=COMFSFNVDXG74QXR&lid=LSTCOMFSFNVDXG74QXRY8FRH2&marketplace=FLIPKART&page=50',\n",
       " 'https://www.flipkart.com/hp-pavilion-gaming-ryzen-5-quad-core-3550h-8-gb-1-tb-hdd-windows-10-home-4-gb-graphics-nvidia-geforce-gtx-1650-15-ec0101ax-laptop/product-reviews/itma1af6bf593dc8?pid=COMFSFNVDXG74QXR&lid=LSTCOMFSFNVDXG74QXRY8FRH2&marketplace=FLIPKART&page=51',\n",
       " 'https://www.flipkart.com/hp-pavilion-gaming-ryzen-5-quad-core-3550h-8-gb-1-tb-hdd-windows-10-home-4-gb-graphics-nvidia-geforce-gtx-1650-15-ec0101ax-laptop/product-reviews/itma1af6bf593dc8?pid=COMFSFNVDXG74QXR&lid=LSTCOMFSFNVDXG74QXRY8FRH2&marketplace=FLIPKART&page=52',\n",
       " 'https://www.flipkart.com/hp-pavilion-gaming-ryzen-5-quad-core-3550h-8-gb-1-tb-hdd-windows-10-home-4-gb-graphics-nvidia-geforce-gtx-1650-15-ec0101ax-laptop/product-reviews/itma1af6bf593dc8?pid=COMFSFNVDXG74QXR&lid=LSTCOMFSFNVDXG74QXRY8FRH2&marketplace=FLIPKART&page=53',\n",
       " 'https://www.flipkart.com/hp-pavilion-gaming-ryzen-5-quad-core-3550h-8-gb-1-tb-hdd-windows-10-home-4-gb-graphics-nvidia-geforce-gtx-1650-15-ec0101ax-laptop/product-reviews/itma1af6bf593dc8?pid=COMFSFNVDXG74QXR&lid=LSTCOMFSFNVDXG74QXRY8FRH2&marketplace=FLIPKART&page=54',\n",
       " 'https://www.flipkart.com/hp-pavilion-gaming-ryzen-5-quad-core-3550h-8-gb-1-tb-hdd-windows-10-home-4-gb-graphics-nvidia-geforce-gtx-1650-15-ec0101ax-laptop/product-reviews/itma1af6bf593dc8?pid=COMFSFNVDXG74QXR&lid=LSTCOMFSFNVDXG74QXRY8FRH2&marketplace=FLIPKART&page=55',\n",
       " 'https://www.flipkart.com/hp-pavilion-gaming-ryzen-5-quad-core-3550h-8-gb-1-tb-hdd-windows-10-home-4-gb-graphics-nvidia-geforce-gtx-1650-15-ec0101ax-laptop/product-reviews/itma1af6bf593dc8?pid=COMFSFNVDXG74QXR&lid=LSTCOMFSFNVDXG74QXRY8FRH2&marketplace=FLIPKART&page=56',\n",
       " 'https://www.flipkart.com/hp-pavilion-gaming-ryzen-5-quad-core-3550h-8-gb-1-tb-hdd-windows-10-home-4-gb-graphics-nvidia-geforce-gtx-1650-15-ec0101ax-laptop/product-reviews/itma1af6bf593dc8?pid=COMFSFNVDXG74QXR&lid=LSTCOMFSFNVDXG74QXRY8FRH2&marketplace=FLIPKART&page=57',\n",
       " 'https://www.flipkart.com/hp-pavilion-gaming-ryzen-5-quad-core-3550h-8-gb-1-tb-hdd-windows-10-home-4-gb-graphics-nvidia-geforce-gtx-1650-15-ec0101ax-laptop/product-reviews/itma1af6bf593dc8?pid=COMFSFNVDXG74QXR&lid=LSTCOMFSFNVDXG74QXRY8FRH2&marketplace=FLIPKART&page=58',\n",
       " 'https://www.flipkart.com/hp-pavilion-gaming-ryzen-5-quad-core-3550h-8-gb-1-tb-hdd-windows-10-home-4-gb-graphics-nvidia-geforce-gtx-1650-15-ec0101ax-laptop/product-reviews/itma1af6bf593dc8?pid=COMFSFNVDXG74QXR&lid=LSTCOMFSFNVDXG74QXRY8FRH2&marketplace=FLIPKART&page=59',\n",
       " 'https://www.flipkart.com/hp-pavilion-gaming-ryzen-5-quad-core-3550h-8-gb-1-tb-hdd-windows-10-home-4-gb-graphics-nvidia-geforce-gtx-1650-15-ec0101ax-laptop/product-reviews/itma1af6bf593dc8?pid=COMFSFNVDXG74QXR&lid=LSTCOMFSFNVDXG74QXRY8FRH2&marketplace=FLIPKART&page=60',\n",
       " 'https://www.flipkart.com/hp-pavilion-gaming-ryzen-5-quad-core-3550h-8-gb-1-tb-hdd-windows-10-home-4-gb-graphics-nvidia-geforce-gtx-1650-15-ec0101ax-laptop/product-reviews/itma1af6bf593dc8?pid=COMFSFNVDXG74QXR&lid=LSTCOMFSFNVDXG74QXRY8FRH2&marketplace=FLIPKART&page=61',\n",
       " 'https://www.flipkart.com/hp-pavilion-gaming-ryzen-5-quad-core-3550h-8-gb-1-tb-hdd-windows-10-home-4-gb-graphics-nvidia-geforce-gtx-1650-15-ec0101ax-laptop/product-reviews/itma1af6bf593dc8?pid=COMFSFNVDXG74QXR&lid=LSTCOMFSFNVDXG74QXRY8FRH2&marketplace=FLIPKART&page=62',\n",
       " 'https://www.flipkart.com/hp-pavilion-gaming-ryzen-5-quad-core-3550h-8-gb-1-tb-hdd-windows-10-home-4-gb-graphics-nvidia-geforce-gtx-1650-15-ec0101ax-laptop/product-reviews/itma1af6bf593dc8?pid=COMFSFNVDXG74QXR&lid=LSTCOMFSFNVDXG74QXRY8FRH2&marketplace=FLIPKART&page=63',\n",
       " 'https://www.flipkart.com/hp-pavilion-gaming-ryzen-5-quad-core-3550h-8-gb-1-tb-hdd-windows-10-home-4-gb-graphics-nvidia-geforce-gtx-1650-15-ec0101ax-laptop/product-reviews/itma1af6bf593dc8?pid=COMFSFNVDXG74QXR&lid=LSTCOMFSFNVDXG74QXRY8FRH2&marketplace=FLIPKART&page=64',\n",
       " 'https://www.flipkart.com/hp-pavilion-gaming-ryzen-5-quad-core-3550h-8-gb-1-tb-hdd-windows-10-home-4-gb-graphics-nvidia-geforce-gtx-1650-15-ec0101ax-laptop/product-reviews/itma1af6bf593dc8?pid=COMFSFNVDXG74QXR&lid=LSTCOMFSFNVDXG74QXRY8FRH2&marketplace=FLIPKART&page=65',\n",
       " 'https://www.flipkart.com/hp-pavilion-gaming-ryzen-5-quad-core-3550h-8-gb-1-tb-hdd-windows-10-home-4-gb-graphics-nvidia-geforce-gtx-1650-15-ec0101ax-laptop/product-reviews/itma1af6bf593dc8?pid=COMFSFNVDXG74QXR&lid=LSTCOMFSFNVDXG74QXRY8FRH2&marketplace=FLIPKART&page=66',\n",
       " 'https://www.flipkart.com/hp-pavilion-gaming-ryzen-5-quad-core-3550h-8-gb-1-tb-hdd-windows-10-home-4-gb-graphics-nvidia-geforce-gtx-1650-15-ec0101ax-laptop/product-reviews/itma1af6bf593dc8?pid=COMFSFNVDXG74QXR&lid=LSTCOMFSFNVDXG74QXRY8FRH2&marketplace=FLIPKART&page=67',\n",
       " 'https://www.flipkart.com/hp-pavilion-gaming-ryzen-5-quad-core-3550h-8-gb-1-tb-hdd-windows-10-home-4-gb-graphics-nvidia-geforce-gtx-1650-15-ec0101ax-laptop/product-reviews/itma1af6bf593dc8?pid=COMFSFNVDXG74QXR&lid=LSTCOMFSFNVDXG74QXRY8FRH2&marketplace=FLIPKART&page=68',\n",
       " 'https://www.flipkart.com/hp-pavilion-gaming-ryzen-5-quad-core-3550h-8-gb-1-tb-hdd-windows-10-home-4-gb-graphics-nvidia-geforce-gtx-1650-15-ec0101ax-laptop/product-reviews/itma1af6bf593dc8?pid=COMFSFNVDXG74QXR&lid=LSTCOMFSFNVDXG74QXRY8FRH2&marketplace=FLIPKART&page=69',\n",
       " 'https://www.flipkart.com/hp-pavilion-gaming-ryzen-5-quad-core-3550h-8-gb-1-tb-hdd-windows-10-home-4-gb-graphics-nvidia-geforce-gtx-1650-15-ec0101ax-laptop/product-reviews/itma1af6bf593dc8?pid=COMFSFNVDXG74QXR&lid=LSTCOMFSFNVDXG74QXRY8FRH2&marketplace=FLIPKART&page=70',\n",
       " 'https://www.flipkart.com/hp-pavilion-gaming-ryzen-5-quad-core-3550h-8-gb-1-tb-hdd-windows-10-home-4-gb-graphics-nvidia-geforce-gtx-1650-15-ec0101ax-laptop/product-reviews/itma1af6bf593dc8?pid=COMFSFNVDXG74QXR&lid=LSTCOMFSFNVDXG74QXRY8FRH2&marketplace=FLIPKART&page=71',\n",
       " 'https://www.flipkart.com/hp-pavilion-gaming-ryzen-5-quad-core-3550h-8-gb-1-tb-hdd-windows-10-home-4-gb-graphics-nvidia-geforce-gtx-1650-15-ec0101ax-laptop/product-reviews/itma1af6bf593dc8?pid=COMFSFNVDXG74QXR&lid=LSTCOMFSFNVDXG74QXRY8FRH2&marketplace=FLIPKART&page=72',\n",
       " 'https://www.flipkart.com/hp-pavilion-gaming-ryzen-5-quad-core-3550h-8-gb-1-tb-hdd-windows-10-home-4-gb-graphics-nvidia-geforce-gtx-1650-15-ec0101ax-laptop/product-reviews/itma1af6bf593dc8?pid=COMFSFNVDXG74QXR&lid=LSTCOMFSFNVDXG74QXRY8FRH2&marketplace=FLIPKART&page=73',\n",
       " 'https://www.flipkart.com/hp-pavilion-gaming-ryzen-5-quad-core-3550h-8-gb-1-tb-hdd-windows-10-home-4-gb-graphics-nvidia-geforce-gtx-1650-15-ec0101ax-laptop/product-reviews/itma1af6bf593dc8?pid=COMFSFNVDXG74QXR&lid=LSTCOMFSFNVDXG74QXRY8FRH2&marketplace=FLIPKART&page=74',\n",
       " 'https://www.flipkart.com/hp-pavilion-gaming-ryzen-5-quad-core-3550h-8-gb-1-tb-hdd-windows-10-home-4-gb-graphics-nvidia-geforce-gtx-1650-15-ec0101ax-laptop/product-reviews/itma1af6bf593dc8?pid=COMFSFNVDXG74QXR&lid=LSTCOMFSFNVDXG74QXRY8FRH2&marketplace=FLIPKART&page=75',\n",
       " 'https://www.flipkart.com/hp-pavilion-gaming-ryzen-5-quad-core-3550h-8-gb-1-tb-hdd-windows-10-home-4-gb-graphics-nvidia-geforce-gtx-1650-15-ec0101ax-laptop/product-reviews/itma1af6bf593dc8?pid=COMFSFNVDXG74QXR&lid=LSTCOMFSFNVDXG74QXRY8FRH2&marketplace=FLIPKART&page=76',\n",
       " 'https://www.flipkart.com/hp-pavilion-gaming-ryzen-5-quad-core-3550h-8-gb-1-tb-hdd-windows-10-home-4-gb-graphics-nvidia-geforce-gtx-1650-15-ec0101ax-laptop/product-reviews/itma1af6bf593dc8?pid=COMFSFNVDXG74QXR&lid=LSTCOMFSFNVDXG74QXRY8FRH2&marketplace=FLIPKART&page=77',\n",
       " 'https://www.flipkart.com/hp-pavilion-gaming-ryzen-5-quad-core-3550h-8-gb-1-tb-hdd-windows-10-home-4-gb-graphics-nvidia-geforce-gtx-1650-15-ec0101ax-laptop/product-reviews/itma1af6bf593dc8?pid=COMFSFNVDXG74QXR&lid=LSTCOMFSFNVDXG74QXRY8FRH2&marketplace=FLIPKART&page=78',\n",
       " 'https://www.flipkart.com/hp-pavilion-gaming-ryzen-5-quad-core-3550h-8-gb-1-tb-hdd-windows-10-home-4-gb-graphics-nvidia-geforce-gtx-1650-15-ec0101ax-laptop/product-reviews/itma1af6bf593dc8?pid=COMFSFNVDXG74QXR&lid=LSTCOMFSFNVDXG74QXRY8FRH2&marketplace=FLIPKART&page=79',\n",
       " 'https://www.flipkart.com/hp-pavilion-gaming-ryzen-5-quad-core-3550h-8-gb-1-tb-hdd-windows-10-home-4-gb-graphics-nvidia-geforce-gtx-1650-15-ec0101ax-laptop/product-reviews/itma1af6bf593dc8?pid=COMFSFNVDXG74QXR&lid=LSTCOMFSFNVDXG74QXRY8FRH2&marketplace=FLIPKART&page=80',\n",
       " 'https://www.flipkart.com/hp-pavilion-gaming-ryzen-5-quad-core-3550h-8-gb-1-tb-hdd-windows-10-home-4-gb-graphics-nvidia-geforce-gtx-1650-15-ec0101ax-laptop/product-reviews/itma1af6bf593dc8?pid=COMFSFNVDXG74QXR&lid=LSTCOMFSFNVDXG74QXRY8FRH2&marketplace=FLIPKART&page=81',\n",
       " 'https://www.flipkart.com/hp-pavilion-gaming-ryzen-5-quad-core-3550h-8-gb-1-tb-hdd-windows-10-home-4-gb-graphics-nvidia-geforce-gtx-1650-15-ec0101ax-laptop/product-reviews/itma1af6bf593dc8?pid=COMFSFNVDXG74QXR&lid=LSTCOMFSFNVDXG74QXRY8FRH2&marketplace=FLIPKART&page=82',\n",
       " 'https://www.flipkart.com/hp-pavilion-gaming-ryzen-5-quad-core-3550h-8-gb-1-tb-hdd-windows-10-home-4-gb-graphics-nvidia-geforce-gtx-1650-15-ec0101ax-laptop/product-reviews/itma1af6bf593dc8?pid=COMFSFNVDXG74QXR&lid=LSTCOMFSFNVDXG74QXRY8FRH2&marketplace=FLIPKART&page=83',\n",
       " 'https://www.flipkart.com/hp-pavilion-gaming-ryzen-5-quad-core-3550h-8-gb-1-tb-hdd-windows-10-home-4-gb-graphics-nvidia-geforce-gtx-1650-15-ec0101ax-laptop/product-reviews/itma1af6bf593dc8?pid=COMFSFNVDXG74QXR&lid=LSTCOMFSFNVDXG74QXRY8FRH2&marketplace=FLIPKART&page=84',\n",
       " 'https://www.flipkart.com/hp-pavilion-gaming-ryzen-5-quad-core-3550h-8-gb-1-tb-hdd-windows-10-home-4-gb-graphics-nvidia-geforce-gtx-1650-15-ec0101ax-laptop/product-reviews/itma1af6bf593dc8?pid=COMFSFNVDXG74QXR&lid=LSTCOMFSFNVDXG74QXRY8FRH2&marketplace=FLIPKART&page=85',\n",
       " 'https://www.flipkart.com/hp-pavilion-gaming-ryzen-5-quad-core-3550h-8-gb-1-tb-hdd-windows-10-home-4-gb-graphics-nvidia-geforce-gtx-1650-15-ec0101ax-laptop/product-reviews/itma1af6bf593dc8?pid=COMFSFNVDXG74QXR&lid=LSTCOMFSFNVDXG74QXRY8FRH2&marketplace=FLIPKART&page=86',\n",
       " 'https://www.flipkart.com/hp-pavilion-gaming-ryzen-5-quad-core-3550h-8-gb-1-tb-hdd-windows-10-home-4-gb-graphics-nvidia-geforce-gtx-1650-15-ec0101ax-laptop/product-reviews/itma1af6bf593dc8?pid=COMFSFNVDXG74QXR&lid=LSTCOMFSFNVDXG74QXRY8FRH2&marketplace=FLIPKART&page=87',\n",
       " 'https://www.flipkart.com/hp-pavilion-gaming-ryzen-5-quad-core-3550h-8-gb-1-tb-hdd-windows-10-home-4-gb-graphics-nvidia-geforce-gtx-1650-15-ec0101ax-laptop/product-reviews/itma1af6bf593dc8?pid=COMFSFNVDXG74QXR&lid=LSTCOMFSFNVDXG74QXRY8FRH2&marketplace=FLIPKART&page=88',\n",
       " 'https://www.flipkart.com/hp-pavilion-gaming-ryzen-5-quad-core-3550h-8-gb-1-tb-hdd-windows-10-home-4-gb-graphics-nvidia-geforce-gtx-1650-15-ec0101ax-laptop/product-reviews/itma1af6bf593dc8?pid=COMFSFNVDXG74QXR&lid=LSTCOMFSFNVDXG74QXRY8FRH2&marketplace=FLIPKART&page=89',\n",
       " 'https://www.flipkart.com/hp-pavilion-gaming-ryzen-5-quad-core-3550h-8-gb-1-tb-hdd-windows-10-home-4-gb-graphics-nvidia-geforce-gtx-1650-15-ec0101ax-laptop/product-reviews/itma1af6bf593dc8?pid=COMFSFNVDXG74QXR&lid=LSTCOMFSFNVDXG74QXRY8FRH2&marketplace=FLIPKART&page=90',\n",
       " 'https://www.flipkart.com/hp-pavilion-gaming-ryzen-5-quad-core-3550h-8-gb-1-tb-hdd-windows-10-home-4-gb-graphics-nvidia-geforce-gtx-1650-15-ec0101ax-laptop/product-reviews/itma1af6bf593dc8?pid=COMFSFNVDXG74QXR&lid=LSTCOMFSFNVDXG74QXRY8FRH2&marketplace=FLIPKART&page=91',\n",
       " 'https://www.flipkart.com/hp-pavilion-gaming-ryzen-5-quad-core-3550h-8-gb-1-tb-hdd-windows-10-home-4-gb-graphics-nvidia-geforce-gtx-1650-15-ec0101ax-laptop/product-reviews/itma1af6bf593dc8?pid=COMFSFNVDXG74QXR&lid=LSTCOMFSFNVDXG74QXRY8FRH2&marketplace=FLIPKART&page=92',\n",
       " 'https://www.flipkart.com/hp-pavilion-gaming-ryzen-5-quad-core-3550h-8-gb-1-tb-hdd-windows-10-home-4-gb-graphics-nvidia-geforce-gtx-1650-15-ec0101ax-laptop/product-reviews/itma1af6bf593dc8?pid=COMFSFNVDXG74QXR&lid=LSTCOMFSFNVDXG74QXRY8FRH2&marketplace=FLIPKART&page=93',\n",
       " 'https://www.flipkart.com/hp-pavilion-gaming-ryzen-5-quad-core-3550h-8-gb-1-tb-hdd-windows-10-home-4-gb-graphics-nvidia-geforce-gtx-1650-15-ec0101ax-laptop/product-reviews/itma1af6bf593dc8?pid=COMFSFNVDXG74QXR&lid=LSTCOMFSFNVDXG74QXRY8FRH2&marketplace=FLIPKART&page=94',\n",
       " 'https://www.flipkart.com/hp-pavilion-gaming-ryzen-5-quad-core-3550h-8-gb-1-tb-hdd-windows-10-home-4-gb-graphics-nvidia-geforce-gtx-1650-15-ec0101ax-laptop/product-reviews/itma1af6bf593dc8?pid=COMFSFNVDXG74QXR&lid=LSTCOMFSFNVDXG74QXRY8FRH2&marketplace=FLIPKART&page=95',\n",
       " 'https://www.flipkart.com/hp-pavilion-gaming-ryzen-5-quad-core-3550h-8-gb-1-tb-hdd-windows-10-home-4-gb-graphics-nvidia-geforce-gtx-1650-15-ec0101ax-laptop/product-reviews/itma1af6bf593dc8?pid=COMFSFNVDXG74QXR&lid=LSTCOMFSFNVDXG74QXRY8FRH2&marketplace=FLIPKART&page=96',\n",
       " 'https://www.flipkart.com/hp-pavilion-gaming-ryzen-5-quad-core-3550h-8-gb-1-tb-hdd-windows-10-home-4-gb-graphics-nvidia-geforce-gtx-1650-15-ec0101ax-laptop/product-reviews/itma1af6bf593dc8?pid=COMFSFNVDXG74QXR&lid=LSTCOMFSFNVDXG74QXRY8FRH2&marketplace=FLIPKART&page=97',\n",
       " 'https://www.flipkart.com/hp-pavilion-gaming-ryzen-5-quad-core-3550h-8-gb-1-tb-hdd-windows-10-home-4-gb-graphics-nvidia-geforce-gtx-1650-15-ec0101ax-laptop/product-reviews/itma1af6bf593dc8?pid=COMFSFNVDXG74QXR&lid=LSTCOMFSFNVDXG74QXRY8FRH2&marketplace=FLIPKART&page=98',\n",
       " 'https://www.flipkart.com/hp-pavilion-gaming-ryzen-5-quad-core-3550h-8-gb-1-tb-hdd-windows-10-home-4-gb-graphics-nvidia-geforce-gtx-1650-15-ec0101ax-laptop/product-reviews/itma1af6bf593dc8?pid=COMFSFNVDXG74QXR&lid=LSTCOMFSFNVDXG74QXRY8FRH2&marketplace=FLIPKART&page=99',\n",
       " 'https://www.flipkart.com/hp-pavilion-gaming-ryzen-5-quad-core-3550h-8-gb-1-tb-hdd-windows-10-home-4-gb-graphics-nvidia-geforce-gtx-1650-15-ec0101ax-laptop/product-reviews/itma1af6bf593dc8?pid=COMFSFNVDXG74QXR&lid=LSTCOMFSFNVDXG74QXRY8FRH2&marketplace=FLIPKART&page=100',\n",
       " 'https://www.flipkart.com/hp-pavilion-gaming-ryzen-5-quad-core-3550h-8-gb-1-tb-hdd-windows-10-home-4-gb-graphics-nvidia-geforce-gtx-1650-15-ec0101ax-laptop/product-reviews/itma1af6bf593dc8?pid=COMFSFNVDXG74QXR&lid=LSTCOMFSFNVDXG74QXRY8FRH2&marketplace=FLIPKART&page=101',\n",
       " 'https://www.flipkart.com/hp-pavilion-gaming-ryzen-5-quad-core-3550h-8-gb-1-tb-hdd-windows-10-home-4-gb-graphics-nvidia-geforce-gtx-1650-15-ec0101ax-laptop/product-reviews/itma1af6bf593dc8?pid=COMFSFNVDXG74QXR&lid=LSTCOMFSFNVDXG74QXRY8FRH2&marketplace=FLIPKART&page=102',\n",
       " 'https://www.flipkart.com/hp-pavilion-gaming-ryzen-5-quad-core-3550h-8-gb-1-tb-hdd-windows-10-home-4-gb-graphics-nvidia-geforce-gtx-1650-15-ec0101ax-laptop/product-reviews/itma1af6bf593dc8?pid=COMFSFNVDXG74QXR&lid=LSTCOMFSFNVDXG74QXRY8FRH2&marketplace=FLIPKART&page=103',\n",
       " 'https://www.flipkart.com/hp-pavilion-gaming-ryzen-5-quad-core-3550h-8-gb-1-tb-hdd-windows-10-home-4-gb-graphics-nvidia-geforce-gtx-1650-15-ec0101ax-laptop/product-reviews/itma1af6bf593dc8?pid=COMFSFNVDXG74QXR&lid=LSTCOMFSFNVDXG74QXRY8FRH2&marketplace=FLIPKART&page=104',\n",
       " 'https://www.flipkart.com/hp-pavilion-gaming-ryzen-5-quad-core-3550h-8-gb-1-tb-hdd-windows-10-home-4-gb-graphics-nvidia-geforce-gtx-1650-15-ec0101ax-laptop/product-reviews/itma1af6bf593dc8?pid=COMFSFNVDXG74QXR&lid=LSTCOMFSFNVDXG74QXRY8FRH2&marketplace=FLIPKART&page=105',\n",
       " 'https://www.flipkart.com/hp-pavilion-gaming-ryzen-5-quad-core-3550h-8-gb-1-tb-hdd-windows-10-home-4-gb-graphics-nvidia-geforce-gtx-1650-15-ec0101ax-laptop/product-reviews/itma1af6bf593dc8?pid=COMFSFNVDXG74QXR&lid=LSTCOMFSFNVDXG74QXRY8FRH2&marketplace=FLIPKART&page=106']"
      ]
     },
     "execution_count": 16,
     "metadata": {},
     "output_type": "execute_result"
    }
   ],
   "source": [
    "List_of_url"
   ]
  },
  {
   "cell_type": "code",
   "execution_count": 80,
   "metadata": {},
   "outputs": [],
   "source": [
    "#going to the first url through our driver\n",
    "driver.get(List_of_url[0])"
   ]
  },
  {
   "cell_type": "code",
   "execution_count": 82,
   "metadata": {},
   "outputs": [
    {
     "name": "stderr",
     "output_type": "stream",
     "text": [
      "100%|██████████| 106/106 [02:01<00:00,  1.15s/it]\n"
     ]
    }
   ],
   "source": [
    "#running a loop to extract all the required information from url\n",
    "Ratings=[]\n",
    "Full_review=[]\n",
    "from tqdm import tqdm\n",
    "for i in tqdm(List_of_url):\n",
    "    driver.get(i)\n",
    "    \n",
    "    \n",
    "    for j in driver.find_elements_by_xpath(\"//div[@class='_3LWZlK _1BLPMq' or @class='_3LWZlK _32lA32 _1BLPMq' or @class='_3LWZlK _1rdVr6 _1BLPMq']\"):\n",
    "        Ratings.append(j.text)\n",
    "            \n",
    "            \n",
    "    for k in driver.find_elements_by_xpath(\"//div[@class='t-ZTKy']/div/div\"):\n",
    "        Full_review.append(k.text.replace('\\n',' '))"
   ]
  },
  {
   "cell_type": "code",
   "execution_count": 83,
   "metadata": {},
   "outputs": [
    {
     "data": {
      "text/plain": [
       "['5',\n",
       " '5',\n",
       " '5',\n",
       " '4',\n",
       " '4',\n",
       " '5',\n",
       " '4',\n",
       " '4',\n",
       " '5',\n",
       " '4',\n",
       " '5',\n",
       " '3',\n",
       " '4',\n",
       " '4',\n",
       " '5',\n",
       " '5',\n",
       " '5',\n",
       " '5',\n",
       " '1',\n",
       " '4',\n",
       " '4',\n",
       " '5',\n",
       " '5',\n",
       " '4',\n",
       " '4',\n",
       " '5',\n",
       " '4',\n",
       " '5',\n",
       " '4',\n",
       " '5',\n",
       " '5',\n",
       " '5',\n",
       " '5',\n",
       " '5',\n",
       " '4',\n",
       " '5',\n",
       " '4',\n",
       " '4',\n",
       " '4',\n",
       " '4',\n",
       " '5',\n",
       " '5',\n",
       " '5',\n",
       " '4',\n",
       " '5',\n",
       " '4',\n",
       " '4',\n",
       " '5',\n",
       " '5',\n",
       " '5',\n",
       " '4',\n",
       " '5',\n",
       " '5',\n",
       " '4',\n",
       " '4',\n",
       " '4',\n",
       " '2',\n",
       " '5',\n",
       " '5',\n",
       " '3',\n",
       " '4',\n",
       " '5',\n",
       " '5',\n",
       " '4',\n",
       " '5',\n",
       " '5',\n",
       " '3',\n",
       " '4',\n",
       " '4',\n",
       " '5',\n",
       " '5',\n",
       " '5',\n",
       " '5',\n",
       " '4',\n",
       " '3',\n",
       " '4',\n",
       " '5',\n",
       " '5',\n",
       " '5',\n",
       " '5',\n",
       " '5',\n",
       " '5',\n",
       " '4',\n",
       " '4',\n",
       " '4',\n",
       " '4',\n",
       " '3',\n",
       " '3',\n",
       " '2',\n",
       " '4',\n",
       " '4',\n",
       " '1',\n",
       " '5',\n",
       " '4',\n",
       " '4',\n",
       " '5',\n",
       " '5',\n",
       " '3',\n",
       " '4',\n",
       " '5',\n",
       " '3',\n",
       " '5',\n",
       " '5',\n",
       " '5',\n",
       " '5',\n",
       " '5',\n",
       " '5',\n",
       " '4',\n",
       " '4',\n",
       " '5',\n",
       " '5',\n",
       " '5',\n",
       " '5',\n",
       " '4',\n",
       " '3',\n",
       " '5',\n",
       " '4',\n",
       " '4',\n",
       " '5',\n",
       " '4',\n",
       " '5',\n",
       " '4',\n",
       " '5',\n",
       " '4',\n",
       " '5',\n",
       " '5',\n",
       " '5',\n",
       " '5',\n",
       " '5',\n",
       " '2',\n",
       " '5',\n",
       " '5',\n",
       " '5',\n",
       " '3',\n",
       " '1',\n",
       " '5',\n",
       " '5',\n",
       " '5',\n",
       " '5',\n",
       " '5',\n",
       " '5',\n",
       " '5',\n",
       " '1',\n",
       " '5',\n",
       " '4',\n",
       " '4',\n",
       " '2',\n",
       " '5',\n",
       " '5',\n",
       " '5',\n",
       " '4',\n",
       " '5',\n",
       " '5',\n",
       " '3',\n",
       " '1',\n",
       " '4',\n",
       " '4',\n",
       " '5',\n",
       " '4',\n",
       " '5',\n",
       " '5',\n",
       " '4',\n",
       " '1',\n",
       " '4',\n",
       " '5',\n",
       " '5',\n",
       " '3',\n",
       " '5',\n",
       " '5',\n",
       " '3',\n",
       " '4',\n",
       " '5',\n",
       " '5',\n",
       " '4',\n",
       " '5',\n",
       " '4',\n",
       " '5',\n",
       " '4',\n",
       " '3',\n",
       " '5',\n",
       " '4',\n",
       " '1',\n",
       " '5',\n",
       " '3',\n",
       " '4',\n",
       " '4',\n",
       " '1',\n",
       " '5',\n",
       " '4',\n",
       " '1',\n",
       " '4',\n",
       " '5',\n",
       " '4',\n",
       " '4',\n",
       " '1',\n",
       " '5',\n",
       " '3',\n",
       " '3',\n",
       " '5',\n",
       " '5',\n",
       " '4',\n",
       " '5',\n",
       " '1',\n",
       " '5',\n",
       " '4',\n",
       " '5',\n",
       " '5',\n",
       " '5',\n",
       " '4',\n",
       " '5',\n",
       " '4',\n",
       " '5',\n",
       " '5',\n",
       " '5',\n",
       " '5',\n",
       " '5',\n",
       " '4',\n",
       " '4',\n",
       " '4',\n",
       " '5',\n",
       " '5',\n",
       " '5',\n",
       " '5',\n",
       " '4',\n",
       " '4',\n",
       " '3',\n",
       " '5',\n",
       " '5',\n",
       " '2',\n",
       " '5',\n",
       " '5',\n",
       " '3',\n",
       " '5',\n",
       " '4',\n",
       " '3',\n",
       " '5',\n",
       " '5',\n",
       " '4',\n",
       " '4',\n",
       " '3',\n",
       " '4',\n",
       " '4',\n",
       " '5',\n",
       " '5',\n",
       " '4',\n",
       " '5',\n",
       " '5',\n",
       " '3',\n",
       " '5',\n",
       " '5',\n",
       " '3',\n",
       " '5',\n",
       " '1',\n",
       " '5',\n",
       " '4',\n",
       " '5',\n",
       " '4',\n",
       " '5',\n",
       " '5',\n",
       " '4',\n",
       " '4',\n",
       " '5',\n",
       " '5',\n",
       " '3',\n",
       " '5',\n",
       " '5',\n",
       " '5',\n",
       " '1',\n",
       " '5',\n",
       " '4',\n",
       " '4',\n",
       " '1',\n",
       " '2',\n",
       " '5',\n",
       " '1',\n",
       " '4',\n",
       " '1',\n",
       " '4',\n",
       " '5',\n",
       " '5',\n",
       " '4',\n",
       " '5',\n",
       " '4',\n",
       " '4',\n",
       " '4',\n",
       " '3',\n",
       " '3',\n",
       " '1',\n",
       " '5',\n",
       " '5',\n",
       " '3',\n",
       " '5',\n",
       " '5',\n",
       " '4',\n",
       " '5',\n",
       " '5',\n",
       " '5',\n",
       " '5',\n",
       " '5',\n",
       " '5',\n",
       " '4',\n",
       " '4',\n",
       " '4',\n",
       " '5',\n",
       " '5',\n",
       " '5',\n",
       " '4',\n",
       " '4',\n",
       " '5',\n",
       " '5',\n",
       " '5',\n",
       " '5',\n",
       " '3',\n",
       " '3',\n",
       " '4',\n",
       " '4',\n",
       " '5',\n",
       " '5',\n",
       " '4',\n",
       " '5',\n",
       " '5',\n",
       " '5',\n",
       " '5',\n",
       " '5',\n",
       " '5',\n",
       " '5',\n",
       " '5',\n",
       " '4',\n",
       " '5',\n",
       " '5',\n",
       " '5',\n",
       " '4',\n",
       " '5',\n",
       " '5',\n",
       " '1',\n",
       " '5',\n",
       " '5',\n",
       " '5',\n",
       " '5',\n",
       " '4',\n",
       " '5',\n",
       " '4',\n",
       " '4',\n",
       " '5',\n",
       " '1',\n",
       " '5',\n",
       " '5',\n",
       " '5',\n",
       " '5',\n",
       " '1',\n",
       " '5',\n",
       " '4',\n",
       " '5',\n",
       " '4',\n",
       " '4',\n",
       " '5',\n",
       " '5',\n",
       " '4',\n",
       " '5',\n",
       " '2',\n",
       " '3',\n",
       " '4',\n",
       " '5',\n",
       " '3',\n",
       " '4',\n",
       " '5',\n",
       " '4',\n",
       " '5',\n",
       " '5',\n",
       " '5',\n",
       " '4',\n",
       " '3',\n",
       " '2',\n",
       " '2',\n",
       " '5',\n",
       " '5',\n",
       " '1',\n",
       " '5',\n",
       " '4',\n",
       " '5',\n",
       " '4',\n",
       " '3',\n",
       " '4',\n",
       " '5',\n",
       " '5',\n",
       " '5',\n",
       " '5',\n",
       " '3',\n",
       " '3',\n",
       " '5',\n",
       " '5',\n",
       " '5',\n",
       " '4',\n",
       " '3',\n",
       " '5',\n",
       " '4',\n",
       " '5',\n",
       " '5',\n",
       " '5',\n",
       " '4',\n",
       " '4',\n",
       " '5',\n",
       " '5',\n",
       " '5',\n",
       " '3',\n",
       " '5',\n",
       " '5',\n",
       " '4',\n",
       " '5',\n",
       " '5',\n",
       " '4',\n",
       " '4',\n",
       " '4',\n",
       " '5',\n",
       " '5',\n",
       " '2',\n",
       " '3',\n",
       " '5',\n",
       " '1',\n",
       " '3',\n",
       " '5',\n",
       " '4',\n",
       " '5',\n",
       " '4',\n",
       " '3',\n",
       " '5',\n",
       " '5',\n",
       " '4',\n",
       " '5',\n",
       " '3',\n",
       " '5',\n",
       " '5',\n",
       " '3',\n",
       " '5',\n",
       " '5',\n",
       " '4',\n",
       " '4',\n",
       " '5',\n",
       " '4',\n",
       " '5',\n",
       " '5',\n",
       " '4',\n",
       " '5',\n",
       " '3',\n",
       " '5',\n",
       " '2',\n",
       " '4',\n",
       " '5',\n",
       " '5',\n",
       " '5',\n",
       " '4',\n",
       " '5',\n",
       " '4',\n",
       " '5',\n",
       " '5',\n",
       " '4',\n",
       " '5',\n",
       " '4',\n",
       " '5',\n",
       " '5',\n",
       " '5',\n",
       " '2',\n",
       " '5',\n",
       " '5',\n",
       " '1',\n",
       " '4',\n",
       " '2',\n",
       " '5',\n",
       " '5',\n",
       " '5',\n",
       " '5',\n",
       " '5',\n",
       " '5',\n",
       " '5',\n",
       " '4',\n",
       " '1',\n",
       " '5',\n",
       " '5',\n",
       " '3',\n",
       " '5',\n",
       " '5',\n",
       " '5',\n",
       " '2',\n",
       " '4',\n",
       " '5',\n",
       " '3',\n",
       " '5',\n",
       " '5',\n",
       " '3',\n",
       " '4',\n",
       " '4',\n",
       " '4',\n",
       " '4',\n",
       " '5',\n",
       " '5',\n",
       " '5',\n",
       " '4',\n",
       " '5',\n",
       " '5',\n",
       " '5',\n",
       " '5',\n",
       " '5',\n",
       " '5',\n",
       " '1',\n",
       " '1',\n",
       " '1',\n",
       " '1',\n",
       " '5',\n",
       " '2',\n",
       " '2',\n",
       " '1',\n",
       " '4',\n",
       " '1',\n",
       " '2',\n",
       " '1',\n",
       " '1',\n",
       " '1',\n",
       " '5',\n",
       " '2',\n",
       " '1',\n",
       " '1',\n",
       " '1',\n",
       " '1',\n",
       " '1',\n",
       " '2',\n",
       " '1',\n",
       " '1',\n",
       " '1',\n",
       " '4',\n",
       " '2',\n",
       " '1',\n",
       " '1',\n",
       " '1',\n",
       " '1',\n",
       " '5',\n",
       " '1',\n",
       " '2',\n",
       " '2',\n",
       " '4',\n",
       " '2',\n",
       " '1',\n",
       " '2',\n",
       " '5',\n",
       " '4',\n",
       " '4',\n",
       " '4',\n",
       " '5',\n",
       " '5',\n",
       " '5',\n",
       " '4',\n",
       " '3',\n",
       " '3',\n",
       " '4',\n",
       " '5',\n",
       " '5',\n",
       " '4',\n",
       " '4',\n",
       " '5',\n",
       " '4',\n",
       " '1',\n",
       " '2',\n",
       " '5',\n",
       " '1',\n",
       " '5',\n",
       " '4',\n",
       " '4',\n",
       " '1',\n",
       " '5',\n",
       " '1',\n",
       " '4',\n",
       " '5',\n",
       " '4',\n",
       " '3',\n",
       " '3',\n",
       " '5',\n",
       " '5',\n",
       " '4',\n",
       " '1',\n",
       " '5',\n",
       " '1',\n",
       " '5',\n",
       " '1',\n",
       " '1',\n",
       " '1',\n",
       " '2',\n",
       " '3',\n",
       " '3',\n",
       " '2',\n",
       " '4',\n",
       " '5',\n",
       " '1',\n",
       " '5',\n",
       " '1',\n",
       " '1',\n",
       " '1',\n",
       " '4',\n",
       " '3',\n",
       " '2',\n",
       " '1',\n",
       " '1',\n",
       " '5',\n",
       " '1',\n",
       " '1',\n",
       " '1',\n",
       " '1',\n",
       " '5',\n",
       " '2',\n",
       " '1',\n",
       " '5',\n",
       " '3',\n",
       " '1',\n",
       " '3',\n",
       " '4',\n",
       " '4',\n",
       " '5',\n",
       " '5',\n",
       " '5',\n",
       " '5',\n",
       " '4',\n",
       " '1',\n",
       " '5',\n",
       " '5',\n",
       " '5',\n",
       " '3',\n",
       " '1',\n",
       " '5',\n",
       " '1',\n",
       " '5',\n",
       " '1',\n",
       " '3',\n",
       " '5',\n",
       " '5',\n",
       " '4',\n",
       " '3',\n",
       " '5',\n",
       " '5',\n",
       " '5',\n",
       " '4',\n",
       " '5',\n",
       " '1',\n",
       " '1',\n",
       " '4',\n",
       " '5',\n",
       " '5',\n",
       " '1',\n",
       " '4',\n",
       " '5',\n",
       " '3',\n",
       " '5',\n",
       " '1',\n",
       " '3',\n",
       " '5',\n",
       " '5',\n",
       " '3',\n",
       " '4',\n",
       " '4',\n",
       " '5',\n",
       " '5',\n",
       " '2',\n",
       " '1',\n",
       " '3',\n",
       " '2',\n",
       " '5',\n",
       " '4',\n",
       " '4',\n",
       " '4',\n",
       " '5',\n",
       " '5',\n",
       " '5',\n",
       " '5',\n",
       " '1',\n",
       " '5',\n",
       " '4',\n",
       " '3',\n",
       " '5',\n",
       " '3',\n",
       " '4',\n",
       " '5',\n",
       " '3',\n",
       " '3',\n",
       " '4',\n",
       " '4',\n",
       " '3',\n",
       " '1',\n",
       " '4',\n",
       " '5',\n",
       " '5',\n",
       " '5',\n",
       " '4',\n",
       " '5',\n",
       " '5',\n",
       " '5',\n",
       " '1',\n",
       " '2',\n",
       " '4',\n",
       " '5',\n",
       " '3',\n",
       " '5',\n",
       " '1',\n",
       " '4',\n",
       " '1',\n",
       " '1',\n",
       " '5',\n",
       " '5',\n",
       " '5',\n",
       " '4',\n",
       " '3',\n",
       " '1',\n",
       " '2',\n",
       " '5',\n",
       " '5',\n",
       " '5',\n",
       " '5',\n",
       " '5',\n",
       " '4',\n",
       " '1',\n",
       " '4',\n",
       " '5',\n",
       " '3',\n",
       " '3',\n",
       " '4',\n",
       " '4',\n",
       " '3',\n",
       " '5',\n",
       " '2',\n",
       " '5',\n",
       " '5',\n",
       " '4',\n",
       " '5',\n",
       " '5',\n",
       " '5',\n",
       " '5',\n",
       " '4',\n",
       " '5',\n",
       " '5',\n",
       " '3',\n",
       " '5',\n",
       " '4',\n",
       " '5',\n",
       " '4',\n",
       " '5',\n",
       " '4',\n",
       " '4',\n",
       " '3',\n",
       " '2',\n",
       " '5',\n",
       " '5',\n",
       " '5',\n",
       " '5',\n",
       " '5',\n",
       " '5',\n",
       " '3',\n",
       " '5',\n",
       " '2',\n",
       " '4',\n",
       " '5',\n",
       " '5',\n",
       " '4',\n",
       " '2',\n",
       " '3',\n",
       " '5',\n",
       " '5',\n",
       " '3',\n",
       " '4',\n",
       " '4',\n",
       " '5',\n",
       " '5',\n",
       " '5',\n",
       " '5',\n",
       " '3',\n",
       " '3',\n",
       " '4',\n",
       " '1',\n",
       " '3',\n",
       " '4',\n",
       " '5',\n",
       " '5',\n",
       " '5',\n",
       " '5',\n",
       " '5',\n",
       " '5',\n",
       " '5',\n",
       " '4',\n",
       " '4',\n",
       " '5',\n",
       " '5',\n",
       " '5',\n",
       " '4',\n",
       " '4',\n",
       " '4',\n",
       " '4',\n",
       " '2',\n",
       " '2',\n",
       " '3',\n",
       " '2',\n",
       " '4',\n",
       " '5',\n",
       " '5',\n",
       " '3',\n",
       " '4',\n",
       " '2',\n",
       " '4',\n",
       " '5',\n",
       " '4',\n",
       " '3',\n",
       " '5',\n",
       " '1',\n",
       " '1',\n",
       " '5',\n",
       " '5',\n",
       " '2',\n",
       " '5',\n",
       " '3',\n",
       " '1',\n",
       " '3',\n",
       " '5',\n",
       " '5',\n",
       " '5',\n",
       " '1',\n",
       " '5',\n",
       " '5',\n",
       " '4',\n",
       " '5',\n",
       " '4',\n",
       " '5',\n",
       " '4',\n",
       " '5',\n",
       " '4',\n",
       " '5',\n",
       " '4',\n",
       " '3',\n",
       " '3',\n",
       " '4',\n",
       " '3',\n",
       " '5',\n",
       " '3',\n",
       " '3',\n",
       " '3',\n",
       " '5',\n",
       " '5',\n",
       " '5',\n",
       " '4',\n",
       " '3',\n",
       " '4',\n",
       " '2',\n",
       " '5',\n",
       " '4',\n",
       " '5',\n",
       " '5',\n",
       " '5',\n",
       " '5',\n",
       " '1',\n",
       " '3',\n",
       " '5',\n",
       " '5',\n",
       " '3',\n",
       " '5',\n",
       " '1',\n",
       " '5',\n",
       " '5',\n",
       " '5',\n",
       " '2',\n",
       " '4',\n",
       " '5',\n",
       " '4',\n",
       " '5',\n",
       " '4',\n",
       " '4',\n",
       " '3',\n",
       " '4',\n",
       " '4',\n",
       " '3',\n",
       " '5',\n",
       " '4',\n",
       " '3',\n",
       " '5',\n",
       " '5',\n",
       " '4',\n",
       " '4',\n",
       " '3',\n",
       " '3',\n",
       " '5',\n",
       " '5',\n",
       " '5',\n",
       " '5',\n",
       " '4',\n",
       " '5',\n",
       " '1',\n",
       " '5',\n",
       " '4',\n",
       " '4',\n",
       " '5',\n",
       " '2',\n",
       " '4',\n",
       " '1',\n",
       " '5',\n",
       " '3',\n",
       " '3',\n",
       " '1',\n",
       " '1',\n",
       " '5',\n",
       " '5',\n",
       " '5',\n",
       " '5',\n",
       " '1',\n",
       " '2',\n",
       " '4',\n",
       " '5',\n",
       " '4',\n",
       " '5',\n",
       " '3',\n",
       " '2',\n",
       " '5',\n",
       " '4',\n",
       " '2',\n",
       " '5',\n",
       " '4',\n",
       " '5',\n",
       " '5',\n",
       " '5',\n",
       " '1',\n",
       " '1',\n",
       " '3',\n",
       " '5',\n",
       " '1',\n",
       " '5',\n",
       " '4',\n",
       " '2',\n",
       " '4',\n",
       " '5',\n",
       " '1',\n",
       " '5',\n",
       " '5',\n",
       " '5',\n",
       " '3',\n",
       " '5',\n",
       " '4',\n",
       " '5',\n",
       " '3',\n",
       " '5',\n",
       " '3',\n",
       " '3',\n",
       " '4',\n",
       " '4',\n",
       " '3',\n",
       " '2',\n",
       " '4',\n",
       " '2',\n",
       " '5',\n",
       " '5',\n",
       " '1',\n",
       " '4',\n",
       " '1',\n",
       " '5',\n",
       " '1',\n",
       " '1',\n",
       " '3',\n",
       " '1',\n",
       " '4',\n",
       " '3',\n",
       " '5',\n",
       " '1',\n",
       " '1',\n",
       " '5',\n",
       " '3',\n",
       " '3',\n",
       " '4',\n",
       " '3',\n",
       " '5',\n",
       " '1',\n",
       " '5',\n",
       " '3',\n",
       " '5',\n",
       " '5',\n",
       " '5',\n",
       " '3',\n",
       " '1',\n",
       " '4',\n",
       " '5',\n",
       " '3',\n",
       " '5',\n",
       " '4',\n",
       " '5',\n",
       " '1',\n",
       " '5',\n",
       " '5',\n",
       " '3',\n",
       " '4',\n",
       " '3',\n",
       " '4',\n",
       " '5',\n",
       " '5',\n",
       " '5',\n",
       " '5',\n",
       " '3',\n",
       " '5',\n",
       " '3',\n",
       " '5',\n",
       " '5',\n",
       " '5',\n",
       " ...]"
      ]
     },
     "execution_count": 83,
     "metadata": {},
     "output_type": "execute_result"
    }
   ],
   "source": [
    "Ratings"
   ]
  },
  {
   "cell_type": "code",
   "execution_count": 84,
   "metadata": {},
   "outputs": [
    {
     "data": {
      "text/plain": [
       "['This is the best laptop in this range.I recieved late delivery due to big billion sale but the waiting was worth it. I played The Witcher 3 and Far Cry 4 in ULTRA graphics and it was running super smooth without any lag. So for gaming its a Beast no doubt. After 2 days I was getting charging issue and the charging was very slow so I contacted HP support via whatsapp and they told me to update the BIOS and after updating it was back to super fast charging and even the system was running faster...',\n",
       " 'Good product as used of now.... Everything is good and also SSD slot is given for upgradation.... Only keys of Keyboard are not looking as reliable as other basic HP laptops....it has been a month now... I will use it for three months again and will update my review.....',\n",
       " 'AWESOME LAPTOP. It supports many high spec games like gta 5. Super quality. I liked it very much',\n",
       " \"For that price... it's exceptionally good. Played Far Cry 4 at Ultra Graphics 1080p.. was super smooth. So was GTA V, Just Cause 4. So you can do pretty decent gaming. General PC performance is good. Photoshop 2020 (June) works perfectly and also other Adobe products. Display is super cool too. So yeah, a good system overall for that price.\",\n",
       " 'RAM upgrade is must do because the useable RAM is only 6GB, Ryzen 5 3550H is a great processor however eats up 2GB RAM in system, Due to that Heavy games like GTA 5 stutter, The FPS while gaming is good however stuttering happens when games doesn’t get enough RAM, Due to which I have to spend another 3.5K to put a 2nd 8GB ram stick. Rest all Is good Display is crisp Battey is good for gaming laptop anyway to play games chargers needs to be plugged in, Although the 5400 RPM HDD is quite slow m...',\n",
       " \"It's good gameing laptop in this price Display is good battery backup is good And I like keyboard 😁👌\",\n",
       " \"Best laptop in this price range... Believe me if you are willing to buy this laptop don't hesitate just go Nd buy it !! Booting takes 22 sec... If you want more faster then I will recommend you to go for ssd variant... Speed of HDD is not that slow people are reviewing above🙄... Nd wait wait wait people are also saying above ram is the problem only given 6 GB so every device have some pre installed software so non of the brand will provide u 8 out of 8 gbs 🤦♂️...there is no problem with the...\",\n",
       " \"The AMD APU is a disappointment. If you guys don't know, the amd integrated graphics will reserve 2gb of your ram so you are left with 6gb instead of 8. HP has also locked their bios so we can't change vram settings either. It is what it is, I'll recommend that you should go for an Intel cpu if you can bcz amd might be cheaper but they will eat your hardware even though you are not using it at all so it's a waste of 1/4 of ram you paid for. Other than that Gtx1650 is a beast and ryzen 5 will ...\",\n",
       " 'Its an absolute beast if u know what are the necessary steps to follow after completing the installation of your laptop...  Make sure you update all the drivers and specifically windows bios and nvidia drivers, because it enhances the performance very much , i myself have felt the same ...Just download a software called driver booster which is free and a great soft indeed it scans for all available driver updates and installs them , also it has a game turbo power option which releases some ra...',\n",
       " 'Okay so ive been using this laptop since a few days/weeks now and i really like it 1. The display is good 2. The Laptop runs smoothly 3. Upgradable which is a big pro 4. Great sound quality 5. beautiful build 6. Games work nicely Cons 1. A little bit slow but that can be upgraded using a ram and ssd 2. I play fortnite and rocket league on it and they run smoothly but sometimes theres a frame drop which again can be solved by ssd and ram  Overall i would really say this is a great laptop',\n",
       " \"This is my 2nd laptop and ti be true i like it preety much. The booting speed is good and can be more if you install ssd in it.  Overall look wise it's awesome 👌😍.  I played Apex legend in low graphic settings and it runs smoothly  The lappy can become a beast if you upgrade the ssd and ram ✌️ An additional of around 5k to 9k can be done to reach it's maximum potential. I'm happy with it 😊\",\n",
       " \"U'll need some upgrades  Ram needs to be extended, out of 8 gb some ram is always dedicated as shared memory for GPU, that is vega 8 (Not the main dedicated gpu).  Better to upgrade with a sdd at least for the os drive.  Not a beast for gaming but if upgraded can provide decent gaming experience. Don't expect good gaming or intense gpu performance on battery at this budget. Batteries for gaming laptop are not ment to provide you backup for long.  Got it at 44k, I think can't buy any thing bet...\",\n",
       " \"The true potential of this thing is unleashed when it's plugged in. Don't even bother to game on this thing on battery only. Battery backup about 5 Hrs on normal uses like browsing, video streaming etc with both wifi and Bluetooth ON.  2GB out of the 8GB RAM is reserved for Vega 8 which is a real bummer. So another RAM of 8GB 2400 MHz is recommended at slot 2.  Pair it with an SSD ( ofcourse nvme recommend ) and feel the difference.  Be sure to download GeForce Experience.  Update all the dr...\",\n",
       " 'For the peoples who R going to buy R they buyed this Product. U will Face all this Problems 1) Performance of the laptop is so slow 2) Booting time takes 40 sec coz of HDD 3)When u will play Heavy games like Gta 5 of pubg it will lag like A hell 4) Apps opening and closing time is soo slow and Feels like the laptop is lagging and performing Very slow. 5) Whenever u will game on It, The laptop will automatically Get lock and Restart.  Okay Now SolUTion For all of This -  1) Update ur Laptop to...',\n",
       " 'This review is after using this laptop for 6 months. Display:10/10 Performance:10/10 Battery:8/10 No heating issues No fan noise while normal usage Suggestions: 1.try to add extra 8 gb ram.because amd integrated graphic card uses 2gb of ram and available ram is only 6gb. 2.try to add 500gb ssd and move your os to ssd. Then you laptop enters into beast mode  Overall great laptop with amazing specs. Blindly go for it.',\n",
       " 'This is an initial impression review. The battery life, display and design are above par. Gaming experience is terrific with a good, strong card inside. The issue might be the 2GB RAM reseved by RX Vega which is the inbuilt mobile gpu of Ryzen. All in all, a good package and a great value for money. My suggestion would be to install an ssd and an additional 8 GB RAM in the near future to get the most out of the product. Note : Disappointed by flipkart for not putting in bubble wrap in the pa...',\n",
       " \"greate deal for the price to performance ratio. for gaming it is good but only one problem it heats up quickly so for better you should keep it on cool surface for gaming . Other things are exellent. 'I loved the experience\",\n",
       " 'Product is excellent but battery is draining is lot faster than I expected but it is above average. Overall product is good and I think you also get what you paid for. I am happy with laptop.',\n",
       " \"Sorry, after 2 months of buying now....I am thinking why I bought this laptop ....I recommend don't buy you can go with intel instead of ryzen ...I bought it for coding and designing purpose but yet I haven't installed such softwares ...still it is getting hang while watching yt on it ... just like our Android get if memory gets full ...and also some time sentence of some part getting on screen adruptly ....design and display of lappi is excellent but had performence ....\",\n",
       " 'Good product performance really awsome and powerful battery life...😇😇😍.. I like it very much',\n",
       " \"It is having a wonderful build design ? Build quality is really good Bcoz of not having ssd it's not that fast in opening files apps and softwares It doesn't gets too much heat Overall satisfied with the product\",\n",
       " 'Overall this is best buy in this price range. Only issue I found that it has 5.9 gigs of Usuable ram out of 8 gigs because of integrated amd graphics. It gives approximately 40 to 60 fps in high end games like watch dogs 2, gta v, Witcher 3 at high settings. Battery is decent, display quality is good.....',\n",
       " 'It is a bit slow.... If you want faster experience install ssd in it. It has SSD slot or you can go for SSD variant.Other than this all are woking good. I think this may not be a big problem. I loved it.... The gaming experience is so nice...overall performance is good..',\n",
       " 'The laptop in short is a beast.For peaple owning a laptop for the first time,it would be bliss.It has many flaws(with HDD).But for those who are willing to take care of their laptop,it will work like a charm. Overall,I would say just to go for it.',\n",
       " \"It's small...Design good...Clarity awesome....Performance is good after 1 week use...Battery charges fast and stands nearly 6 hours for normal use ...One minor problem when it's charging we can't use the mouse touch pad smoothly...It's jumping and lagging....Better use separate mouse like i do...Just cause 3 plays very smoothly...Only 6 gb ram we can use as a default... Over all its a good one ...\",\n",
       " 'Good packaging, right on time, gorgeous design and lovely performance, best buy for beginners',\n",
       " 'Product is awesome I m fully satisfied with the product. Display quality is superb But the delivery experience was not so good took almost 15 days to deliver the product..',\n",
       " 'Good Experience with this Product. For better more smoothness and for better experience upgrade add 256 GB SSD in it .',\n",
       " 'Nice product Battery mostly 4 to 5 hours But performance was very nice 4 star for late delivery otherwise product was very nice at this price Booting take normal time but its good in hdd Because sdd was fast comparable to hdd I think this is the drawback Company needs to modify ssd on this product',\n",
       " \"Actually it's good ,no problem yet .just update your windows and it will became more fast. You can also add ssd and ram if you needed. Look wise it is great and battery charges very fast due to 150 watt charger.  Actually it's perfect if you add ssd and ram\",\n",
       " \"I am using it for a day what i have noticed is it gets a little hot from the bottom right but it's manageable. The screen is beautiful, backlit keyboard makes it total worth the price. I bought it for 48,875 and it delivers really good specifications and quality. Overall it's a great product if you're getting it under 50k. If not then you should wait for some Flipkart sale.\",\n",
       " 'Excellent laptop for professional as well as gaming purpose. I am writing this review after 1 month of use. First when I got the product it was not the proper product as the OS was having some problem. But immediately hp service man have checked and cleared the problem. I am using this laptop for design purpose. I use to work with AutoCAD, CATIA, SOLIDWORKS, etc. These applications are running super smooth and speed in this laptop. However if you are using this kind of high end applications ...',\n",
       " 'Performance was awesome .....it has Amd Rhyzen 5 3550H processor which has slightly lower base clock speed of 2.1 GHz but that works much better than Intel Core i5 9th gen and also neck to neck i5 10th gen....some said it was also better than i7 9th gen ....which I can even realise when it renders videos within minutes in DaVinci Resolve which is most renowned video editing software and heavy software in the industry...but that is only possible with an extra installation of M.2 Nvme SSD from...',\n",
       " 'One of the best budget gaming laptop loved it 😘. Smooth performance, good graphics card but it would have been better if there were other colors of RGB lights on the keyboards and u cannot change the color of the keyboard lights. But good laptop beast performance.',\n",
       " 'absolutely satisfied with the product. No ssd in this one but believe me it boots up in freaking 20 seconds. its just mind boggling. performance wise its descent handles my alll the tasks like a charm and it has got a good cooling system as well. fan not so loud so . if u r having a strict budget around 52k just go for this, spending little more and getting a hexa core proccesor model 1021ax would be wiser though. go for it u wont be dissapointed.  Edit: if u buy this one here after do not uo...',\n",
       " \"Pictures don't do justice.. Product is awesome and built quality is too good. Looks premium. Upgrade to ssd for most of this beast.. Display is awesome. Backlit is good. Purple is better than >>>red, white.. I have used many of them... Battery is 4 hours.. Overall it's a beast under 50k..  If u are getting it under 55k go for it..  Out of 8 gb ram 6 gb ram is what we get..\",\n",
       " 'Best at this price range only compromising thing is its ram but 6 gb ram also handle many AAA titles with ease but you may notice some of very high end titles sttuter like GTA 5 because of ram if you upgrade your ram to 12 gb or 16 gb then you will get the real performance of this lappy ....no frame drops after upgrading and handle 70% new games with 60fps ij high setting .....',\n",
       " 'Look perfect 💕 Display is nice Sound quality is superb 💕 Performance :- A little bit laggy... But if you upgrade with ssd then it gives you a good performance .. 5 day genuine review',\n",
       " 'Overall This Laptop Is Great But Someone Who Want Something Perfect I inform You That For Ame Lovers Its gReat thing as 4gb graphics and 8 gb ram is spectacular on the other hand battery drains quickly when you play games its important to plug in charger while playing  Screen size is small compare to others but its budget friendly so no offense  Need ssd for the fast startup and game lags due to it when power supply is not connected  I lost my battery sign on the taskbar so if anyone know how...',\n",
       " \"Ok, so I have a lot to say. First of all, I ordered this laptop for my sister on 7th Nov. My father purchased it and it was fast delivered. Coming to packaging. Flipkart terrible packaging from the outermost. When we first unboxed it the hp package was perfect in condition. The laptop was fresh as anticipated. It was perfectly sealed. Ok now coming to the product. I'll say it directly. Pros Display-15.6 perfect if you want a big screen and got bored of a 14 inch one Processor-a ryzen 5 3550h...\",\n",
       " \"Amazing Laptop Loved it I upgraded the 256gb Western Digital Nvme SSD into it which make it's performance next level Booting time reduced from 40 seconds to 18 seconds. Recommended to install ssd to get real performance\",\n",
       " 'Very Good Packaging. Product safely kept. Received the product in good condition. Clean Stuff. Only problem is the RAM, 6GB is only usable out of 8GB',\n",
       " \"I ordered this laptop a month ago and I really love it So this review is for those who aren't sure if it's worth it well to be honest it has a average battery in terms of me rating it But it is really fast and the screen is really good Design wise and performance is really good It comes with a ryzen 5 processor and gtx 1650 Graphics card Which is really great Especially for gaming U can play fortnite above 60 fps and 120 fps with no problem Go for it it's really worth it The only is...\",\n",
       " 'I bought this laptop for a balance routine like moderate gaming and normal work, and i have no complaints. The battery backup is really good of around 4hrs 30min to 5 hrs. The keyboard is well lit and you have no problem seeing the buttons even in dark room conditions. Ive been using this for 3 months now and I HAVE NO ISSUES with it. Do keep in mind that this comes with the TRIAL version of Microsoft Office and not the full version. It comes with McAfee antivirus which does a really good j...',\n",
       " 'Very nice laptop for students and office work better that Asus and Acer We can play game at High settings to get 60fps Battery is very nice and laptop charges in 30-60 min Display is fantastic',\n",
       " \"This is a decent gaming laptop, not recommended for high end gamers. However for casual gamers it's a nice option and performance is also good.\",\n",
       " 'This Laptop has a HDD which is really slow at booting...i would recommend you to buy a M.2 NVME SSD for Faster boot time and great performance...and also add up an 8GB ddr4 RAM for great performance',\n",
       " \"I have been using this for a week now. Short answer, just go for it, the best non chinese laptop under this price segment. I brought it for 48k. I have seen most of the reviews saying performance is not great. First things first you have to plug in while you are gaming otherwise you won't be getting the peak performance or just set battery to best performance while you are not plugged in.  Boot time with HDD: Again I have seen many reviews saying it takes around 1 and half minute to boot ...\",\n",
       " 'One of tha Best laptop for Gaming and also for office work  Pros... Best performance Best display Best Sound Best design Best battery backup Beautiful backlit keyboard Trust of HP service  Put ssd and increase ram yourself.. Then this laptop will be Beast performance.  Cons.... Average webcam Boot time max 30sec... Only 5.9gb Ram available',\n",
       " 'It is just awesome laptop good design, excellent display,nice graphics It is an awesome product I just loved it',\n",
       " 'I am satisfied with it at this price.Smooth performance even without ssd , backlight is just awesome I loved it.this is best for overall performance wheather you want to play game ,do editing , everything you can do smoothly.must buy it.',\n",
       " \"Awesome Product. Really fast and reliable. Haven't played any games yet but it pretty solid with multi tasking. Takes some time to start up the first time but then later its fine. I preferred Ryzen 5 over intel because of performance and it truly delivers that performance.\",\n",
       " 'At this prize Intel is giving best laptops. But for 50k ryzen 5 3550h quad core is less At the prize of 45k other laptop is giving ryzen 5 hexa core',\n",
       " 'Overall I like the laptop and perferably perfer this one.  Pros: 1. Speaker quality is good 2. LED quality is good and great display 3. Keybord is nice 4. Battery back is nice upto 3 hours without games. 5. Laptop build quality is nice. 6. Cooling is very well. 7. Camera quality is quiet well. 8. Processor is at their best  Cons: 1. There should be an SSD in place of HDD ( In this price tag ). 2. There is lagging problem while playing games on battery mode.',\n",
       " \"I bought this laptop far a week now.. it was soo cool and amazing performance for this price range.The only issue is with the booting time gets more time because of no ssd.. and the battery is pretty good for my usage..and for great performance there is a M.2 sad slot you can easy add ssd and run os on that ssd it will boot fast and fast processing 🔥.. Overall the laptop is beast because of Nividia GTX 1650 graphics 🔥🔥..go for it don't hesitate to buy it's a beast for this price range and...\",\n",
       " 'I write this review after using 10 days Design of laptop is excellent Especially display I loved it Battery is disappointing me Except battery all else fine If you are student then go for it Overall this is my first laptop so I love it One more thing performance is bit slow due to hdd If you want to play gt5 then you add ssd this boot your performance',\n",
       " 'This review is after using for 1 week after installing all the updates and updating BIOS. This is a mediocre laptop. It just gets the work done. If you are purchasing this laptop, better get the SSD version or better get a SSD and upgrade RAM. The HDD version is really slow to boot up and takes 2-3 minutes after startup to function without stuttering. The initial 2-3 minutes after startup is really painful to use. My 2012 Dell laptop with HDD boots faster and can get to functioning properly ...',\n",
       " 'The only thing that I noticed is that it takes a little time to boot up. I have had used Lenovo before, beside being old it boots even taster than HP. Other than this I like all about it, when it gets little hot the two fans kicks in which makes me feel that I have a powerful machine. If you have more budget, then I would suggest you to go for Asus ROG. Which is too of the line product.',\n",
       " 'Good laptop with quite good display and features. Performance wise the processing is little slower than expected. Good buy at this price. Games run with good speed and efficiency.',\n",
       " 'The design and the user experience is best in class. But, it is quite slow. Even simple activities take longer time to respond. Also, would have been great if it had a Touch screen instead of a regular screen. Overall, I am happy except for these issues.',\n",
       " \"The System is quite good in terms of processing power. The only problem is HDD, it takes ages to load anything. Be it booting or starting any heavy app. It takes a lot of time to run apps and to boot up. The same problem is true for most laptops with HDD as primary storage.  To overcome the long wait in boot time. I use the hibernate option provided by windows instead of shutdown. Hibernate keeps all your apps running and cuts of the power to the system. So the next time you turn it on, it's ...\",\n",
       " 'Awsome laptop. Only battery backup is a little lower but charges faster and windows 10 is genuine it is still awsome laptop.',\n",
       " \"This is my first higher price product that I bought from Flipkart. The seller was PETILANTE ONLINE. I was very much satisfied with overall everything. I literally have zero complaints. The package and the delivery was all perfect and genuine. Coming to the laptop, it's the BEST machine if you're looking for a great gaming and also for other miscellaneous purposes. I never thought that online shopping would be a bliss. Thank you, Flipkart.\",\n",
       " \"-Laptop looks great. -Display is awesome. -Those backlits are awesome man. We feel like watching the backlits turn-on the whole day. -Battery is below average to be frank. I get hardly 2:30 hrs backup. -Speakers are good, but not the best in this price rang e and especially when they mention B & Bo audio system, I expected more from it. -As it has only HDD, it's not that fast, it gets stuck at times but still manageable. -Graphics is good. I played Asphalt 9 legends.  Verdict: Go for it!👍\",\n",
       " 'First thing first Do not rush for games, do windows updates first Updates will take time even after having a good internet connection. Once updates are done, it will completely turns into beast. Lot of people are complaining about the gaming performance, but believe me there is no problm after updating the system I had play NFS PAYBACK, CSGO in high setting and it works like a charm The impression of this is laptop is very nice, hp gives a really very good quality of ips display here I got t...',\n",
       " \"Ok, first of all this is gaming laptop, so if you are looking for gaming purpose then it's absolutely for you. Now Talking about battery performance then it's as usual like for all gaming laptops. Only thing is it doesn't come with MS office licence key. Overall laptop is worth it...💥 Have a nice day...\",\n",
       " 'Battery is pathetic, like I was getting free electricity in Delhi due to limited consumption, but this laptop sure gonna hike my electricity usage.  Laptop lags a bit , atleast 128 GB SSD should be given , and yes ram needs to get upgraded too , in order to have good performance.  Rest okayish product. For average usage.',\n",
       " 'I am writing this review almost a month After I have started using the product. As per the price it is an Ok quality of product. You can expect this quality of product for a range of 50k to 55k. I have got it on 48k inclusive of offers. Pros : 1.Got a very productive and effecient build quality. 2. Backlight Keyboard 3. Great 15.6 Inch Display. 4. Graphics card and Support 5. Rygen 5 Performance is great.  Cons : 1. No Microsoft life usability. It will ask you a license key. 2. Battery lif...',\n",
       " 'this laptop needs some extra ram to be installed after purchasing as it is slow in many ways and if possible have some budget after buying it to upgrade it with a ssd and ram then it is a beast. over all build quality is very good. the matte finish make it looks classy but at the same time attracts everything including dust, fingerprints so it needs some pampering. The keyboard backlit is very awesome and is eye catchy , sound is awesome, screen resolution is just best. battery is average jus...',\n",
       " 'pretty cool design the performance is really good the battery performance is good and it really charge very fast comparing to another laptops if you are seeing a laptop under 55k you can go for it',\n",
       " 'Good trending budget gaming configuration. HP has hit a jackpot in this category and it’s sales have seen a huge demand for the price point... more than Omen series. Can use it for Design softwares as well as heavy Gaming... serves well for both. AMD Ryzen series of processors wont disappoint you... trust me!',\n",
       " 'The laptop is just a beast. I loved the design of the laptop the speakers and the keys are the top quality. The battery of the laptop last well for normal usage for like 6 to 7 hours. I received the latest hp pavilion model the wifi is the best and it can connect to a wifi and a ethernet cable together at the same time you can enable this feature from the omen command center you can download it for free from the microsoft store the laptop performance is also good i am using this from last 10 ...',\n",
       " 'Good laptop with being able to run most games... Due to hardisk ,the laptop is very slow.booting time takes much time...but if you add. Ssd and move is to ssd. Then this laptop will be fast to boot..comes with a dedicated graphics. To play AAA title games...Due to AMD processor Vega 8 uses 2gb ram so u only get around 6 GB to use.. DEFINITELY if u upgrade ram and ssd this laptop will be damn fast....I got this laptop for 49890... Antiglare display is so good... Battery backup is so good... Du...',\n",
       " 'I using this laptop from three months. Autocad software are not running smooth. There are lagging problem for heavy autocad work so for autocad or 3 d software this laptop is avarage',\n",
       " \"My initial product had to be replaced because of various issues, I believe I have recieved a product that was returned by someone else.  It was damn slow and plastic felt very cheap, like for example, when you lift the laptop, you hear cracking noise throughout.  2 laptop;  First thing I did to uninstall the trail version antivirus as that made the laptop too slow. Second, updated windows and drivers.  Performance is ok and I'm not rating good because, the load time is very high but once wha...\",\n",
       " \"For Gaming Its Performance Is Fab .... But I don't Why it sometimes Lag In Carrying Out Normal Work (that can be due to HDD) Design Looks Unique 🥰 Speakers are also Good & Overall A Very Good Choice For those... Who have Dreams of Playing Some High Level Games... In Low Budget Laptops😊😊\",\n",
       " 'If you are go for a decent laptop then I should recommended this as described there is a huge and most of the amount of power that can be delivered by a AMD ryzen 5 3500H processor can be processed and there is a huge lot of processing power and many more decent display decent power backup for 4.5 or and a decent multitasking and full HD display which can be a great pleasure for who can do Photoshop and title gamer why most of us for follow by HDD that can be slow your laptop so you can be go...',\n",
       " 'There is 1 slot available u can upgrade ur ram and boost your performance i buyed 8gb hyper ram and boom its amazing u can stay with its 8gab ram no prblm laptop is tooo good',\n",
       " 'Best laptop for this type of specifications in this affordable price. And also good for Music quality.Display is good for quality videos . Performance is not so good.',\n",
       " 'Excellent product super value for money I mean this is a all rounder though u get gtx 1650 ti in competition but then is jus about 5 % gap go with this upgrade ram and ssd and good to go',\n",
       " 'Its been 2 weeks I am using the laptop, upgraded with 8 GB more RAM and it works like a charm, all the AAA titles of game runs smoothly on it - The game you name it and this beast will play it like charm, overall a great choice for official use also - For Work from home. To unlock the beast do upgrade with 8 GB ram and 240 GB SSD and it will run faster than any other laptop in this price range. Great value for money, Looks are awesome. Great choice.',\n",
       " \"excellent laptop with amazing looks and good price range. Just add a SSD to it and it's super fast.\",\n",
       " \"The hp pavilion gaming ryzen 5 laptop is a great option for a mix between business and gaming laptop. It has great design,good sound, great display.good battery and processor. The only downside is it doesn't come with a SSD which is a must for this laptop. It's a little slow without the SSD but since I had the SSD installed it's very fast. All in all a good buy at this price. Add 5k for SSD 500gb\",\n",
       " 'Display and design are great hdd is slow i updated this ssd its very fast and battery is average but 150watt charges charges very quick, gaming performance while charger plugged is seamless i got it for RS.49240/- perfect deal im happy with it.',\n",
       " 'Design of the laptop is very good . Performance not that good because some high spec games like GTA 5 are lagging . Need to install a ssd and a 8 GB ram additional. But I think this is the best laptop in this price range as it offers Nvidia gtx 1650 . And also battery backup is also just ok not good .',\n",
       " 'This is best laptop for students. I really like keyboard and disin. Startup almost 10s. But super and amazing. Perfomance is specialy amazing. I konw ryzen is best than in intel.still i satisfied this product 😍',\n",
       " \"At first week the laptop was quite fast it's booting time was also less than 1 min. But after 1 month due to some windows 10 update booting tome went upto 4-5 minutes. And the laptop battery was also not too long for general purpose we can use it for 3-4 hours or sometimes even less. But I am happy with hp customer service because when my battery adapter failed to work they replaced it with new one. I could suggest you that instead of buying HDD you may buy 4gb 1050 graphic card with SSD. Whi...\",\n",
       " \"I have been using this product for the last 10 days. So let me share my experience here.  -Its packing was great  -It has a decent screen.  -The backlight keyboard with violet color makes it quite attractive.  -speaker sound is good  -Battery backup is okay (even after using normal applications. Don't know if u play heavy games!!)  -webcam is great.  -this laptop is a bit slower & its booting time is more which makes it look like its lagging. It should be more faster as it has an AMD Ryzen 5 ...\",\n",
       " \"Startup is very long  Battery is not good  Working speed also no good .  This is the worst experience in laptops I ever used .  I didn't use first 15 days due to some person reasons now till then my return period is over .  Please I strongly recommend don't buy this laptop\",\n",
       " '1)i liked it very much because of its design fabulus 2)dispaly was good and bright &veuvienig angles were also good at that price range 3)performace was excelent and it also come with 4gb nvidia gtx 1650 grafix card which can handle the heavy games &softwares easily 4)booting time is little bit late when compare with SSD laptop because it comes only with HDD the good thing is we can easily upgrade the storage with help of SSD up to 1TB 5)we can also upgrade RAM upto 16 gb and it comes with 8...',\n",
       " \"Its takes a several minutes when its starting for first time. but after that it runs smoothly. Also the specification of RAM given here is 8 gb, yes its true.. but for daily(normal usage) you can use only 6 gb. Rest 2 gb is reserved. The best thing is The display and trackpad.  the thing which I didn't liked is that, it only has 2 usb ports which sometimes feels short when multiple devices needs to be connected.\",\n",
       " \"Don't ever buy this laptop , the description says it's a gaming laptop but it can't handle games like gta 5 and goes into hibernation mode within 5 minutes of the game and out of the 8gb ram only 5.9 gb is available and performance is not that slick , hence would advise anyone looking to buy this , avoid it and spend extra and get yourself a better laptop\",\n",
       " 'Highly Satisfied and value for money Laptop   7 months since I purchased this laptop and it works perfectly . Boot time was more since it has only HDD but when i installed SSD everything is just matter of seconds . Also upgraded Ram to 16 GB only I confirmed with HP service executive that the laptop Ram can be expanded to 32GB.   I suggest to confirm the Ram capacity with HP service center before upgrading the Ram',\n",
       " 'the laptop is great, an excellent buy for students and gamers alike.  the cpu and gpu work great in gaming and video editing. display size and quality is excellent. the keyboard feels really tactile and good to use. one of the con i found about this laptop is out of the 8gb ram, only 6 gb ram is usable ( 2gb ram is reserved for the integrated graphics). so i reccomend adding another 8gb ram stick for the best performance.',\n",
       " \"Ok So first don't trust on my english i hope you people can understand.  I review this laptop after 1 month of use i purchase this laptop on 3rd December 2020 today is 3rd jan 2021.   Look wise product is awesome. looks you want in gaming laptops this laptop satisfy the looks  Lets talk about display and the display is to awesome do not worry about display. Performance wise : you got amd ryzen 5 with radeon vega graphics(for display) and gtx 1650 dedicated graphic card with 8 gigs of ram but...\",\n",
       " \"07/09/20 today I got my laptop and it's design is fabulous looking too good. Really lite in weight display is descent for a hdd it is little bit slow but it has a nvme m.2 port for upgrading and a ddr4 extra ram slots so you can upgrade whenever you want to.best laptop for gaming and and work.ryzen processor really works well and that purple colour combinations is really eye catching\",\n",
       " 'A great laptop at this price segment with hp branding. I would suggest to go for ssd variant not with hdd one it takes around 15 -20 sec to work properly at time of boot. Battry is decent you can watch videos for 6-7 hrs i guess But dont expect gaming without charging  Conclusion- nice product if you want to do all work gaming , editing, coding and video watching',\n",
       " 'The laptop itself is nice it can play most games at high graphics at 60fps i play total war troy which is a demanding game and it runs smoothly. The main problem arises when you start playing games like forza horizon 4 the game will run at 60fps ultra but due to very slow hdd and very low ram it will stutter. The laptop has 8gb of ram out of which 2.1 gb is hardware reserved for vega 8 graphics which itself is good and can handle most things on its own. After that the os will take futher 1-2 ...',\n",
       " 'Besides all reviews i fell good after buying this laptop. But their i feel some lag in performance. I prefer you to go for ssd version or buy 256gb or 520 gb ssd for upgrade if you want to enjoy its full performance . Regarding to battery, it is a gaming laptop so thier battery quality is always low as they are build for playing games while charging for full performance.all total battery is better than expected. All total you can go with this laptop but later you have to buy ssd and ram for ...',\n",
       " 'Very nice product must buy !!!!! *Performance is very nice.. *Battery backup up to 90min for gaming otherwise for small works 3-4hrs *Audio quality is good but not so loud. * Display also good even we can use in sunlight Over all nice product must by this.',\n",
       " 'Best Value And Discount From Flipkart.... But This Hp pavilion Ryzen 5 Gaming Laptop Not Good For Gaming Performance.... Please add some money and get better Version Of Ryzen And Graphics Cards.... Like GEOFORCE RTX',\n",
       " \"PEOPLE LISTEN.... MANY SAY IT'S SLOW AMD WASTE OF MONEY AND CREATE A RUCKUS IN THE BUYER'S MIND.... SEE... IT HAS SLOWER BOOTING TIME ONLY BECAUSE 5400 RPM HDD.... JUST CLONE THE OS TO A SSD...THATS IT... IT'S A PERFECT BEAST... AND THE HDD IS NOT AS DUMB AS PEOPLE SAY.... REMOVE MANY STARTUP PROGRAMS IN MSCONFIG AND ENABLE QUICK BOOT IN BIOS... MAXIMUM 25 SECS BOOT TIME AFTER THIS... MOSTLY 15 TO 18 SECS...... THE LAPPY IS A SEXY BEAST TO BEHOLD....\",\n",
       " 'Awesome.. Must buy the product.',\n",
       " 'excellent product , just go for it if u are a gamer, basically i m using it for office purpose in these lockdown days.',\n",
       " 'BEST GAMING LAPTOP UNDER 55K.. AND ALL GAMES RUN SMOOTHLY LIKE GTA5',\n",
       " 'Best Laptop in this range ❤️❤️ no one can beat this in this price range. Nice build quality. Battery is good. Awsme product. Just go for it.',\n",
       " 'Laptop is really pretty first of all. I have played sekiro and mk 11 till now both are working on max. Only issue i am having is of ram the system gets overloaded very easily because of ram. Maybe if we just upgrade it all will be fine. Overall everything is working as expected.',\n",
       " 'Awesome',\n",
       " \"Review after 2 months usage PERFORMANCE- It's bit slow because of 1TB hard disk..if it was with 512GB SSD then it was perfect beast..add SSD to laptop then it will be excellent..but no problem it's ok BATTERY-Battery is very impressive ...in battery factor it's the best laptop with more time of battery backup...battery best DESIGN-BEAST💯 SPEAKER-best ever experience💯 PRICE- Value for money💯 BEST IN ALL FIELDS JUST FOR SPEED ADD SSD\",\n",
       " 'A pc like this comes in a lifetime!!!! Very Very happy to purchase this . My dream of gaming came true. Games like The Witcher 3:Wild Hunt and specially Grand Theft Auto V runs beautifully. Although latest high end games like Devil May Cry 5 (2019) takes quite a toll on the ram often causing the game to lag if played for longer duration so my recommendation is to play latest high end games for less duration about 2 hrs not more than that. Hope upgrading it will fix this issue otherwise everyt...',\n",
       " 'Nice',\n",
       " 'The best gaming laptop at this price range',\n",
       " 'Awesome Laptop 👌👌👌❤️❤️❤️',\n",
       " 'Good',\n",
       " 'Satisfactory.',\n",
       " 'Good product',\n",
       " 'Its A good Budget gaming laptop.  Evrythings seems Fine Only booting time is high i suppose its due to HDD u should ho for SSD .  But at this range u are getting Nvidia Gtx 1650 which is jackpot..',\n",
       " 'Seriously after upgrading the ram its running like a beast.I could play rdr2 on medium settimgs🔥⭐',\n",
       " 'Nice Laptop Best Budget laptop for gaming.',\n",
       " 'Good laptop 🤠',\n",
       " 'This HP laptop is specifically bought for my daughter for her engineering studies as she has to make graphic designs using Solidworks, PTC Creo and Ansys. Ideal computer for Engineering students.',\n",
       " 'I have reviewed this product after 7 days. First we should update latest version of nvidia gpu and amd Radeon versions and additionally windows updates also. I have played rise of the tomb Raider, you get around 30-40fps on high settings. If I played this game for long hour, laptop automatically locks and hibernate itlsef it is a major issue in this laptop. Additionally u need 8 gb ram to play high end games without laaging, sluttering and smooth. This laptop have hdd capacity boot up time...',\n",
       " 'Very nice product in this price range.',\n",
       " 'Over all the laptop is good but battery life is little less which was a negative point for this but for this price range this hp laptop rocks I had been using this laptop from last 15days and after so many days of use I gave this laptop 4/5',\n",
       " 'Beast with beauty',\n",
       " \"Guys it's an superlap at this rate but after buying this u need to add SSD card and upgrade the ram nor will will cause u super lag u will hate this so do upgrade the lap I am writing this after use of 7 months I had lag issues before upgrade after upgrated that it's super nice to play games and stream with no lag issues so don't forget to add SSD and Upgrade RAM\",\n",
       " 'What an amazing product delivered by flipkart. Not feeling that it not consist of ssd .working quickly in having hdd in it. Thank you flipkart',\n",
       " 'Must Buy. Excellent product. Value for money.',\n",
       " \"People are complaining here about the speed and laptop is very slow worst but hey its not if you want out of the box fast Machine just go for ssd varient which cost 9k more for me boot time is not that is very game changer once laptop is been booted its all day on sleep when i am not using it and about the performance 1650 handles all the games in very good fps , gta v 60+ , pubg lite 120+ ,pubg pc 55 -60 , forza horizon 4 gives 55 to 60 but its frezze for one second why I'll give you the an...\",\n",
       " 'So this rating is for the laptop which comes in original condition without ssd. Before ssd laptop was performing below average and HP bloatware was dragging the performance down. So I installed a new wd ssd and migrate os in that ssd. Now the performance is improved alot. Machine boots in 7 to 10 seconds, copying speed is 22mbs/sec. And I am happy.  Laptop body is fingerprint magnet.  Recommendation- if anyone wants to buy this product install ssd in it. You will be happy.',\n",
       " 'Value for money laptop good also good for programing and beast gaming performance 🔥🔥',\n",
       " 'Perfect laptop under 55k',\n",
       " 'Let me tell a kutty story .. pay attention Listen to me...this laptop is just awesome naa😃',\n",
       " \"1) Real daily boot time is 4 minutes atleast. Don't expect to boot in 1 minute. 2) lags a little while using from first day. Opening of apps is not that fast. 3) hdd used in it is of toshiba company. Hdd is not good its speed is slow. 4) comes with mcafee antivirus of only 1 month. 5) ADDITIONAL RAM AND SSD IS MUST in this laptop !!!\",\n",
       " 'i dont know why but my laptop is very slow i know there is no ssd but this us too much.. it takes time even to open My pc 😭😭',\n",
       " '5 star rating 👍',\n",
       " \"I'm using this laptop since one week. I'm very satisfied with this product, nice design, performance, sound quality, a good choice for a budget multitasking Laptop, just felt a little slower without adding SSD. It Would be greater if it had a 7200 RPM HDD.\",\n",
       " 'Nice product and nice luking',\n",
       " 'Today i have received the laptop..Thanks for flipkart team.. and we will write review the laptop workings after 15 days',\n",
       " 'Cool and awesome laptop',\n",
       " \"I am writing this review after uses of 10 days. Performance: 1. Overall performance is very nice. Laptop working very smooth, I am using NX, Matlab and other designs software. 2. For gaming- working smoothly  Just one suggestion - those who are facing issue in battery and performance lag, pls update the window completely and while updating don't use laptop. Initially it will take 4 to 5 hours to update. Then u use the 💻, u can see the difference.  Overall: 1. Build quality is very nice 2. ...\",\n",
       " \"Great performance but there is need to add a SSD for boost in the performance.Got the order after a delay than expected delivery date but product wasn't damaged.Product was intact.Overall nice future proof product.\",\n",
       " 'Writing this review after 6 month of usage, after updating latest update of nvidia amd and software update boot time it quite okay performance is the worst thing in this laptop games frequently crash and hangs a lot worst experience ever.',\n",
       " 'Just wow! 😍',\n",
       " 'Over all Good.... Windows opening speed is low.. may be due to no SSD Thanks fr all trial version software development',\n",
       " \"It's a good laptop you can play games in medium or low settings it can give you around 60 fps,but don't expect High quality gaming with High frame rate,Also if you upgrade the ram and add ssd to it you can increase its performance,the display quality and viewing angles are also good, overall it's a good laptop for its price\",\n",
       " 'Booting is very very slow',\n",
       " 'Love it.',\n",
       " 'a personal suggestion extend ram with one more 8 gb stick otherwise gta V lags alot',\n",
       " 'Beast pc ever it can handle any game buy it if you are a student or gamer but not suitable for commercial use because battery life is soooo bad about 2 hrs only booting time is 22 sec if want fast then go for ssd version best pc',\n",
       " \"It's a handy laptop for both performance and style. I have been using for a month now and I have zero issues with any of the spec or nuances around the laptop. Ryzen's quad core sure helps keep cpu usage below 50% even during hard core coding moments while I have 20+ tabs open chrome 2-3 heavy developer softwares running simultaneously and Spotify plays music. I have not played games with it so I'm not in a position to talk about the gaming aspects of the laptop.\",\n",
       " 'Best laptop at this prize range..',\n",
       " 'Fully Satisfied 🤩🤩🤩',\n",
       " 'Good product but delay in delivery',\n",
       " \"Does anyone except dead slow performance with 8GB RAM & 5 Quad Core?. It loads like a Sloth , Booting time, Application Opening time, Button responses are worst. It's about week & half I purchased this laptop. I will review back after a month again. Lets see! 16-Aug-2020: Dead slow, Worst performance sofar!\",\n",
       " \"The start up time seem to be a bit higher than usual where as the specs should be reducing the time to start. Initially I got a start up time of 20-25 sec to Login Screen .. which was really good. however it seems to be a bit slow now a days. Unsure of the reasons. Battery back is good. Display is beautiful. Very less heating issue. Gaming is good. Haven't done extensive gaming though. In-Built apps helps a lot.\",\n",
       " 'Nice product..',\n",
       " 'Gaming experience is absolutely amazing...',\n",
       " \"Good laptop, but to take full advantage of this you definitely need to upgrade both SSD to make it faster since it is very slow loading applications and even booting and upgrade RAM, coz when I play games on this laptop it stutters a lot since only 5.9gb ram is available. Other than that display, keyboard n track pad are good. I didn't find any worry some heating issues while doing intensive works which is good. Looks premium but it is made full of plastic and one thing I don't like is that p...\",\n",
       " \"It's awesome...\",\n",
       " 'VERY AWESOME LAPTOP..  BEST LAPTOP IN THIS RANGE  VERY GOOD IN PERFORMANCE',\n",
       " 'Preformance + premium looks 💯 Go for it',\n",
       " \"Only purchase it if you're ready to spend at least 5-6k more on adding additional RAM and SSD. Without SSD it's dead slow. And you'll need additional RAM to play games as AMD keeps 2.1 gb RAM reserved so you get only 5.8 GB RAM available which is too low.\",\n",
       " 'Nice laptop.',\n",
       " \"It's all things is good but battery backup is written there 5 hours but it not it's battery backup is is only 3 and half hours\",\n",
       " 'Its awesome laptop',\n",
       " 'The laptop is slow! Really really slow. And this, without any new applications installed. Disappointing performance.',\n",
       " 'Just spend 5-7k extra to upgrade RAM and SSD and see your dreams come true',\n",
       " 'Asowm',\n",
       " 'Using this laptop for a week. Here are some things I noticed. Positive points:  Display is value for the money. Design is great, body looks awesome. After effects and GTA V runs like charms.  I do graphic design and rendering using Blender and it works fine I have no complains so far   Negative points: Cyberpunk lags so I had to uninstall. Problem in loading large Blender files Lag issues in using big graphic intensive software. Startup takes time, maybe buy an SSD version.  Not sure...',\n",
       " 'Performance is okay. Sound quality is superb. Display is good. The main disappointment is battery. Battery is draining fast',\n",
       " 'So far So goood!!!🔥🔥📣',\n",
       " 'Very good product and less price',\n",
       " 'Overall the laptop is good but after using it for 5 days the booting time is very slow but the games run good I would suggest you to go for extra 8gb ram and 250gb ssd.',\n",
       " 'Before time delivery. Awesome product peformance.goos build quality. Nice sound . Best display..',\n",
       " 'Good laptop but thinking to add ssd',\n",
       " 'Thanks for this product... i am very satisfied with this... i am in love with HP❤ Design and Looks is elegant... AMD ryzen is always cool... Thanks!',\n",
       " \"Everything is good about the Laptop. Design is okay.. Performance wise..it is good. Since it is a gaming laptop ..it's should have something special that makes this laptop different from others.\",\n",
       " 'It’s like ok ok type laptop, it does lag at times even not playing games or using editing softwares , I m planning to upgrade the ram and add ssd for faster results. Display and Battery performance is good',\n",
       " 'Not first as I thick . But nice in 55 k',\n",
       " \"I am satisfied with the product but it didn't reach my expectations\",\n",
       " \"One of the least efficient thing I have bought from. Flipkart no doubt packaging is quite good But performance of laptop. Is mil. It's boot time is 3-4 times future We have to wait for 2-3 mins for google chrome or microsoft edge to start I think this is not gaming laptop this is waiting laptop all time just we have to. Go on waiting\",\n",
       " 'What great laptop in this price for engineering student I am also engineer tx to hp to create the laptop in this price and also about flipkart delivary osm just delivered in 4 days only and sefly in unlock lockdown',\n",
       " 'Its bad some error issues plz say any suggestions about my problem',\n",
       " 'Nyc product.',\n",
       " \"4 star because i got damaged product first time . and the replacement policy was bit annoying. Otherwise laptoop is good , best laptop in this price range .And yeah it's battery backup is sort of weak too.\",\n",
       " \"The worst investment done by me till date, the product is not at all upto the mark. It is said to be gaming laptop but it has problem of freezing you can't do work as well. Its my worst experience till now in all the laptop i have been used. And if you are going to buy laptop please don't buy ryzen go for another processor.\",\n",
       " 'Amazing',\n",
       " 'Excellent Performance....🔥',\n",
       " 'This laptop is too too slow from 1st day.',\n",
       " 'Performance was improved after the updates. Battery is good Edges are sharp and it got me a few times. Not a problem while typing. Display is good Keyboard is single color with two brightness modes and off.',\n",
       " \"Beast 😍 100% I Recommend to buy .Graphics 1650gtx 🔥Long Life Battery ...all in one kind this Laptop ..work, travel,gaming suitable ..No heat while play 6hrs Pubg ..you need to careful on edges ..bezel less dat's only problem\",\n",
       " 'As flipkart assured all the specs were very well integrated.',\n",
       " 'Fast delivery Excellent laptop',\n",
       " 'The battery gets drained within 1hour and it takes upto 3hours to get full charge.',\n",
       " 'I using since august 2020, awesome laptop..  I daily use for about 10 12 hours continue, no heating problem  Battery backup is about 5 hr on 5% of screen brightness with earphones  Thank-you HP for this awesome beast',\n",
       " \"It's take to much time to start and shut down it's with out SSD so windows is so slow\",\n",
       " 'Just for normal works.....old rated product',\n",
       " 'I recommend to every budget Gamer this was the best option for this price point......',\n",
       " 'Everything is good and worth for the price But within four five days the inbuilt mouse gave up Everything runs smoothly but yeah the mouse sucks',\n",
       " \"It's look is awesome working good but a little slow as it is HDD. Will update about it performance later.\",\n",
       " 'SETISFIED IN THIS PRISE :-)',\n",
       " 'Worst product ever and i had a worst very bad experience ordering with flipkart the customer care is not helpfull . No one ever listens to the customer',\n",
       " 'best laptop for graphic designing and gaming thanks flipkart',\n",
       " 'I got this for 45.5k using card offer best in that price.add SSD 256gb 3.5k and the laptop is beast',\n",
       " 'Working great. No lag. Quality good',\n",
       " 'I was sceptical before buying, but I received a brand new stock, Jan 2021 in February itself. The packing itself was untouched from factory. We bought two, and I asked my daughter about the performance, she gave everything 5 stars and for battery 4 stars. Overall we are happy about the purchase after using it for over a month.',\n",
       " 'You should go for nvme ssd hardware or u can upgrade this then it would be beast',\n",
       " 'Looks great n after use of some time I add my review',\n",
       " 'It was fantabulous inthis price range.The display and sound quality of this laptop is top-notch but little bit slow down which is negligible.Good battery backup and backlit keyboard.Iam happy with this.',\n",
       " 'Good For the decent Gaming And other user stuff...But cannot run highEnd Games smoothly without The Frame drops...unless You upgrade The Ram.',\n",
       " 'Awesome product',\n",
       " 'Awesome laptop',\n",
       " 'After ssd it is a beast goo for it',\n",
       " 'Mind blowing lappy.... I highly recommend just go for it....',\n",
       " 'Better to put SSD in it',\n",
       " \"At first it didn't go well,Then I put an SSD, now it's going well😊\",\n",
       " 'After 1 week of use my impression:  Perfomence: Laptop is slow compared to others devices at this range, maybe performance will be better after installation of ssd and increasing ram.  Battery: battery backup is descend. I will fully review this after a month or so.  Design: Design is really impressing.  Keyboard & trackpad: keyboard quality is good but trackpad is descend.  I will cover full review after a month or so.',\n",
       " \"HDD doesn't help. It's slow than slowest. Upgraded with SSD and it became lightning fast. Make the SSD primary drive with OS installation. HDD can be back up one\",\n",
       " 'Good build quality Apart from HDD, everything is great. User can purchase SSD or buy SSD variant for more speed.',\n",
       " \"It's a really great product, I would say go for it and it is also upgradable, so u can buy it if you want a lap for 4-5 years.  Till 1TB SSD can be installed And also extra 8GB ram can be installed (In total 16 GB).\",\n",
       " \"Laptop is superb.....🤞🔥🤙 All laptop's give battery backup upto 3-4hrs. That laptop also gives same battery backup. I liked it's thermal cooling system. As the temperature increases the fan spped is increase. Cooling system is superb🔥🔥 Design and overall other things are also good.\",\n",
       " 'Good economical product',\n",
       " \"It's good.\",\n",
       " 'An awesome budget gaming laptop having a good processor but HDD makes its quite slow but all over its Excellent',\n",
       " \"I donnow it takes 2.1 minutes to start only some times, i feel somehere d system is slow, may be bcz of No SSD, but still this shouldn't be this much slow, even opening photos, opening windows takes around 10 seconds some times even 15 seconds, and multi task also i feel not too fast, lets see after two days hw it works Even the Adobe softwares response is also satisfactory, not completely satisfied\",\n",
       " 'Best laptop in this range Got at 46k only. Played Valorant without facing any problem Need to add SSD for rough usage, otherwise no problem in normal use with HDD.',\n",
       " 'I HAVE A PROBLEM ABOUT THIS LAPTOP NOT ABOUT THIS LAPTOP BUT ABOUT FLIPKART SERVICES FIRSTLY FLIPKART GIVES ME SURITY ABOUT I WILL GOT MY LAPTOP AT 18 OCT AND IT TAKES ONE MORE EXTRA DAY AND IT ARRIVES ON 20 OKAY THATS NOT A PROBLEM THE PROBLEM IS MY LAPTOP IS ALREDY SETUPED AND WINDOWS IS ALSO INSTALLED ON IT AND ONE USER ACCOUNT IS CREATED ON IT AND SECURITY SOFTWARE IS ALSO INSTALLED ON IT AND FOR CONNECTIVETY THEY ALSO ATTACHED JBL SPEAKER AND MANY MORE AND AND I CHEACKED LAST TIME WHEN ...',\n",
       " 'Performance is average, and the gaming performance too is not so good. I tried to install gta 5 and ith lags like hell even at low settings. The battery backup is also so poor.',\n",
       " \"I'm in love with this laptop 💜💜💜\",\n",
       " \"Amazing laptop and a pure beast at this price segment. No lag or heating issues and battery lasts easily for 4 hours on normal usage. Got it within a day and far above my expectations. Just add an m2 SSD and additional 8 GB 2400 MHz RAM and it'll be the best thing ever.\",\n",
       " \"It was good but sometimes apps like blender and fusion 360 are not responding I don't know exactly what the problem is but I downloaded the apps with lisence but why the are not responding nad battery backup is not up to the mark I think it should be get more backup and charging speed is okay..\",\n",
       " 'Just awsoom Looks 10/10 Performance best Sound awesome Just love with pavilion',\n",
       " 'Pros: Performance is really good Excellent configuration for the given price  Cons: Poor build quality No pre-installed MS office Battery last long for max of 5hrs unlike hp is claiming like 8hrs',\n",
       " 'Worst customer care experience. Even after 6 days of my complaint HP was even unable to find what causes the problem and I am still waiting for an explanation from them.',\n",
       " 'The laptop is an absolutely power package for the given price range and runs most games at a decent pace . Gta v has encountered a frame rate lag but runs almost smooth when service priority set high and framerate at 40fps. The absence of an ssd and an higher ram is an disappointment but the upgradable slots are a counter to the issue with an additional expense of 10grand will make up for an 1tb ssd with another 8gb ram . Overall very satisfied with product',\n",
       " 'Nice to handle',\n",
       " 'This could have ssd card for faster operation and not having disc drive.',\n",
       " \"Only 2 usb slots provided which is disappointing, battery backup is just ok sustainable not that great. Display is ok doesn't have a full HD vibe. Overall a good one.\",\n",
       " 'Low battery backup upto 3.5hrs for normal usage',\n",
       " 'Laptop is overall value for money and u can play GTA V like games in very high settings. The main problem Im facing is its performance issue.but after installing SSD and Ram this laptop is working very smoothly u won’t regret after buying it. And finally the Thermals of the laptop @ max temp during GTA V was 84 degree and that is quite good so this laptop is very in thermals also u can play 4-5 hours continuously. 👍',\n",
       " 'It an good machine but one must add SSD before or after using it(without SSD it pretty much slow) SSD slot is available(M.2)',\n",
       " 'Great quality and good looking device.',\n",
       " 'Its amazing laptop with 55k budget..... Awesome experience with gaming..... Battery backup is good..',\n",
       " 'Everything is okay but sime times it got slowness as 2 GB RAM out of 8 GB RAM is already locked by system....just getting 20 to 30 seconds hanging',\n",
       " 'Best in price but must add SSD',\n",
       " 'Must buy product and amazing gaming beast at this price',\n",
       " 'Awesome product.',\n",
       " 'Nice one but require ssd',\n",
       " 'product is so good just go for it. battery is good. display is awesome. graphics also awesome. it hangs some times , but after the windows update it is awesome. best laptop at this price',\n",
       " 'Not bad',\n",
       " 'Perfect device in this price range',\n",
       " \"Don't even think to play warzone with this laptop, it just hangs up and you'll be taking an year to come back to home screen.\",\n",
       " 'HP IS GREAT FOR LAPTOP AND PRINTER',\n",
       " 'Totally good.. U always need charger for avoid lag and battery draining while playing gta 5 and other high games.. Also u need to add ssd. For better perfomence.. 8gb ram. But 5gb available.. Design and backlit is very good... Best value in money..',\n",
       " 'Little lagging problem otherwise everything is good 👍🏻',\n",
       " \"I had installed the SSD coz hdd is slow overall it's good\",\n",
       " 'Nice laptop in this range.. only one thing that the Laptop Speed is not great as per our expectations, but after update bios and Windows OS Speed increase from than previous speed....',\n",
       " 'Better version but for better performance u need to update ssd',\n",
       " 'Awesome product... slightly slow processing due to hdd but after starting the application there is no effect of speed... khatarnak performance... Looking awesome... battery life have to improve...logo on the back of lapy is very good.... key travel of keyboard is better...under 50 Thousand this is awesome gamming laptot...but you have to install SSD...',\n",
       " 'Everything is good but they are not giving SSD.. Almost all companies are giving SSD in this price..',\n",
       " 'I have used this laptop for more than one month and have not faced a single issue in it..I have played gta 5, did video editing in premiere pro, coding, used Adobe Photoshop and everything was working absolutely fine.. But if you want more smooth exotics l experience you can just upgrade the ram to 16gb and this laptop will become beast..',\n",
       " 'Good🔥🔥',\n",
       " \"A bit slow but it's good ..\",\n",
       " \"It's adorable\",\n",
       " 'Got it at 43.5k in ugadi sale Good laptop and build quality good',\n",
       " 'Game will run smoothly if charger is connected 😉',\n",
       " 'Faulty product send',\n",
       " \"Fast delivery and design is very good. It haven't SSD so little bit slower for use. But overall good.\",\n",
       " 'Overall best product. One star deducted for late delivery',\n",
       " 'There are only two USB ports.HP should have provided at least four USB ports.Also,cooling ports for the cpu seem to be delicate.Over all a good package.Flipcart packing and delivery top.',\n",
       " 'Laptop is very very slow due to absence of ssd....otherwise best laptop in this budget segment .',\n",
       " 'The laptop review is written after a months usage 1. Windows home edition does not have ms office which is needed for any student: misleading information by Flipkart/ HP as they should specify. 2. Computer booting takes considerable time feel that I should have taken SSD rather than 1 TB HDD, seems a bit slow in response (maybe due to Ryzen 5 processors when compared to i5) 3. Very heavy weighing laptop 4. Scroll pad does not have separate buttons below so again left and right clicks are hav...',\n",
       " 'Good packing❤️ Best customer service❤️ Budget laptop',\n",
       " \"Never seen a laptop slower than this. Forget gaming, you can't even browse internet on it properly.\",\n",
       " \"Display good Performance is some Butter It is suitable for only students Not for gamers . But keyboard backlight I'm impresse I am Getting windows licence problem\",\n",
       " \"I had buy this laptop just some days before. And I'm very much regretted. The battery takes too long time to charge like 3% takes 30 minutes. And the laptop is very very slow and taking too much time to start. And if you play any game it lags very much or even in between game the laptop gets lock. Very disappointed.\",\n",
       " 'I am using this laptop for 5 months now. It is incredibly good have also give me 140+FPS during gaming. I mostly plays Valorant and it really runs well. But sometime it performs slow whenever i open up any IDE for coading. I am a CS Student and i like to code a lot but sometimes it lags during debugging and compilation of the code. Maybe its because of SSD. I will edit my Review after I install a ssd in it. Maybe after a month or two.',\n",
       " 'Beast Product Tested FALL GUYS - 61-75 FPS ON HIGH SETTINGS MINECRAFT - 50-61 FPS ON FANCY SETTINGS NO LAG GTX 1650 IS BEAST RYZEN 5 3550H IS ALSO GOOD',\n",
       " 'Good Laptop for gaming and software coding  Pros Backlight keyboard 6Gb graphic card amd + Nvidia 2 ram slot 1 used and 1 in free Amd Ryzen gaming chip  Cons No ssd so we can add ssd also Only 6 gb ram When installing heavy game cpu get 100% so laptop get hanged',\n",
       " 'Performance is good and look is awesome but sometimes the hing is producing sound in turbo mood',\n",
       " 'Product was good and there is no doubt about Flipkart. I am very happy with this product.',\n",
       " '4 star is only for in this price they can add a 120gb ssd. Because of hdd machine is lagging to much, response time is high. Others all good.',\n",
       " 'The only problem is ram. I was only provided with 6gb of ram and there is no option in bios to free the ram. Else every thing is good.',\n",
       " 'Overall laptop is very good but will need add a ssd to it and remember to update your graphic card drivers',\n",
       " \"If you are really into gaming and want to buy a high performance laptop do not buy it. Never ever go for Ryzen. I won't suggest you ever. I am writing this honest review after using it for a month. Do not buy it.\",\n",
       " 'Just need to add sdd and ram then it wll be beast',\n",
       " 'Disgusting service from Flipkart and HP.....they stuck my money......third class product they sell',\n",
       " 'Best laptop i used it continue after charging',\n",
       " \"This is the best laptop I've ever bought in my life till now. The only lack I feel is that they didn't provide MS office full version for permanent. They've a trial version of very short duration. Now even needs to buy the software separately, I feel the extra expense.\",\n",
       " \"IF YOU HAVE MORE MONEY THEN GO FOR SSD MODEL OF THIS LAPTOP. THE HDD IS VERY SLOW AND SOMETIMES IT'S PERFORMANCE CRASHES. YOU CAN SEE LAGS AND THE BOOT TIME IS SLOW. RAM IS NOT SUFFICIENT AS PER THE GAMING LAPTOP. 2GB RAM IS RESERVED ALREADY FOR AMD RADEON GRAPHICS. WHEN YOU SEE THE TASK MANAGER THEN YOU WILL DISCOVER THAT ONLY AROUND 3GB OF RAM IS USABLE. IF YOU WANT TO PLAY AAA GAMES LIKE GTA5 AND FARCRY THEN DON'T EXPECT IT TO RUN WITHOUT ANY LAGS AND SHUTTERING. OVERALL THE LOOK AND DISP...\",\n",
       " 'After one month of Laptop , i felt it is value for money. Only one trouble is that booting time is little longer. If we add a PCIe NVMe card this problem should get resolved',\n",
       " 'Best in its class. Ram & SSD upgrade is a must other than that no issues, battery 🔋 is fine .',\n",
       " 'When system is starting than it will much slow open and its performance is also slow otherwise it was best its better also good',\n",
       " 'Best laptop at this Price range',\n",
       " 'Best at this price',\n",
       " 'Amazing laptop great display great sound budget killer.',\n",
       " 'Simply superb !!',\n",
       " 'This is a worth product at this price..... Such a nice performance it has',\n",
       " \"After using 3months I'm posting my review.... simply it's awsm.... If u r looking laptop for design, coding, gaming etc.... go for it...\",\n",
       " 'Need to upgrade SSD for smooth but performance with hdd is good for low end users',\n",
       " 'Great product . But if possible get yourself a SSD and 8gigs of extra RAM then you will enjoy it at its full capacity. HDD is too slow. And other than that it felt value for money.',\n",
       " 'All features are very good ..but battery backup only problem ..less time working',\n",
       " 'Good',\n",
       " 'Just wow',\n",
       " 'In price approx 50000 the product is very good and performance is also good.',\n",
       " 'It would be a 5star product if it has more battery life . It ran out of battery in high performance however can cope up with it in battery saver mode',\n",
       " 'Good',\n",
       " 'Awesome',\n",
       " 'nice laptop my dream laptop 😍',\n",
       " 'Awesome product.... thanks Flipkart gor delivering this amazing item within 24hrs🤩',\n",
       " 'Need SSD to be faster',\n",
       " 'No bad but ok',\n",
       " 'If u r buying the hdd version upgrade as fast as u can to ssd',\n",
       " 'Battry life is not up to the expectations...it drains completely in 2 ton3 hrs.',\n",
       " 'Very good product',\n",
       " 'I love it',\n",
       " 'Nice laptop in this price',\n",
       " 'Superb laptop. But sound quality is not as expected.',\n",
       " 'Worthy to buy this 😻😻',\n",
       " \"Here is the beast .. basically I am a college student.... I purchase it for coding and light gaming and light editing.....I am using it for a week.....an I am very satisfied.........no complain about battery normal use without changing I get almost 4 hours battery backup......as this is a gaming laptop so ...it is....ok.... Conclusion:it is a hp product so you can trust on it blindly.. I'm very happy 😊❤️\",\n",
       " 'Pretty awesome for the price range..',\n",
       " 'Thank you flipkart for such a wonderful product',\n",
       " 'amzazing laptop 💻',\n",
       " 'Best',\n",
       " 'Very nice.... Go for it blindly... Superb config and performance.',\n",
       " 'Nice product',\n",
       " 'Values of price .....Super',\n",
       " 'Great performance',\n",
       " 'Ultimate beast laptop Super fast delivery by Flipkart',\n",
       " 'over all gud at this price but get slow aftrr some time.',\n",
       " 'Exlent performance.',\n",
       " 'Good laptop for gaming and editing',\n",
       " 'No screw in SSD slot',\n",
       " 'Sometime Touch Pad is not working',\n",
       " 'Awesome Laptop with hd backlight with 3 modes at low price with 8gb ram and 1 tb storage I have only problem that laptop has only 2 usb point Rest 🔥🔥🔥🔥🔥🔥🔥💯💯💯😘😘😘',\n",
       " 'Good',\n",
       " 'Best laptop in this range with Nvidia GeForce GTX 1650',\n",
       " 'Awesome performance, value for money, battery life is ok, best gaming experience, design is beast, display is good. Best buget gaming pc❤️👍',\n",
       " 'Superb flipcard 🤘🤘',\n",
       " 'Satisfied 🙂',\n",
       " 'Product is too good for performance but battery backup is just 2 to 3 hours without lights of keyboard so switch it off for better battery backup. For switching off the lights press fn and f5 and for screenshot press windows \\U0001fa9f and ins prc sc',\n",
       " \"Overall good product, only one problem of hanging shows while run a bigger software, I have to install additional SSD of 256 GB in it. Now it's run smoothly.\",\n",
       " 'Just leg',\n",
       " 'Display not work properly, need to change or rectified,   Bed Hp service, I want to return the product, any cost',\n",
       " 'Mind-blowing',\n",
       " \"Don't doubt just go for it 💌\",\n",
       " 'Best laptop for engineering students',\n",
       " 'Good product',\n",
       " 'Delivery is much delay ... Buy only for coding and other responses , not for gaming.. I recommend to upgrade ssd for gaming..',\n",
       " \"Added a SSD and now I can't expect a better computer at this price.  You can run it without a SSD as well. But adding one is highly recommended. You get a whole different experience. Totally happy.\",\n",
       " 'Nice product',\n",
       " 'I am very glad to buy this laptop . It is my best laptop till now I buy all of them.',\n",
       " 'Nice laptop great......👌',\n",
       " 'Very sexy and Love you flipcart',\n",
       " 'Worth for money',\n",
       " 'Value for money.and also good product',\n",
       " 'The overall performance is so good,',\n",
       " 'Very good laptop but little slow...design is just amazing..',\n",
       " 'Too slow nd charge drain out very soon not worth it!!',\n",
       " \"Little slow it's giving me reminder of first generation pc black and white once\",\n",
       " 'Better to use ssd for fast speed',\n",
       " 'Value For Money best laptop 🤩',\n",
       " 'Lil bit slow.. Rest everything all right. Moreover the product looks premium w.r.t price segment..',\n",
       " \"I recently purchased this laptop and getting very good performance but having heating issue on right side of keyboard panel and left side of heating vents downside which is more than usual. This thing bothers me that you touching your laptop and feel heat. Otherwise all other things are good.  Heating isn't a small issue which you can ignore. It troubles you everytime you use your device. I've no option to return, only replacement is acceptable which worth nothing to me because I think the wh...\",\n",
       " 'Genuine product, trust worthy.',\n",
       " 'Overall happy',\n",
       " 'Good product.....you can go for it',\n",
       " 'It is best laptop for gaming',\n",
       " 'Every thing is fine but slightly slow due to without ssd and extra ram',\n",
       " \"After 1 week of usage. Should have gone for SSD is the only drawback. There's another slot for expansion, which is a good option. No lag issues and maximum boot time is between 2 - 3 seconds which is good for HDD these days. Ryzen 5 is just out of the box. Battery life is also good. We can manually enable 4K with AMD settings on the system.\",\n",
       " 'Not for value for money',\n",
       " 'I think it is refreshing',\n",
       " 'Sent a defective laptop after placing an order it took just 4 days to deliver the product but when I applied for returns its been 8 days still the product is with me, the procedure to return anything is pathetic product is good only need to install an ssd for better percormance',\n",
       " 'Great Machine, Got it for 52k on sale and it is worth every penny, played Doom, Doom Eternal, GTA V, Just Cause and other great titles without even a single lag. go for it without a second thought :)',\n",
       " 'Excellent Performance with this affordable price',\n",
       " \"Extremely Slow and poor performance! The specifications look impressive only on paper but the falsely hyped Laptop is extremely disappointing. It takes over 4 minutes to boot and several seconds to open applications. The battery life is around 1.5 hours so you have to rely on constant power to continue working. HP support is not impressive because the customer service team isn't technically qualified to resolve common issues. Would strongly advise against buying HP laptops.\",\n",
       " 'Fantastic😍',\n",
       " \"It's nice product\",\n",
       " 'Please provide atleast 128 gb SSD for fast boot .One of the best laptop and gorgeous look.',\n",
       " 'Good but little bit slow if you used ssd than it will be okay',\n",
       " 'taking too much time to start',\n",
       " 'It is good product..',\n",
       " 'Great product🔥',\n",
       " 'Awesome laptop on this price',\n",
       " 'Simply i said this laptop is best at that price',\n",
       " \"Just go for it, bought it for 49k, Don't worry about the SSD, can update it later with samsung SSD, worth every penny\",\n",
       " \"Good laptop must change your hard drive, if not you'll not be happy\",\n",
       " \"After Using This Lappy , Geniune Review  It's working Slow due to Hdd Speed Is 5000Rpm  You Need to Upgrade RAM & NVME SSD\",\n",
       " 'Superb',\n",
       " 'Great product.',\n",
       " 'Ok , nice Product under 50k range , but please increase your packing quality , this type of packing is not suitable for 50k item',\n",
       " 'It is very good at performance and also best for gaming at this price If you want to buy dont think just go for it.',\n",
       " 'Performance not so good without ssd so i prefer to say must buy ssd for it.',\n",
       " 'Beauty and Beast 😍 Will upgrade RAM Will install 512 GB SSD Worth every penny in this price range ✌🏻',\n",
       " 'Slow like hell due to lack of SSD... otherwise it is best in this price range... go for it guys After adding a NVME M.2 SSD, I got better performance',\n",
       " 'This is a good laptop',\n",
       " 'Nice product from hp. Value for money .',\n",
       " 'Best laptop under 60000',\n",
       " \"It's ok\",\n",
       " 'Build is perfect ,display is good ,battery performance is normal ,speed is value for money 💰',\n",
       " 'Good',\n",
       " 'Good for gaming and Web designing but it takes little more time to start and shutdown',\n",
       " \"One of the best laptop in this price segment(around 52k). Display is awesome. Just install any 256/512GB nvme SSD and it's performance would change drastically! Overall AMD Ryzen 5 3550H is a good processor for casual gamers.\",\n",
       " 'Poor quality of Flipkart packing',\n",
       " 'Everything is good..',\n",
       " 'Perfomace is good only bootup takes time due to hdd bit games run flawless',\n",
       " \"Been 4 months since I got this laptop and must say its been very impressive PROS are the price, the monitor(keep in mind I haven't seen a lot of other IPS monitors), the keyboard, The speakers(amazing) Build quality-made of plastic, but the plastic has a good feel Unique design Actually good selection of ports  CONS The above mentioned plastic is good, but it loves getting smudged and picks up fingerprints  HDD can sometimes be surprisingly slow in game loading 8GbB RAM but obv 2GB of th...\",\n",
       " 'Good',\n",
       " 'Amazing product just lv it.....performance is awsome... What a display... Lovely....',\n",
       " 'good. but noticed lags in it .',\n",
       " 'you can purchase it without any hesitation',\n",
       " 'Use SSD for even more better performance',\n",
       " 'best gaming laptop',\n",
       " \"You definitely need a SSD card if you buy this laptop. It has 2.1GHZ processor. If you buy this laptop for gaming than go for 3.1GHZ processor in this category or install a SSD card. Otherwise it will work Slow. Just that processor is slow otherwise it's good laptop to buy.\",\n",
       " \"I am Android developer running Android studio taking lot of ram also sound problem if I run my emulator making sound not run properly waste of money don't buy it\",\n",
       " 'Booting time is high.. I recommend to add an SSD and move windows to it. Otherwise nice laptop for entry level gaming and editing...',\n",
       " 'I got the 4 days ago this product is value for money buy it this is great deal and at this price this is beast laptop and plus point is Nvidia graphics card 1650 I love this product',\n",
       " 'Bought the laptop a week ago and it had already started to hang almost every time I switch it on',\n",
       " 'Battery life is too bad',\n",
       " 'Good laptop for this price',\n",
       " 'Speed is slow compare to others due to HSD however SSD can be further install.Display is very good and keyboard light is also attractive. Over all its good product in this price range.',\n",
       " 'Value for money',\n",
       " 'Laptop is good for mid graphl',\n",
       " 'This is a good product In terms of value for money. But I face a problem which is Slow boot. I write this review after 4 month Continue use. Go for it But Mind it Insert a Ssd for batter experience',\n",
       " 'With 8gb ram its really hard to play games. Upgrade to 16 gb for best performance',\n",
       " 'Good laptop at all 😊🤟💥🔥💯',\n",
       " 'Feels premium, looks premium and build quality is good',\n",
       " \"awesome budget gaming laptop I'm so happy\",\n",
       " \"Am graphic designer. After using 1 month of photoshop. Lot of hang issues. So any one buy for designing purpose. Go for Ssd version. Not this. But apart from designing. It's really good.. 😇✌️. Im telling only for designing people's. Not everyone.\",\n",
       " \"Looks so premium can't go wrong with this\",\n",
       " \"It's really good. Performance is also good.\",\n",
       " 'Purchased as per the spec but it takes too much time to boot, recommended to have SSD',\n",
       " 'Just go for it its literally frickin 🔥🔥🔥',\n",
       " 'Jst awesome!!!!',\n",
       " 'Nice Gaming laptop ,with Good Display, Graphics ,Sound & performance.',\n",
       " 'Battery capacity only 2 hr',\n",
       " 'Good product',\n",
       " 'Nice , gud',\n",
       " 'Good product go for it',\n",
       " 'Loving it...❤❤❤',\n",
       " 'bettry backup is low but all is best',\n",
       " \"No problem in booting in my case it's taking less then 30secs\",\n",
       " 'Boot time is slow',\n",
       " 'Laptop is good but battery backup is poor',\n",
       " \"Not for gamers every game lagging display is very good but when I started playing games like gta valorant both are lagging after few minutes now tell me what's the advantage of buying gaming laptop if I facing these problems\",\n",
       " 'Best laptop under 50000 budget 4gb graphic card which is the best Under this range',\n",
       " 'Best laptop for everything...',\n",
       " 'Worth buying',\n",
       " 'Performance 💯 Battery 💯 Overall 💯',\n",
       " 'Its miss the SSD factor, Using it with HDD is like buying a 400cc bike with normal tyre, need to boost it up with SSD Perfomance truelly enhanced by 10X after adding SSD normal Boot time is 20+ secs which turn in to 8secs',\n",
       " 'Awesome in this price range',\n",
       " 'The display panel is so light ,that it literally moving under the celing fan.its completely plastic',\n",
       " 'Just amezing 😍 Super battery backup ❤️ Best laptop in budget 👍',\n",
       " 'This is absolute beast, best laptop with super premium feel ,and plastic is soo good and high quality, go for it without any hesitation, no regards buying it, gulabi dil gulabi dil',\n",
       " 'Better you add a SSD to it. Got it for 48650/-',\n",
       " 'Just go for it',\n",
       " 'Good 👍😎',\n",
       " 'HDD is not that much slow than i thought. Overall good performance,design,display. Battery can last upto 4 hours while connected to internet. Happy with the product ☺️',\n",
       " 'Loved it!!!❤️😍',\n",
       " \"Wonderful product  It's awesome 👌👌👌🔥\",\n",
       " 'Some games are lagging , i dont know why this is happening. I am not impressed regarding this product. Build quality is not good . heat control is no doubt good. Battery average. Charging cable is too small.. No colours variety is available, disgusting black Colour.',\n",
       " 'Graphics ard is Nice Display is Nice Everythin is nice except 3 points 1. Startup problem (slow) 2. Batter life is too less (2/3 hrs during general use , not gaming) 3. Speaker volume is too low (almost half than other PC)  Every other crieteria is good Value for money Only Battery and Speaker disappointed me.. (Have to buy external speakers or Headphones)',\n",
       " \"This is the best gaming laptop at this rate.. It's performance is very good display is also grate But the only problem is there is no ssd so booting time is slow\",\n",
       " \"Got a cheap and used product usb ports doesn't work well if you try to transfer any file from mobile or pendrive it will show you 24 hours of time and Internet doesn't work either please don't purchase it from this seller\",\n",
       " 'Everything is good except the hdd feels slow,if you are buying this ,buy a 128 gb ssd minimum.',\n",
       " 'Everytime i am paying valorant after 3-4 minutes the screen is showing locking & shuts down... After 1 months of use the screen is getting backlight bleeding & dead pixels',\n",
       " 'This is a great laptop, specially for gaming. I played COD World War 2 and Far Cry 5. Amazing experience. You can upgrade it with SSD to. I Highly recommended it.',\n",
       " 'Overall good performance🤩',\n",
       " 'Best ever laptop at this price. Just upgrade Ram by 8 GB 2666mhz +nvme pcie SSD >>> Beast unleashed.  Play warzone with highest setting, awesome clarity.and performance',\n",
       " 'Power packed at a reasonable price. Awesome display, High performance',\n",
       " 'Awesome one! Sound is awesome!',\n",
       " 'I m in love with my laptop , this is amazing 💚',\n",
       " 'I edited my review after the heavy use like(working on Revit Architecture software).After installing Revit I especially feel it is laggy but if you add SSD then it works fine. Takes time for opening after shut down thats why I keep my pc on sleep mode in day time and shut down only in night. I expected little more in this price range becoz if you invest 55k money in any pc and you will feel disappointed with its functionality,, it is not fair.',\n",
       " \"It's good at this price range battery is good performance is good\",\n",
       " 'Utterly disappointed It literally takes 2.50 min to boot up and another 50 sec for system to set up. Even after read all the comments about its worst performance I made up mind to buy it and hoped I can manage. Now I feel how stupid I was. I am regretting everything now. What I have done to my self!!? It is very slower than my i3 laptop with 2 gb ram. I know SSD WOULD HAVE MADE IT FASTER, BUT REALLY DUDE THIS IS AMD RYZEN 5 WITH 8GB RAM COMMON ON!!!!.what will be more worse than having 8gb ra...',\n",
       " 'Battery life is some much less...but in other categories ...the best ...main thing is u have to maintain good internet connection..',\n",
       " 'best laptop in this range',\n",
       " 'No ssd so poor performance boot time 30 sec',\n",
       " 'excellent product',\n",
       " \"The booting speed is very low i think add a ssd that problems will be solved. Battery backup is not much as i expected, and the usb ports are only 2 in this laptop that's the one problems i facing, but the laptop is very much better to compared some other products because in this price range gtx 1650 with 4gb graphics card is not available in any other laptops so if you want 60k budget laptop the buy this\",\n",
       " \"It's one of the best in the market I bought it and planning to save some money and then add a ram 8 gb stick and an SSD 256 gb and yeah it's awesome value for money.\",\n",
       " 'Not performing as expected , 40 - 60% ram utilisation was going for OS , There is minor lag in games too like asphalt 8',\n",
       " \"It's been two week since i have used it. For a price of 53k it a value deal.  Shadow of tomb raider: 30-40 fps (Medium settings) Witcher 3: Plays flawlessly in medium settings Total war 3k: 30-40fps (medium settings)  Just slap on an extra 8gigs ram and most games would run 30-40fps at medium settings.  Thermals: I played continously for 7-8hrs, it never throttled. Never expected this from a laptop at this price range, really outperforms. :)  Multitasking: Since the ram is limited to 6gb ca...\",\n",
       " 'Everything is perfect but battery is good having average 4to 5hr. Due to absence of ssd it takes 40 sec to boot up ,it can be improved by inserting a ssd.',\n",
       " 'It is a very good laptop. I am writing this review after one week of delivery. I used this laptop and found some cons. The battery life is very low and the 8 GB ram, we provided by 5.8 GB on which we used and the other 2.2 GB is locked for hardware. Due to lack of ssd this laptop is slow working and boot time about 25-35 sec.  But overall this laptop is great.',\n",
       " 'Nice product',\n",
       " 'This is an awesome product, hughly recommended!!',\n",
       " 'Good',\n",
       " 'Battery performance is good but Charing is too slow. All this are good. Design is very sleek. Color is nice',\n",
       " 'Laptop is good but sound is not good and also reeboot time is too long to start the laptop, otherwise all good specially display is osm',\n",
       " 'A ssd would be a better option. Battery is not as good as other laptop. Performance is not very great. Still.its fine.',\n",
       " 'The product is very good and the performance is best in my opinion, battery life is also last longing according to my need.',\n",
       " 'Purchased for my younger son. He is absolutely happy. So I got the value of purchase.',\n",
       " 'Great Display and Sound quality .  Overpowered gaming but only problem is that the usable RAM is 5.92 GB.  You can add RAM and the AMD Ryzen 5 is a total beast .  Love the finishing and overall 4.5/5',\n",
       " 'Awesome Product💯❤️ Recommended for UI DESIGNERS!',\n",
       " 'Good quality .....',\n",
       " \"This is nice product but I don't have my warranty card\",\n",
       " 'Super ! Worth each penny',\n",
       " 'This is a good gaming laptop under this price range.',\n",
       " 'nice',\n",
       " 'Fantastic product with fantastic price point...',\n",
       " 'Very nice,, ???',\n",
       " 'I dont know what the issue is but the performance is very very poor,the booting takes almost 45sec,games are unplayable,also it crashes a lot. For some weird reason the usable ram i get is only 5.88 gb out of 8gb. Opted for the return option,but weirdly flipkart has only replace option,that too with only the same product. My friend just bought the same product,he is facing the same issue! Update:- received the replacement unit, still a shitbox,slow af,i guess the whole lot is defective',\n",
       " 'The main reason for giving just one star is nothing but their amd on board gpu which reserves 2gb of the total ram in the system which seriously affect the gaming performance. Overheating is another issue.',\n",
       " \"performance too much slow. don't buy this product .it's waste of money\",\n",
       " 'The product is not good with 6 gb ram but if you add another 8 gb of ram and 256 gb of ssd then it is a beast.',\n",
       " 'Very slow processor',\n",
       " 'Takes too long to start... High graphic games lag',\n",
       " 'cant play gta 5 smoothly with this 6gb ram a lot of lag occuring',\n",
       " 'Battery back up has been reduces to 2 hrs with in 2 weeks and laptop charge rate is 6% per hour',\n",
       " \"Battery drains very fast & this laptop is super slow. The main problem is in this laptop it's take so much time to start (one &half minute maximum) & it's folder opening speed also very slow,\",\n",
       " 'screen bleeding issue noted, i return',\n",
       " 'I wanted to write this review because there are couple of things not worth.  1 Design is awesome. 2 Sound is awesome. 3 Display is awesome. 4 Performance disappointed me, I bought the laptop two days back and it’s hanging many times. Even before checked game performance. single HD movie also hanged many time in two hours.  Before buying this laptop please check other laptops in this price range and compare with hardware.',\n",
       " 'Very slow laptop',\n",
       " \"Don't buy this model. Boot time is above 3 min and the laptop is laggy\",\n",
       " 'The Laptop is good But the Service of Flipkart is extremely poor',\n",
       " 'Best Laptop, I got it for 48897 Good graphic performance feels a bit slower because of AMD Ryzen 5 3550H and no ssd alongwith. display is good battery backup is good sound quality is average It is a light weight laptop around 1.8 kgs looks very stunning',\n",
       " \"I purchased this Laptop looking at all the reviews, and also after going through expert comments and reviews on different websites. I really like the design, look and aesthetics of the Laptop.  However, when it comes to performance, I am terribly upset with the boot speed. I understand this doesn't have an SSD, but even with a Hard Disk, that too with the specs that his Laptop comes with, taking close to 2 minutes or more to get to the Windows 10 logon screen is too much. Moreover after loggi...\",\n",
       " 'Horrible cpu I was a intel user from long time i suggested this laptop to my cousin after seeing the spec list and budget friendly This laptop can over heat easily and shuts down with in no time when cpu reach 85 degrees While playing 2013 gta5 everytime laptop shutsdown after 20-30min of playing when temp reaching 90 I never suggest amd processer again',\n",
       " \"I am using this laptop from 15 days plz don't buy this laptop it stop working, I am pissed of plz buy a laptop to your near story😢\",\n",
       " 'DONT BUY THIS...........its very very slow Sometimes it freeze for no reason It take atleast 1 min to startup Cant even shutdown the system  NOT SATISFIED AT ALL',\n",
       " 'Booting time is too long even with min loading apps. Apps loading time is also too long. Battery drains too fast.',\n",
       " 'Worst laptop of all time. Very slow and battery was a useless and causing issue within 15 days of buying',\n",
       " 'Very slow laptop',\n",
       " 'Worst product , Device not getting on after installation Just one day of use , laptop turned to be useless',\n",
       " 'Very very slow 😒 performance. Slow processor very disappoint',\n",
       " \"Please don't purchase it because after finding lots of diificulties when I talked to the HP customer care they told me that windows is not provided by them may be flipkart has given windows 10 means hp has provided with simple docs nothing.  Actually I purchased this laptop after reading all the review but what I observed it a very slow battery is ok only and screen gets freezes I think about 50 times with in only 20days and boot up issue. Takes about 1 to 2 minutes to start the laptop after...\",\n",
       " \"Due to the hdd... it's boot time and app opening time is slow but overall it's ok for a budget gamer.... The design is awesome as a gamming laptop but the top flex is visible. Built of the top is slightly disappointing. But the overall the built quality is ok. The huge disappointing thing in this laptop is that the usable ram is only 5.4GB out of 8 gb I'm very disappointed for that.\",\n",
       " 'A gaming laptop, which cannot survive browser tabs more than 5, while simple apps are running in the background (Spotify, Trello, Telegram).',\n",
       " 'Very slow laptop not working fast',\n",
       " 'Boot time around 2mints every time and profomnce not good',\n",
       " 'Laptop is getting slow while charging... started after onemonth of purchasing... not getting any help from hp after compalining multiple times... hp is reallyy worse for me',\n",
       " 'Battery is week.',\n",
       " 'Its very slow boot up time is aprrox 2 minutes also i takes 20 30 seconds to open any application btw good for gaming but very slow',\n",
       " 'Too slow performance',\n",
       " 'Please not buy this 🙏🏻in 5days it have lots of issues worest battery slow boot time',\n",
       " 'Booting Takes Much time (more than 5 min). Speaker sounds are very low. system performance is low.  Display is good. Battery Backup is okk as of now since the use is less and gaming is not done. Could have included SSD Hard disk.',\n",
       " 'Good working',\n",
       " \"Not really satisfied with the product and the entire process till possession of it. Laptop takes forever to boot up. The response time is very slow. I don't know if you can run games smoothly takes forever to open Chrome.\",\n",
       " 'heating issue lagging takes forever to load windows 50k wasted',\n",
       " 'I was using this laptop since September 2020 it hang a lot',\n",
       " 'Excellent laptop go for it Screen 5/5 Bettery 4:5/5 ,performance 5/5',\n",
       " 'Avarage',\n",
       " 'Very good',\n",
       " 'Some softwares seems to be pixelated. Also, I could notice some lag during the file transfer. Multi tasking is not at most good for 8gb ram. It still has to be more efficient.',\n",
       " 'used very well no issue reported as of now, little bit slow due to HDD.',\n",
       " 'Very good product..',\n",
       " 'Good',\n",
       " 'Battery is not God',\n",
       " 'Performance is slow',\n",
       " 'Best on this price range',\n",
       " 'If u r going for gaming then u should upgrade SSD and Ram then it becomes beast.',\n",
       " 'Best for Multitasking and multiprocessing',\n",
       " 'Better than expected....🔥❤ awesome product',\n",
       " 'Slow booting up with hdd,, but overall good in price segment...',\n",
       " 'Worth the money',\n",
       " \"This laptop is literally amazing. But, a bit slow cause of hdd.. I'm certain it'll get much faster after adding an ssd.\",\n",
       " \"The laptop takes very long to boot up...every app that I open takes very long to start..I don't know what the problem is...sometimes the laptop just freezes.....and while playing fifa 18 I noticed some frame drops which should not have been....because the GTX 1650 is a great processor....I tried to consult with the hp support ...but they said it's not the laptop defect....it's windows defect\",\n",
       " 'This laptop is broken down within a month',\n",
       " 'Laptop functions quite slow, starting from power ON. Even same with browsing. I observe buffer. Takes lot time to open application and switch between them.. Not upto the mark. Facing issues while using office tools. Not worth the investment of 55K.',\n",
       " 'i like this laptop ,used outocad and heavy game smoothly',\n",
       " 'I received a defective piece which is not getting on. Display is completely defective. I received this item as gift and hence took 20 days to unwrap. Now Flipkart says you only have the option to contact HP helpdesk. Really purchasing expensive items online for Gifts is risky because 7 day return policy gets overs till the time gift is unwrapped',\n",
       " 'Writing review after using it for 5 months approx. It is best in market got at 49998 only. Used matlab and ansys software it has no lag. Played games like resident evil 6 , gta 5, mafia 3 . It is running game at 1080p at 40-60 fps. No issue of lag or heating is there. After playing for half an hour fan are starting to run but they are giving very cold air so no issue of beat. Temperature of graphic card maximum goes to 55 degree during games. Battery is .out 12 hrs on simple use and 6 hours o...',\n",
       " 'Everything is good except an SSD would make a lot of difference in performance...and secondly the processor is little slower than intel i5 8th or 9th gen. But it is good compared to other gaming laptops in battery backup.',\n",
       " 'This is my first laptop And I m very happy with this Build quality-(7/10) is good in this price Display - 8/10 Keyboard-10/10 Camera- 3/10 Speaker-8/10 Cooling -8/10 Mousepad -6/10 Battery - 7/10 ( 4:30-5:00 hour in normal browsing and watching videos ) If you play games on battery then it gives only 30 -fps (so plug your charger when you play games And laptop is very slow after playing gta 5 lagging too much',\n",
       " 'Too slow.. I used only 1weak.. The Performance is very slow..',\n",
       " 'Very good laptop must buy....it is very good for engineering students and fulfilling all requirements which we want for design purpose in this price..',\n",
       " 'Very bad to use on multiprocessing.',\n",
       " 'This laptop is very good But you have to upgrade the ram and ssd After upgrading it will become beast',\n",
       " 'Excellent for the price but the ram we get is about 6gb, which is enough for day to day tasks but not for gaming... upgrading the ram is a must. HDD is a bit slow but if you want that snapiness in windows you can add an SSD. battery life is ok-ish of about 4 hrs',\n",
       " 'I got this laptop only in 47,000 .... I am so happy with this product (till now) Battery last long about 5-6 Hr in normal video streaming',\n",
       " 'Bro the speed is really very slow like its hangs for like 30sec after i close a game and booting time is 1min 10secs .... If anyone can fix this please let me know coz i had put all my 3 year savings on this laptop',\n",
       " 'Battery backup not so good. Games very slow',\n",
       " 'Best laptop is this price segment',\n",
       " 'I happy with hp laptop and flipkart service. Thank you flipkart',\n",
       " 'it takes too much time to boot .it takes around 1;30 minutes',\n",
       " 'I got a faulty product.',\n",
       " 'Hmm somewht battry issue but performance is beast',\n",
       " 'Laptop is getting strucked when I use it for more than 3 hr',\n",
       " 'Very good laptop at its price range Best design Battery ok No doubt you can go for it',\n",
       " 'I am using this laptop for about 4 months and it had ruined my experience it is worst thing i have purchased ever  it take about 1 minute to start or boot and still after that it get hanged up  i had run many softwares as an graphic designer and every time it screwed up at every last moment and  as for hp support they always tell to reset the pc on every call and every update never download properly  As for heating concern it heats alot if fans are not given it may explode Very cheap qual...',\n",
       " 'Laptop dead on arrival',\n",
       " \"It is very slow due to low Ram, even GTA 5 doesn't work.\",\n",
       " 'The product advertises that it can be upgraded upto 1TB SSD but it cannot and HP confirmed that. The laptop is also very slow. I was not at all happy with it. It’s supposed to be a gaming laptop but if it’s so slow how can one play!!! This false advertisement on the sellers part is unforgivable.',\n",
       " 'Go for ssd varient It lacks even in bluestacks',\n",
       " \"I'm writing this after using it for 3 months.  Considering the configuration it has, the laptop is extremely slow. It takes nearly 3 mins just to switch on. App loading is very slow. While playing game as well, game stutters (FIFA 19). So, performance wise, not at all good.  Looks is great. Keyboard backlight looks attractive, however you can't keep backlight on all the time as it consumes reasonable battery as well. If you keep the backlight off, since the keyboard letters are written in pu...\",\n",
       " 'There is only 5.9 gb usable ram in this laptop...',\n",
       " 'Battery backup is very low and performance is ok ok.! You can invest 5-10k more and go gor some better option.!',\n",
       " 'Very nice product..Perfect for Heavy gaming if you upgrade ram to 16gb..but its also nice to play with 8gb ram..only negative is booting time',\n",
       " 'Take so much time for booting... Too slow',\n",
       " 'Everything is great. Butiful Experience. But there is one problem HD varient is slow If you want faster experience Go for SSD varient',\n",
       " 'Machine is too slow. I think the performance issue is related to hdd and windows 10. Need to wait long time for machine to become responsive else it will show 100% disk usage. Users cant change the bios settings as its locked.',\n",
       " 'Worst laptop and worst service by Flipkart',\n",
       " 'Hangs alot. Poor performance. Worst battery. Discharged within every 3 hour. Very poor experience. Even copying a single folder of 10 GB from one drive to another take about 1 hour time',\n",
       " 'I bought the laptop for more than 3 months now if you are a gamer go for an upgrade of ssd which will make your overall performance good The speakers are stunning compare to other laptops the b&o audio took it to the next level Display is epic with the streaming 4k video which is cool 8gb ram only 6 gb usable because of the consumption of integrated graphics card While gaming with hdd face lag issues for nfs payback bit after a bit its okay After a month i face a little bit of crashing issue...',\n",
       " 'Battry backup is very poor ... And please do not order this product ...without ssd it has very slow processor...',\n",
       " 'I use this laptop 1 months its performance are soo bad lak problem software very slow working and so many problems',\n",
       " \"Physical memory installed is 8.0 GB but out of it only 5.88GB is usable. They have no explanation about this. They haven't mentioned this in their specifications. Think before you buy.\",\n",
       " 'Too much from the date of purchase..',\n",
       " \"The Laptop if you can get it around 48 with the SBI or HDFC cards offer then it's a really great deal. The HDDs a bit slow but that's nothing an SSD won't fix and an additional 8 gigs of Ram would make any other entry level gaming laptop run for its money. Bottomline with another 7k investment this will beat anything else below 60-65k\",\n",
       " \"The delivery boy was a bit rude ...Design display and battery is good...but it seems a bit slow after updating the drivers it's ok ..booting time is 40-60 sec ..maybe due to less ram(6gb and 2gb Vega graphics) and HDD..after upgrading ram and adding ssd ...This will be a beast... everything else seems good..no heating problem..so if u think about this laptop this is ok and after upgrading with about 6-8k it will give best performance...like if you want any updates ....  After 10 days of u...\",\n",
       " 'hard disk speed is too slow always shows 100% disk usage and games are lagging like hell.',\n",
       " 'Worst product Very slow',\n",
       " \"Laptop generates lot of heat while using it Lags a lot while playing Gta5 Laptop takes 3minutes to boot up It takes 20-30 seconds to respond for a click when there is no background app running. Performance is much less than an average laptop which is half the cost of this laptop. HP shouldn't call this a gaming laptop at all and the price is way too higher for the poor value delivered.\",\n",
       " 'Simply superb 😍😊',\n",
       " \"Laptop is a beast but very poor battery don't expect for a long time gaming should use while charging battery drains within 1hr for gaming and 2hrs of normal usage\",\n",
       " \"Very very slow performance 😏. Processor very slow I'm not satisfied\",\n",
       " 'Best in all way....',\n",
       " 'Heating and lag issue...',\n",
       " 'Not a good laptop, built quality is low, very slow',\n",
       " 'Battery life is bad 1 hr approx..... anykind of work except gaming.....   Performance is also bad booting time 20 to 25sec shut down time 38 sec to 45 sec   Can any body tell me which one of the drivers i should install as hp support is showing many drivers ....bios, graphics,firmware,hd audio and many more....??????',\n",
       " \"This is a good laptop.I played farcry 3,farcry 4 without SSD or ram upgrade.But BlueStacks lags.If you are a freefire player you can play lag free in smooth only.Charge don't last long.For gaming 10min it drops more than 20%.With charged only u get smooth fps.If u upgrade ram and SSD it may be good.\",\n",
       " 'Nice good laptop',\n",
       " 'Hdd is littel slow but you upgrade ssd then this laptop is beast in performance',\n",
       " 'Good laptop for casual work and gaming',\n",
       " \"Once it will taking lot of time for booting but it's assume look and quality when we will upgrade ram and ssd it will become a beast laptop happy to buying beautiful laptop. When I received small bending in touch pad but it working so I didn't replaced for very small bend it works nice\",\n",
       " \"It's the beast go for it\",\n",
       " 'This product is great in the price range of 49K. I would suggest to upgrade ssd and ram after purchase as it will turn this into a more powerfull machine. The only shortfall I found was the fact that bios locks the advanced settings area which limits ram of this lap to 6 or 5.8 gb and wastes the potential of 2 gb in igpu which is not needed as it has a dedicated gpu as well',\n",
       " \"I got a hang issue from the beginning. Now its 3 month's and it's still the same\",\n",
       " 'Boot time is a little slow but other than that I have know complains. Solid build quality, great screen, good speakers, respectable battery life, bang for the buck gaming performance. Overall very satisfied',\n",
       " 'beast laptop at this price',\n",
       " 'Definitely add a SSD to it... Otherwise the lap is too slow to boot up and run... Its a plus to add up to 1tb ssd upon the inbuilt HDD.',\n",
       " 'This laptop is very good but other 0battery is very bad for me only one hour play game I am suggest a pc for gaming but this is good',\n",
       " 'Very poor performance... takes almost an hour to start That too after restarting after 4-5 times Very slow  Worst laptop ever experienced',\n",
       " 'good',\n",
       " 'Its not working properly',\n",
       " 'Great after 1 week of use',\n",
       " 'Even I right click for refresh ..it take lot off time ...even not installed any other software...',\n",
       " 'Everything was okay except the performance is slow due to HDD, better to go for SDD version',\n",
       " 'Good products',\n",
       " 'u can use it for normal use gaming and much better battery and backlit keyboard is best',\n",
       " '3 day used. I purchased this product only for normal purpose and Adobe Photoshop. This is good for me',\n",
       " 'Battery is is week and speed is also slow recommend ssd drive',\n",
       " 'Very good product value for money',\n",
       " 'I am totally impressed with this product Worth for Money Under 50k best gaming laptop',\n",
       " \"Beat product in mid-range. Beast of mid-range. If your budget is 50000 i prefer you to buy this laptop. It's a beast.\",\n",
       " 'Overall pretty good gaming experience but poor battery',\n",
       " 'Genuinely good product after 1 week of use. Using mainly for programming will start gaming and review later. So far good laptop. I love this gadget.',\n",
       " 'Dnt buy very slow while using cad software',\n",
       " 'Works very slow manytimes real reviews after 3 months',\n",
       " 'It is good... Boot tym is slow... But it could be solved by increasing the ram....',\n",
       " 'Good Product',\n",
       " 'Looks premium but gets oil marks everywhere. Ssd is a must if you want fast loading speed. Upgrade ram also if you do multitasking of heavy apps',\n",
       " \"Don't Buy this Laptop,, wasted... Performance is not good .. display blinking., Power is inconsistent.. flipkart members also not responding for solving problem... This app is 200percemt waste ... Don't use this App\",\n",
       " 'Very very good.... I am completely satified',\n",
       " 'I bought this for mobile game development and coding and unteal engine and other apps work smoothly on this . Also gta v runs perfectly. No need to add ssd but yes ram can be upgraded to 16 gb to even more enhance the laptop but without it also it works fantastic.',\n",
       " 'I can play free fire with lag',\n",
       " 'Awesome product',\n",
       " 'Waste of money',\n",
       " 'Decent product',\n",
       " 'That is amazing performance...',\n",
       " 'Excellent',\n",
       " \"U can fell the lag and don't even dare to install BlueStacks.It'll hang\",\n",
       " 'Everything is perfect according to the price but it definitely needs a ssd upgrade Rest all is excellent',\n",
       " 'Beast',\n",
       " 'All rights but boot is very slow',\n",
       " 'It was really a nice product',\n",
       " 'Some game like frozen 4 is not run nice till now bad is that the 8gb Ram is mentioned but 2gb is already use By system we get only 5.88gb Ram usable gaming experience is not good not bad also some game run smoothly but some are not',\n",
       " 'Booting time is to long very slow performance and not worth it',\n",
       " 'Not satisfied with the performance speed...',\n",
       " 'After 6 month of User It’s really slow Takes lot of time to start',\n",
       " 'Very nice product . Delivery before time . Satisfying ❤️❤️.',\n",
       " 'Entry level laptop',\n",
       " \"Nice one. Increase ram for better productivity. That's it. People say go for SSD. But it isn't compulsory. HDD works fine as well.\",\n",
       " \"Best in value for money...as it's HDD so performance is quite slow\",\n",
       " 'Good performance...',\n",
       " 'It is best under prize range',\n",
       " \"I would say this laptop is value for money, a great machine from HP. Since there is no SSD pre installed, I would say, it would be great if the user installs an SSD after purchasing this device. I have installed an SSD onto the machine and now most of the games I'm getting more FPS and more enjoyable.\",\n",
       " 'Excellent product delivered only with in 2 days',\n",
       " 'Charging port loose connection & very slow performance',\n",
       " 'Super laptop bro ...',\n",
       " 'Love it and please sub to Thunderr CD 🥰❤️ Indian gamer is here✨',\n",
       " 'Little bit slow in start otherwise if works smooth And you should upgrade to ssd then it gives good performance',\n",
       " 'Great product.',\n",
       " 'Product ok but we need to upgrade to ssd',\n",
       " 'Nice and best product as per specification but only battery backup is needed and i will suggest tjat if you are buying this product then please insert an SSD for smooth and better experience in it.',\n",
       " 'Nyc product',\n",
       " 'Dont expect too much',\n",
       " 'While running editing softwares for coding or some other big softwares...it slows down coz of the 6gb ram(+2gb internal graphics)...ram upgrade and ssd upgrade can help sort this issue....otherwise 5 out 5 on value for money.',\n",
       " 'Superb quality',\n",
       " 'Gud product and value for money',\n",
       " \"If thay have added even a 128Gb SSD means it's an amazing deal..\",\n",
       " 'Without SSD and 8 GB memory the system is unusable.  Having put 256 GB SSD and 8 GB more memory, the system performance is very good.  Not sure why they have not made it default configuration.',\n",
       " 'Laptop is good for mid-level gaming and official purpose. Design is classy, suitable for both gaming and office.  Recommended: upgrade to 500gb ssd and 8gb ddr4 ram for ultra performance.',\n",
       " 'super very good lop top',\n",
       " 'Nicee',\n",
       " 'You can play games on High settings but on very High or ultra high settings it started lagging so you can play on High settings or medium settings smoothly',\n",
       " 'Good',\n",
       " 'After 5 days usage... Battery draining fast..overall nice uhnder 50k..',\n",
       " 'This laptop is completely an insane beast,i loved it, the performance is very good and the battery back-up is also good. However, firstly to get the best out of it, please update all the laptop drivers i.e graphics, processor, mother board, bios etc, the updates will take over 2-3 hours on speed internet,  Also, because of of the 1 TB HDD, the performance is quite low, but once the laptop is upgrade to SSD and extra 8GB or 16GB RAM it is completely insane beast. And the cooling system is veee...',\n",
       " 'Nice laptop. Keyboard is fabulous 😍 . Good purchase',\n",
       " 'bery slow because of presence of os in hdd',\n",
       " 'Everything is fine but laptop is slow in performance.',\n",
       " \"For the first time it was too lag.It took near one minute, sometimes more than one minute to boot. But after updating windows and drivers in it booting time reduced to 30 seconds. Don't expect it is a high speed system. In my experience it have same speed as that of my earlier dell vostro laptop which was i3 8 gen 1tb hdd 4gb ram. May be it improve when we upgrade it with more ram and using ssd.In this system only 5.8gb ram is available. Remaining is reserved for on-board Radeon graphics of A...\",\n",
       " 'nice product but battry problem',\n",
       " 'At my first time usage till now os running very slow and lagging and hanging issues too much of heating issue is also, very disappointed',\n",
       " \"AMAZING... Good Design & Good Futures I'm so happy...\",\n",
       " 'Very slow',\n",
       " 'awesome product',\n",
       " 'Not able control fan speed manually so the laptop overheating and too many repairs for hp company',\n",
       " 'Very Very Very bad performance. It is very slow you can not play any game and not even use Adobe softwares for working purpose. If you want to buy go with intel processor AMD processor is useless. I am so frustrated with this laptop. Dont waste your money',\n",
       " 'Very few product can defeat it',\n",
       " 'Go for it',\n",
       " 'Good',\n",
       " 'Good',\n",
       " 'Go for it, but need to extend ssd and ram for better game experience',\n",
       " 'The product is so slow and it takes times to turn on',\n",
       " 'The performance is not as expected..the laptop is little slow. The F1 key is bulging out.. dissatisfied with the product',\n",
       " 'This is the best laptop in this range, backlit key board and design is very charming . Without ssd I feel some slow processing speed. Overall laptop is best ,go for it',\n",
       " 'Good product',\n",
       " \"Great value, now i haven't used any expensive computers but this one is right on the money, 6 months in and no single problem\",\n",
       " 'Go for it Its that good',\n",
       " 'Awesome',\n",
       " 'It is good product for its value. But I will suggest you to go for add varient rathar than HDD',\n",
       " \"Laggy asf flipkart won't help u dont buy\",\n",
       " \"U have to add SSD for better performance. When i switched it on performance was not good as i expected. Bought 250 GB Kingston additional SSD. Now it's good.\",\n",
       " 'In this budget laptop it is so good',\n",
       " 'This ia very good product but battery backup is very low otherwise very good.',\n",
       " 'Overall nice pakage but may be due to hdd, performance is not good as it should be',\n",
       " '4 stars 8gb RAM but performance',\n",
       " \"All working perfect & fast display was superb, overall it's a value for money laptop👍\",\n",
       " 'I got my laptop today and this is my first laptop so I have some doubt like after inserting charging pin in port it feels loose is it normal and also there is a clicking sound in trackpad when I click',\n",
       " 'This laptop is very good. I appreciate the delivery team. Applause for them.',\n",
       " 'Top notch laptop in this budget,if you add a ssd atleast.',\n",
       " 'Good one',\n",
       " 'Budget gaming lptop under 50k  Performance is excellent Build quality is also good.  Battery is average .',\n",
       " 'Good laptop About slightly slower',\n",
       " 'HDD good but SSD best',\n",
       " 'Amazing laptop go and buy it',\n",
       " 'This is the best laptop in that price 👌👌... The design and the performance is so good .... Worth of money 👌..',\n",
       " 'Best laptop, very happy 😊😊',\n",
       " \"It's a great laptop but it is heavy also,...so plzz keep this in mind .. But not much heavy ..easy\",\n",
       " 'Best gaming laptop',\n",
       " 'This is best for gaming',\n",
       " \"It's taking much time to start. Has updating issue.\",\n",
       " 'The quality and build is awesome. Best low cost laptop.',\n",
       " \"Indeed it's a great laptop looking at the specs but I have never seen a laptop which is this slow just because of a HDD. Other HDD laptop works really fast than this thing. If you're purchasing this laptop either purchase the SSD varient or buy SSD separately and install. HDD of this laptop is too damn slow. Otherwise Graphics is great. Battery backup is decent. Display is crisp. Design is great.\",\n",
       " 'Good',\n",
       " 'Only disadvantage that I expect is fast battery draining (2-3 hr normal usage )... Except this a nice pick🔥',\n",
       " 'You can buy this laptop if your budget is under 50k Best laptop under 50k if u add an ssd it boost the performance',\n",
       " 'Display is decent with good viewing angles and no color shift and all But the battery life is pathetic as it discharge 40-45% in 1 hrs as my use ( im not a gamer ) i was just running some very basic tasks like html file and thats it.. the speed you is also bad beacuse of hhd but if you add and extra m.2 nvme ssd it becomes baburao ;) but as it ships with hhd so you have to face slow boot time and app loading till you upgrade to ssd .. and yes it does heats near hhd area so energy loss it defi...',\n",
       " 'Very nice products in this range',\n",
       " 'Over all gud, satisfied with offer range . Experiencing good',\n",
       " 'Heating issu , Poor battery, poor booting issu',\n",
       " 'This laptop is nice for your study and other work also 🙂🙂.',\n",
       " 'Value For Money Product !',\n",
       " 'Best laptop under budjet',\n",
       " 'Loved it Great value for money laptop',\n",
       " 'Nyc product for gaming and programming also',\n",
       " 'Osm quality... Processor almost good and display is better I like this product 👌',\n",
       " 'I have bought 2 laptop, 1 for me and 2nd for my sister and after using 2 months i can say this is the cheapest gaming laptop i ever had just one problem is there, as we all know this laptop come with AMD proccesser and all AMD proccesser and graphic card have the heating problem and its was not resolved till yet.',\n",
       " 'Super laptop but some noise fans',\n",
       " 'Shutdown while working on it and this is my only 4 days experienc, processing speed not good.',\n",
       " \"laptop look is owesome. normal games handle easily but on call of duty warzone is it was hanged badly. battery is average . can't expect battery from it. screen is owesome and sound of speakers is also fab\",\n",
       " 'The build quality is amazing by the hp There is no other laptop compare to this price range Terrific experience of gaming and as well as professional work Awesome graphics Just need some more battery backup but its fast charger makes it convinient too. Some more speed shall be encarporated but empty m2 slot for ssd fills up the void.',\n",
       " \"That's a kind of laptop anybody would want. Simply amazing. And its looks are very beautiful and dashing.\",\n",
       " 'Good products value for money',\n",
       " 'Poor perfomance...,, faced a lot hanging issues mutiple times',\n",
       " 'I TS LAGGING bro',\n",
       " 'Good Performance, but keyboard quality is compromised, very good gaming performance, little bit lag some point, but Okey, higher charger Performance is great',\n",
       " 'Good laptop for the civil engineers 👍🏻',\n",
       " 'Booting is too slow , getting heat even in low end games because of the and processer you will get to use only 6 gb of ram',\n",
       " 'Good in performance, could be better. Battery life is not more than 4 hrs. But charging takes very less time so it neutralize the battery issue. Screen in amazing and design is stunning...it feels good',\n",
       " \"It's good budget laptop u can use it for both designing software and gaming . Battery backup is okayy 3-4 hrs also display n sound are superb .\",\n",
       " 'Good product',\n",
       " 'Good on.🤭',\n",
       " 'Good',\n",
       " 'good',\n",
       " 'U need to upgrade it by adding more ram and adding and ssd without this lags a lot very slow pc',\n",
       " 'The product is awesome but the delivery boy is very worst in behaviour.',\n",
       " 'Good at this price range.',\n",
       " 'Speed very low',\n",
       " 'ssd version is much better than hdd and charging speed is very very slow else the very good product',\n",
       " 'Best gaming laptop i just love it😍',\n",
       " 'Best laptop for gaming and Content creation or any type of editing work.. Love this product😍😍😍.. Thank you',\n",
       " 'I like it',\n",
       " 'Its a good laptop with stylish blackish design.Loved it',\n",
       " 'Performance superb...👍',\n",
       " 'Superb laptop💻',\n",
       " 'Very nice',\n",
       " 'Just Awesome 😀',\n",
       " 'best laptop',\n",
       " \"It's a great laptop. Works amazing. But comes without pre installed office. Otherwise amazing in looks and display.\",\n",
       " 'Super',\n",
       " 'Great value for money!! Must buy for this price range, have a good comparison between Acer Nitro 5 but choose this, and yes, feeling great for my decesion.',\n",
       " 'VERY GOOD GAMING LAPTOP[ AT AFFORDABLE PRICE',\n",
       " 'I use it 15 day I am using Illustrator 2020, and photoshop 2020, and after effect and Adobe premiere Pro, all software running best but some time little hang but no problem, requirements to update ssd and ram, for High use btw all Prefect best budget leptop',\n",
       " 'Good.lack of ssd will felt',\n",
       " \"It's a very good Laptop.i face only 1 problem with the laptop is performance cause in this laptop 1 TB hard disk that's why it's to slow as compared to SSD veriant.bettry life is to good.laptop look is pretty good.\",\n",
       " 'Weight is too much',\n",
       " 'All time lagging',\n",
       " 'Just good ,not impressive kind',\n",
       " 'The design,look is absolutely good..',\n",
       " 'Poor performance',\n",
       " 'Best in the segment & price',\n",
       " \"It's best in this price range but I'll recommend if someone is buying this laptop should install SSD for best gaming performance\",\n",
       " 'Nice product',\n",
       " \"1. First thing which matters is it's built quality. The plastic hp uses in front side of laptop is very pure,you can easily press it and if you give some little pressure on it it can be borke. you can't think that it's a laptop's plastic. Many toys have better plastic than it. It is not a long lasting laptop as the outer surface is weak. Easily fingertips shows anywhere of laptop. Touchpad is also not out of mark.  2. The performance is not so good. All is right if you add a ssd and ram. I...\",\n",
       " 'HDD is slow... but not too slow.. better to add SDD. the build oor strength of laptop could have been better. overall a good performer. Battery is decent',\n",
       " \"It's very slow\",\n",
       " 'Good budget laptop but not a beast ....... Looks great and all is good',\n",
       " 'No 1 laptop price 48k',\n",
       " 'High performance',\n",
       " 'Go for SSD version, HDD make this laptop slow booting',\n",
       " 'Mind blowing',\n",
       " 'Worst performance',\n",
       " \"Never buy ryzen processor it takes half of your ram like if you have 8gb you get only 6gb ram I did a big mistake please you don't do it\",\n",
       " 'best budget gaming laptop',\n",
       " 'Mouse pad not working',\n",
       " \"It's not useful the gaming laptop\",\n",
       " 'very Good',\n",
       " 'Not Bad',\n",
       " 'Slow from day 1 Waste of money',\n",
       " 'Processing is very slow Compared with old i3 hdd system . Always go with SSD.',\n",
       " 'Fantastic !',\n",
       " 'Best one',\n",
       " 'Good for study and gaming',\n",
       " 'Waste of money not worth buying Too slow more bugs',\n",
       " \"Very good product 🤩 wow I'm so happy thanks filpkart ❤️\",\n",
       " 'Good performance.',\n",
       " 'I brought it at 50k,which is good for this product.it is useful for normal usage and for students.',\n",
       " 'Booting take long time expect that overall performance and gaming is best  If u add additional SSD it make perfect',\n",
       " 'Product Is good but you should go with Asus because there is only 4 gb ram usable out of 8 gb this is the worst thing of this laptop and delivery is to late so I have cut half half star for both the reason.',\n",
       " 'i will play the free fire very smoothly!',\n",
       " 'Performance very good Battery - 4-5 hours Design very good design with backlight keyboard',\n",
       " 'Good to spend for quality lap',\n",
       " 'Good product from Hp it suites both professional and gaming use but battery lyf could be better and also the sound from b&o just rocks♥️ solid 8.5/10',\n",
       " 'Hp Pavillion Gaming Rayzen 5 is amazing laptop in terms of design, Display and performance.. Superb Laptop. expensive because i upgrade 8gb ram and ssd. The Dominant feature us SUPERB cooling 2 fan which is the best feature.',\n",
       " 'As expected... Good laptop to buy in this price..',\n",
       " 'Good at this range',\n",
       " 'Good product at this price',\n",
       " 'Laptop is good but slow in performance',\n",
       " 'Soo good',\n",
       " \"It is a very good gaming laptop. Awesome laptop of it's price..\",\n",
       " 'VERY DISAPPOINTED Given the specs it should work like high end device but disappointed me a lot, it takes time to open any kind of application and if we install any sort of game then device starts hanging.',\n",
       " 'Without ssd as its boot drive it feels very slow when starting, and sometimes feels like lagging when tried to run few applications at once.',\n",
       " 'Slow processor ,only 5.9gb ram available.',\n",
       " 'Superb Product... I bought 6 months back.. still no issues. When you run big games its working good not excellent.',\n",
       " 'Best budget and money worth laptop ever 👍',\n",
       " 'V nice laptop but sometimes lags a little, battery is good if kept on balanced and not high performance, all in. One laptop.',\n",
       " 'Aside from booting issue and ram being only 6gb/5.90 its a great lap. Just place an 500gb ssd and an 8gb ram , its a beast. Spend maybe another like 7-8k for upgrades and this lap will last 4-5yrs',\n",
       " 'HDD is littile slow it takes more time than expected to boot Display is 👌 Recomend adding SSD or SSD varient',\n",
       " 'Battery life Not as aspect ... but nice product and designing,',\n",
       " \"It claims to boot within 30 seconds. That didn't happen. It actually takes longer than my previous 5 year laptop to properly start. If there are any tips or tricks that we are supposed to implement prior usage or take the device to a service centre for tweaks then that must me mentioned beforehand. I don't know if the seller has just provided a sub standard product or the device itself is faulty, the loss is ultimately mine. When I'm paying so much for a laptop then I expect features that are...\",\n",
       " 'Best product',\n",
       " 'So one thing which I too read in comments before buying that ram upgrade is must, and I total agree, ram upgrade is must to get a beast out of it.ssd is not so much needed. Good Good display Games in high settings runs super cool but ram upgrade is felt. While switching from game to windows. Backlight light is good Speaker are good quite loud Cons battery backup is not good while doing work. Gets hanged frequently bcoz of ram as most of it consumed by processor   Rest I am good with it, pl...',\n",
       " 'Nice laptop version by hp',\n",
       " 'Its Awesome Gaming Laptop',\n",
       " 'Sweet just amazing flipkart!!!! I love your dilivery time too it dilvered before the time lovely and it looks so cool man really good I am impressed always do your best like this',\n",
       " 'It is good laptop for coding and gaming purpose.',\n",
       " 'Slowest laptop in price segment, every game stutter no matter how old game is. It managed to stutter left 4 dead type of old game. DONT BUY HP LAPTOPS',\n",
       " 'Laptop is best ,, Fantastic degine,but flipkart delevery service is very bad..',\n",
       " 'If you are looking for a laptop at a rate of 50k this is the perfect choice',\n",
       " 'Super',\n",
       " \"Cyberpunk lagging even after running on low settings Assassin's creed black flag runs at high settings Laptop automatically shut down while playing game at high setting(after 15 mins) Only problem with ram. As 6 gb is usable. Need to upgrade.\",\n",
       " 'Good but sometime works slow',\n",
       " 'Very slow. Startup takes 15 mins.',\n",
       " \"If you are going to buy this order a 8gb 2400mhz ram with it else the ram will bottleneck the GTX 1650 and u may think that the laptop is not efficient, cuz of integrated graphics only 5.88gb of ram available  a perfect classic gamming laptop , u can use this for both professional use and gamming .it doesn't look aggressive as other gamming laptop . Great performance , with hdd it just takes 20 or 19sec to boot up initially Display - is superb it has led display Sound - loud and clear Batter...\",\n",
       " 'Good',\n",
       " 'Product is good.. Satisfied',\n",
       " '5.58 gb ram only usable pls avoid to buy this laptop Its booting time is not fast it take too much time Design was awsome.but its has only design...',\n",
       " 'Everything seems to be perfect except at this price range we deserve ssd and slightly better build quality . Overall nice experience.',\n",
       " 'This laptop is very good but if u need gaming faster then you need to attach a ssd around 140GB or 240Gb.',\n",
       " 'All good but processing low because HDD. So i recommend buy with SSD',\n",
       " 'Super good',\n",
       " 'Everything is good but it takes long time to boot.',\n",
       " 'Battery is a average factor 3/5... But overall price and features 4/5.',\n",
       " 'Battery not good...only works 3 hrs',\n",
       " 'At this price its worth buying without a second thought.',\n",
       " 'Good',\n",
       " 'Battery in high performance is only 30 to 50 minute',\n",
       " 'Best Product Truly',\n",
       " 'Good product for basic level gaming, designing, autocad, photo shop and it comes with good price',\n",
       " \"Don't buy ryzen take intel\",\n",
       " 'Just amazing',\n",
       " 'The best',\n",
       " 'Best laptop for this price range, Best display. Performance is great, it has extra slot for ram and ssd. The only drawback is that hp locked the bios due to this the vega graphics reserves 2 gb ram so only 6 gb ram is usable because of this games like GTA V, Shadow of the tomb raider, RDR 2 stutters (playable but annoying). Upgrading the Ram to 16 gb fix this issues and makes this a bang for the buck.',\n",
       " 'Nice',\n",
       " 'Battery backup is very worst',\n",
       " 'Average one , battery drain is too fast, much lags we will face even while normal use also.',\n",
       " \"The laptop is great overall and the GTX1650ti can run most modern AAA games, display is awesome and performance is good... BUT A RAM AND SSD UPGRADE IS MUST... And battery life is somewhat short but that's expected from a gaming laptop.  Get at least a RAM upgrade (if u don't mind longer booting and loading times) and this beast is ready to go\",\n",
       " 'In this price range You can get this as a best deal... the battery backup could be better... otherwise product is best 🔥',\n",
       " 'The heating is more and gaming are lagaing But good',\n",
       " 'Received the product within 03 days of placing order. Performance is great considering the price point. AMD does a great job and is comparable to i5 9th gen. Overall recommended.',\n",
       " 'If you are a gaming person than ram upgradation is must. Build quality is upto the mark in this price range .',\n",
       " 'Very nice products',\n",
       " \"I had an issue as there was a stuck pixel on my laptop and even though it's a manufacturing defect, hp does not want to help me. I'm also under warranty.\",\n",
       " 'Only upgrade to ssd and it will be a rocket',\n",
       " \"Great gaming laptop in this price range. You can easily play most modern games on High settings and get around 45-60 fps.  One thing that they don't tell you us that 2gb RAM is reserved for the integrated graphics so you only have around 5.9 gb RAM available which can cause issues with latest games. So I would suggest getting an extra 8gb RAM if you want to smoothly play all the latest titles.\",\n",
       " 'It is a great budget buy as it has capacity to upgrade Like extra ram slot (which you require soon as ryzen blocks 2 gb by default) and m0.2 slot for SSD so ample opportunity to upgrade value for money',\n",
       " 'Excellent product',\n",
       " 'Microsoft office home & Student not installed in this laptop.Buy seperately cost 8000 Rs.',\n",
       " 'Great',\n",
       " 'Vesy slow performance unexpected from HP',\n",
       " 'Go for it if you want a good laptop for gaming and video editing',\n",
       " 'Lagging not satisfied with the product',\n",
       " 'This laptop hangs. Like seriously after this much of processors and RAMs. Should have gone for SSD one thats beast.',\n",
       " 'It claims 8gb ram but only 6gb is usable. The processor gets very slow eventually.. Not good for gaming',\n",
       " 'Third class laptop no refund',\n",
       " 'Good machine in this prise segment I suggest only this device',\n",
       " 'ALL ARE GOOD. - Only things what I am Missing... Is SSD - Awesome laptop with very good performance - Got this @46 in Diwali Sale..',\n",
       " 'Great performance and looking too good',\n",
       " 'Best laptop in this price range . If you are playing games casually then this must be your choice. Initially the games will get lag but if u add 8 GB ram upgrade the laptop works smoothly any games at 16 GB ram. So ram upgrade is must. I play PUBG PC, GTA 5, Valorant , Warzone,Apex Legends,Fortnite,CS Go, Watchdogs 2,RDR 2etc.... You can play any high specs game only with a ram upgrade. Battery is the only problem with this lap but while u r playing games just plug in the charger and play you...',\n",
       " 'Very slow working',\n",
       " 'Brand new laptop with 8GB RAM and Genuine Window 10 pre installed. But there is problem of hang from beginning.',\n",
       " 'been using it for a week now. its a mean machine. performance and looks are great. 👍🏼.',\n",
       " 'Good value of money',\n",
       " \"I had planned to buy a Lenovo ideapad for 45k i3 10th gen....but later on I found this laptop ..I am not into gaming but a 8k extra it got me a rayzen 5...15.6 display IPS panel,B&O sound ,nividia graphics 4gb ,illuminated keyboard ,tough build ,excellent cooling since it's gaming laptop ,8gb 1tb HDD...It's build is excellent ...I think it's a excellent purchase for 53k with HDFC discount...only thing I found is a SSD would have been to avoid a bit lag ..but the best thing is both ram and SSD...\",\n",
       " 'Except battery all are good in this price range... U can buy it',\n",
       " 'Overall Nice but it will hang when you will run multiple software and chrome',\n",
       " \"After 2months use... Trust me guys the system is too slow and my old pc with 2 gb ram was faster... Tried calling the customer support many times and no resolution the laptop is still slow. Normal things take time like even if I want to open browser or my computer it srsly takes atleast 45-50secs which is slow for a 8gb ram laptop and imagine playing games or using heavy softwares. Battery hardly holds for 2hrs drains like anything and even when I fully charge the laptop and it's turned off ...\",\n",
       " \"The only major issue is battery backup ,which can be seen in all the gaming laptops . But once you connect it to a charger then you will get the real beast out of it . Considering the price, the laptop delivers great performance and quality of the product is very good. Total graphical memory is 5 gb ( 4gb From Nvidia+1 gb from RAM ). I'll recommend you all to upgrade your pc with an ssd of 250gb and a ram of atleast 4gb\",\n",
       " 'Best laptop for new user Everything is good Camera 4/5 Battery 4.5/5 Performance 4.5/5 Display 5/5 Gaming 4.5/5',\n",
       " 'i am giving this review by using this laptop by 4 months only . it take 10 to 15 mini to start the , very slow... performance is display is good , average product...',\n",
       " 'Too good lapi.. I love it',\n",
       " 'Good in all ways...but takes time in booting...Battery life too short..',\n",
       " 'Got what I Want.',\n",
       " \"Awesome 👍 loved it. Good performance. I use it for editing purposes , it's awesome , no lag or hang , working properly.\",\n",
       " 'Very good product. Delivery was very fast',\n",
       " \"Its a average laptop to buy at this price point. Everything is average except for the ram it uses. I don't know why but out of the 8gbram is only 5gb is useable. This seriously slows down the laptop. Can't change the settings through bios because it is locked by HP  Do check the physical condition of the laptop. The first one i got had a problem with the F6 key.it came out of the keyboard.\",\n",
       " \"Received defective product. Flipkart replaced it. After replacing again received defective product. Didn't expect this from flipkart or hp. Worst experience ever.\",\n",
       " \"Laptop isn't that great until it has an ssd in it because without ssd it's just frustrating to use this lap Otherwise for gaming it's a beast and for multitasking too Go for this one if u have a budget below 50k\",\n",
       " 'On battery the display is good.. otherwise without battery the light is low. Gaming is smooth with 12Gb ram and 16Gb ram for COD warzone, GTA V, Assassin creed series including Odyssey, Apex Legends, Horizon zero dawn etc',\n",
       " \"Worst... product....super slow...don't waste money\",\n",
       " 'Very nice model with good performance',\n",
       " 'Such an awesome laptop ,beast in performance',\n",
       " 'The laptop is very slow..Taking too much time to open any app. Also take approx 4-5 sec to refresh..my 14 yrs old pc having ram 2 gb , dual core processor is much faster than this laptop.. .Infact i didnt get refund option..Flipkart did fraud with me.',\n",
       " 'Ok',\n",
       " \"It's pretty decent laptop. The only problem is it doesn't support hardware virtualization. It means you won't be able to use virtual box or VMware. Just think before you purchase\",\n",
       " \"On Flipkart page it was written 0% intrest EMI from Kotak Bank. But both cheated as Bank started charging intrest. And on complaining to both, no solution was done. They just tossed the ball in other party's area to resolve the problem. Atlast I made prepayment of that emi to save the intrest amount\",\n",
       " 'Excellent',\n",
       " 'Nice',\n",
       " 'Superb laptop',\n",
       " 'Not too much satisfied from the performance. But yeah this is the good laptop for mid range gaming and office users.',\n",
       " 'Good',\n",
       " 'Best Laptop For Students Also Not Only For Gamers You Can Do Whatever You Wanna Do Like Big Size Coding Softwares You Can Download 👍👍👍👍👍👍👍👍👍',\n",
       " 'Best laptop in this range . Body is made of hard plastic . Both ram and storage are upgradable',\n",
       " 'Good',\n",
       " 'I buy this product on Bajaj Emi Card And BTW nice budget gaming laptop',\n",
       " 'Buy asus better then this',\n",
       " 'Upgrade to ssd. Boot up is pretty slow as well as opening softwares. But a RAM too if you want a lili but of additional performance',\n",
       " 'Battery backup is not so good but all other features are just amazing 🔥',\n",
       " \"If you upgrade it with an extra 8gb ram supported with SSD, then there shouldn't be any complaint about its performance. Yes, sometimes the mouse cursor gets stuck somewhere, but that is only for a second and not frequently. It handles most of the new generation or AAA games pretty much efficiently. Overall, I'm really satisfied. But you need to upgrade it with SSD and another 8gb of ram.\",\n",
       " 'Gud laptop in this price range! Gave 3star becouse HD version is so slow, go for an SSD version or add an SSD to it.',\n",
       " 'Not very satisfying performance, I got a damaged products for the first time and the replacement process in one word \"Degaster\". Finally after more then 50 call I got the replacement after 18 days. So simply avoid the product.',\n",
       " 'Not gud for this price better to go with ssd',\n",
       " 'The laptop is very slow probably due to so many adm drivers. Look is very cool but very low grade performance.',\n",
       " 'Thankyou Flipkart',\n",
       " 'Awesome product I brought it in offer . Very nice delivery',\n",
       " 'Worst laptop, battery over heating, booting problem, worst build quality 😠😠😠😠😠😠😠😠😠',\n",
       " 'Good',\n",
       " \"It so slow and display also have some issues!   I didn't expected about battery . Battery backup is also very less .IG it give only 1 hour backup!  Don't buy!\",\n",
       " 'Excellent',\n",
       " 'Overall good product',\n",
       " \"Waste of money. I want to buy a gaming laptop from my childhood. It was my dream, after saving enough money i ordered this laptop and i was very disappointed. Games not running smoothly sometimes game freezes for couple of seconds while playing. Sometimes even if i don't play a game it hangs.\",\n",
       " 'Overall decent laptop. Loud fans. Bootup time is slow for a new laptop. No heating issue so far. Above average for gaming and general use.',\n",
       " 'less Battery backup and after 15 days from date of purchase charger stop working',\n",
       " 'Booting needs time,at least 3min,overall it was a very good product a bit slow compared to i5 9th gen just a little bit.but fine overall the performance was very good, fully satisfied and happy',\n",
       " 'The laptop is on bit slower side... Go for SSD ...rather then HDD ... Else everything is manageable...  I played fifa 2019 and it lagged',\n",
       " \"It's excellent product from HP. I was a little worried due to display Specs. But in practice it is stunning. Really good one. I have played over 144 Hz and literally no diff. is observable.  The laptop is prime by looks and touch. And particularly good in operation. A powerful and cheaper alternative against i5 based lapy.  My gaming experience is best at this system and I have been playing HQ games for the last 15 yrs. So, just go for it. Encourage HP and dealer for providing such a nice dea...\",\n",
       " \"The Hard Drive is very slow!!! It's terribly bad for a gaming laptop. I won't suggest buying this product. It just lags a lot!\",\n",
       " \"Fan would make lots of noise, just after 20 odd days of delivery. And there's no support from the HP as well as flipkart team. You won't be able to work on laptop because of noise, I'm trying to register a complaint about this but they're not taking care of it. Please don't buy it.\",\n",
       " \"Worth money .... nothing much to say ,it's a good product on a whole sole performance\",\n",
       " \"After using 1 month I am writing this review. Look wise it's fine 4.5+. And performance is bit OK not that much. It's 4 out of 5. I thought Ryzen could be faster then intel but my previous i3 n i5 lenono, HP and dell they are fine. Not much but little bit compare to this. It will take little longer then normal non gaming laptops which are i3 or i5. But while gaming this was better then those, not much heating not struck while playing games, and display is cool. Battery also fine, not expect ...\",\n",
       " \"Honest review after 2 mont of use - This laptop though shows that it's a budget gaming laptop but for a leser time in the sense , Battery - Battery life is so bad it just gets vanish from 100 to 1 in 80 min gameplay of high fps game (without charger ) so i recomend you to always play with charger.  Fps/GPU - the GPU is pretty powerful but it under perform due to low specs if bought separately it give around 150-200 fps , but in this laptop it is like 60-120 in( valorant ) fps games .  Proce...\",\n",
       " \"I've been using this laptop just over a month now. Overall it is a very good laptop for this price(48,600). It is a bit slow though, due to no ssd. Gaming is pretty good, runs high spec games smoothly. It may go to sleep while playing games. You just have to update your bios to F 10. If you'll install an ssd , and upgrade the ram, it will increase the performance.\",\n",
       " 'This is best laptop at this budget ...but compare to pavillion ryzen 5 vs aspire 7 i think aspire 7 is best and given best perfomance level if the budget is same go for aspire 7 or if you need to buy this laptop You should insert ssd on it...',\n",
       " '100% satisfied Awesome display Awesome battery Nice delivery love Flipkart 👍',\n",
       " 'worst laptop ever. you cant even run small games on this laptop. even restart take about 5 min. you cant even play pubg pc in the very low setting. gg hp, they said it has 8GB of ram but 2.1GB of was already occupied by unknown hardware. I should have returned this waste of plastic if know it cant even run a single game.',\n",
       " 'Awesome product.. as expected fulfills all the needs.. gaming experience is also up to mark..',\n",
       " 'Go for ssd',\n",
       " \"It's amazing laptop .\",\n",
       " 'best price product ❤️🔥',\n",
       " \"The laptop isn't heavy as i thought it to be. Battery life on battery saver exceeds 7 hours without any issue. Touchpad works great. Was sceptical about going for ryzen 5 series, but the gaming and overall performance is just great. Display is good, not great but the design takes away the show. The backlit keyboard is nice, no rgb mode and i personally would prefer white light than this voilet kinda backlit keyboard, gives a bit of a eye strain. I would suggest cloning the OS in a ssd (it sup...\",\n",
       " 'Good Laptop but we need to add ssd which makes it costly as compared to another laptop such as ASUS Tuf gaming which come in 60k',\n",
       " 'First very late delivery and it get very hanged',\n",
       " 'Good product. It works very well.',\n",
       " 'Best gaming leptop🔥',\n",
       " 'Buttons shift',\n",
       " 'VALUE FOR MONEY.',\n",
       " 'Over all performance is very good Simply loved it😊 But.....   Flipkart delivery service ratings from me is --1000 because it took almost 1 month to deliver this product to me inspite of being flipkart plus member  Very bad Service was provided to me   Very very bad Service from Flipkart',\n",
       " 'Amazing Ryzen 5 is awesome Simply go for it',\n",
       " \"This laptop is very slow , it takes 1/2 mins to open any program and load any software, it is the slowest of all other.. I'm fed up of this. I just bought this 2 weeks ago.. 😠😠 waste of money !! This is very slow, unable to work, it doesn't open any software or programs.\",\n",
       " 'Excellent product',\n",
       " 'Loved it',\n",
       " 'Good',\n",
       " 'Very satisfied. Speakers are good, Backlit keyboard can be turned on, off or dimmed based on user requirenment. Best laptop in this price segment. If you are confused between this and MSI GF63, buy this one! In msi you will encounter heating issues and excessive fan noise but not in this one. One important thing DO NOT OPEN IT YOURSELF IT WILL VOID YOUR WARRANTY. Lastly just go for it!',\n",
       " 'battery backup - good display- good design- great performance- ordinary',\n",
       " 'Design and screen Excellent but booting is slow because of HDD.',\n",
       " 'The Laptop is pretty good...',\n",
       " 'Loved it!!! Very well designed.but somewhere slow little bit because of not having SSD but you upgrade it. Battery is also good . I using it and loving it.must buy . Try Ryzen...... it is also good. And I have not played any game yet😅 ,I think it will perform very well..!',\n",
       " 'Good laptop and gives performance as expected.',\n",
       " 'excellent product..just awesone to use !!!!!',\n",
       " '*MADE IN CHINA*  They did not mentioned that the laptop is made in china otherwise I will buy another one The performance, design and all the functions are working really good',\n",
       " 'Very impressed by the product. But if anyone is thinking to buy this, then I request him to buy the SSD one not the HDD one.',\n",
       " \"It's an okayish laptop. But u won't find any other laptops offering the specs which this lap is offering in the price range. It takes approx 30-90- sec to start and all the apps open very slow. Moreover, only 5.88 GB ram can be used out of the 8GB as 2GB ram is reserved for igpu this makes the games to lag a bit and they cant be run in max settings. I am personally a bit disappointed but I can't blame HP as they have tried to give a gaming lap in the extreme budget range. But the best remedy ...\",\n",
       " 'Battery drains slightly faster. I have been using it for a week now. Build quality is sturdy.',\n",
       " 'Good one..',\n",
       " 'SUCH AMAIZING PRODUCT',\n",
       " ...]"
      ]
     },
     "execution_count": 84,
     "metadata": {},
     "output_type": "execute_result"
    }
   ],
   "source": [
    "Full_review"
   ]
  },
  {
   "cell_type": "code",
   "execution_count": 85,
   "metadata": {},
   "outputs": [
    {
     "data": {
      "text/plain": [
       "1060"
      ]
     },
     "execution_count": 85,
     "metadata": {},
     "output_type": "execute_result"
    }
   ],
   "source": [
    "len(Ratings)"
   ]
  },
  {
   "cell_type": "code",
   "execution_count": 86,
   "metadata": {},
   "outputs": [
    {
     "data": {
      "text/plain": [
       "1060"
      ]
     },
     "execution_count": 86,
     "metadata": {},
     "output_type": "execute_result"
    }
   ],
   "source": [
    "len(Full_review)"
   ]
  },
  {
   "cell_type": "code",
   "execution_count": 87,
   "metadata": {},
   "outputs": [],
   "source": [
    "url='https://www.flipkart.com/apple-macbook-air-core-i5-5th-gen-8-gb-128-gb-ssd-mac-os-sierra-mqd32hn-a/product-reviews/itm0602f520428ca?pid=COMEVCPQBXBDFJ8C&lid=LSTCOMEVCPQBXBDFJ8C4V6AHG&marketplace=FLIPKART'"
   ]
  },
  {
   "cell_type": "code",
   "execution_count": 88,
   "metadata": {},
   "outputs": [],
   "source": [
    "#opening the webpage through our driver\n",
    "driver.get(url)"
   ]
  },
  {
   "cell_type": "code",
   "execution_count": 89,
   "metadata": {},
   "outputs": [],
   "source": [
    "for i in range(0,328): \n",
    "    for j in driver.find_elements_by_xpath(\"//div[@class='_3LWZlK _1BLPMq' or @class='_3LWZlK _32lA32 _1BLPMq' or @class='_3LWZlK _1rdVr6 _1BLPMq']\"):\n",
    "        Ratings.append(j.text)\n",
    "            \n",
    "            \n",
    "    for k in driver.find_elements_by_xpath(\"//div[@class='t-ZTKy']/div/div\"):\n",
    "        Full_review.append(k.text.replace('\\n',' '))\n",
    "    \n",
    "    button=driver.find_element_by_xpath(\"//*[contains(text(), 'Next')]\")\n",
    "    driver.execute_script(\"arguments[0].click();\", button)\n",
    "    \n",
    "    time.sleep(2)"
   ]
  },
  {
   "cell_type": "code",
   "execution_count": 90,
   "metadata": {},
   "outputs": [
    {
     "data": {
      "text/plain": [
       "4336"
      ]
     },
     "execution_count": 90,
     "metadata": {},
     "output_type": "execute_result"
    }
   ],
   "source": [
    "len(Ratings)"
   ]
  },
  {
   "cell_type": "code",
   "execution_count": 91,
   "metadata": {},
   "outputs": [
    {
     "data": {
      "text/plain": [
       "4336"
      ]
     },
     "execution_count": 91,
     "metadata": {},
     "output_type": "execute_result"
    }
   ],
   "source": [
    "len(Full_review)"
   ]
  },
  {
   "cell_type": "code",
   "execution_count": 92,
   "metadata": {},
   "outputs": [],
   "source": [
    "url='https://www.flipkart.com/asus-celeron-dual-core-4-gb-1-tb-hdd-windows-10-home-x543ma-gq1015t-laptop/product-reviews/itmf8811674edbeb?pid=COMFSKF9UQH8RKYF&lid=LSTCOMFSKF9UQH8RKYFK8UKIL&marketplace=FLIPKART'"
   ]
  },
  {
   "cell_type": "code",
   "execution_count": 99,
   "metadata": {},
   "outputs": [],
   "source": [
    "#opening the webpage through our driver\n",
    "driver.get(url)"
   ]
  },
  {
   "cell_type": "code",
   "execution_count": 100,
   "metadata": {},
   "outputs": [],
   "source": [
    "for i in range(0,97): \n",
    "    for j in driver.find_elements_by_xpath(\"//div[@class='_3LWZlK _1BLPMq' or @class='_3LWZlK _32lA32 _1BLPMq' or @class='_3LWZlK _1rdVr6 _1BLPMq']\"):\n",
    "        Ratings.append(j.text)\n",
    "            \n",
    "            \n",
    "    for k in driver.find_elements_by_xpath(\"//div[@class='t-ZTKy']/div/div\"):\n",
    "        Full_review.append(k.text.replace('\\n',' '))\n",
    "    \n",
    "    try:\n",
    "        button=driver.find_element_by_xpath(\"//*[contains(text(), 'Next')]\")\n",
    "        driver.execute_script(\"arguments[0].click();\", button)\n",
    "    except NoSuchElementException:\n",
    "        pass\n",
    "    time.sleep(2)"
   ]
  },
  {
   "cell_type": "code",
   "execution_count": 101,
   "metadata": {},
   "outputs": [
    {
     "data": {
      "text/plain": [
       "5306"
      ]
     },
     "execution_count": 101,
     "metadata": {},
     "output_type": "execute_result"
    }
   ],
   "source": [
    "len(Ratings)"
   ]
  },
  {
   "cell_type": "code",
   "execution_count": 102,
   "metadata": {},
   "outputs": [
    {
     "data": {
      "text/plain": [
       "5306"
      ]
     },
     "execution_count": 102,
     "metadata": {},
     "output_type": "execute_result"
    }
   ],
   "source": [
    "len(Full_review)"
   ]
  },
  {
   "cell_type": "code",
   "execution_count": 103,
   "metadata": {},
   "outputs": [],
   "source": [
    "url='https://www.flipkart.com/lenovo-ideapad-s145-ryzen-3-dual-core-3200u-4-gb-1-tb-hdd-windows-10-home-s145-15api-thin-light-laptop/product-reviews/itm3028b196c8fe1?pid=COMFJM3T7ZF2Z86F&lid=LSTCOMFJM3T7ZF2Z86FUWBWK9&marketplace=FLIPKART'"
   ]
  },
  {
   "cell_type": "code",
   "execution_count": 104,
   "metadata": {},
   "outputs": [],
   "source": [
    "#opening the webpage through our driver\n",
    "driver.get(url)"
   ]
  },
  {
   "cell_type": "code",
   "execution_count": 105,
   "metadata": {},
   "outputs": [],
   "source": [
    "for i in range(0,73): \n",
    "    for j in driver.find_elements_by_xpath(\"//div[@class='_3LWZlK _1BLPMq' or @class='_3LWZlK _32lA32 _1BLPMq' or @class='_3LWZlK _1rdVr6 _1BLPMq']\"):\n",
    "        Ratings.append(j.text)\n",
    "            \n",
    "            \n",
    "    for k in driver.find_elements_by_xpath(\"//div[@class='t-ZTKy']/div/div\"):\n",
    "        Full_review.append(k.text.replace('\\n',' '))\n",
    "    \n",
    "    try:\n",
    "        button=driver.find_element_by_xpath(\"//*[contains(text(), 'Next')]\")\n",
    "        driver.execute_script(\"arguments[0].click();\", button)\n",
    "    except NoSuchElementException:\n",
    "        pass\n",
    "    time.sleep(2)"
   ]
  },
  {
   "cell_type": "code",
   "execution_count": 106,
   "metadata": {},
   "outputs": [
    {
     "data": {
      "text/plain": [
       "6036"
      ]
     },
     "execution_count": 106,
     "metadata": {},
     "output_type": "execute_result"
    }
   ],
   "source": [
    "len(Ratings)"
   ]
  },
  {
   "cell_type": "code",
   "execution_count": 107,
   "metadata": {},
   "outputs": [
    {
     "data": {
      "text/plain": [
       "6036"
      ]
     },
     "execution_count": 107,
     "metadata": {},
     "output_type": "execute_result"
    }
   ],
   "source": [
    "len(Full_review)"
   ]
  },
  {
   "cell_type": "markdown",
   "metadata": {},
   "source": [
    "### scraping ratings and reviews of mobile phones"
   ]
  },
  {
   "cell_type": "code",
   "execution_count": 110,
   "metadata": {},
   "outputs": [],
   "source": [
    "url='https://www.flipkart.com/redmi-9-power-electric-green-64-gb/product-reviews/itmca7d78e222ed7?pid=MOBFYZ7AVAXXB2TH&lid=LSTMOBFYZ7AVAXXB2THVSNL0U&marketplace=FLIPKART'"
   ]
  },
  {
   "cell_type": "code",
   "execution_count": 111,
   "metadata": {},
   "outputs": [],
   "source": [
    "driver.get(url)"
   ]
  },
  {
   "cell_type": "code",
   "execution_count": 112,
   "metadata": {},
   "outputs": [],
   "source": [
    "for i in range(0,367): \n",
    "    for j in driver.find_elements_by_xpath(\"//div[@class='_3LWZlK _1BLPMq' or @class='_3LWZlK _32lA32 _1BLPMq' or @class='_3LWZlK _1rdVr6 _1BLPMq']\"):\n",
    "        Ratings.append(j.text)\n",
    "            \n",
    "            \n",
    "    for k in driver.find_elements_by_xpath(\"//div[@class='t-ZTKy']/div/div\"):\n",
    "        Full_review.append(k.text.replace('\\n',' '))\n",
    "    \n",
    "    try:\n",
    "        button=driver.find_element_by_xpath(\"//*[contains(text(), 'Next')]\")\n",
    "        driver.execute_script(\"arguments[0].click();\", button)\n",
    "    except NoSuchElementException:\n",
    "        pass\n",
    "    time.sleep(2)"
   ]
  },
  {
   "cell_type": "code",
   "execution_count": 113,
   "metadata": {},
   "outputs": [
    {
     "data": {
      "text/plain": [
       "9693"
      ]
     },
     "execution_count": 113,
     "metadata": {},
     "output_type": "execute_result"
    }
   ],
   "source": [
    "len(Ratings)"
   ]
  },
  {
   "cell_type": "code",
   "execution_count": 114,
   "metadata": {},
   "outputs": [
    {
     "data": {
      "text/plain": [
       "9693"
      ]
     },
     "execution_count": 114,
     "metadata": {},
     "output_type": "execute_result"
    }
   ],
   "source": [
    "len(Full_review)"
   ]
  },
  {
   "cell_type": "code",
   "execution_count": 115,
   "metadata": {},
   "outputs": [],
   "source": [
    "url='https://www.flipkart.com/motorola-g30-dark-pearl-64-gb/product-reviews/itme5ae7fa01f345?pid=MOBFVXGZWDHJHQGZ&lid=LSTMOBFVXGZWDHJHQGZBI5YJU&marketplace=FLIPKART'"
   ]
  },
  {
   "cell_type": "code",
   "execution_count": 116,
   "metadata": {},
   "outputs": [],
   "source": [
    "driver.get(url)"
   ]
  },
  {
   "cell_type": "code",
   "execution_count": 117,
   "metadata": {},
   "outputs": [],
   "source": [
    "for i in range(0,157): \n",
    "    for j in driver.find_elements_by_xpath(\"//div[@class='_3LWZlK _1BLPMq' or @class='_3LWZlK _32lA32 _1BLPMq' or @class='_3LWZlK _1rdVr6 _1BLPMq']\"):\n",
    "        Ratings.append(j.text)\n",
    "            \n",
    "            \n",
    "    for k in driver.find_elements_by_xpath(\"//div[@class='t-ZTKy']/div/div\"):\n",
    "        Full_review.append(k.text.replace('\\n',' '))\n",
    "    \n",
    "    try:\n",
    "        button=driver.find_element_by_xpath(\"//*[contains(text(), 'Next')]\")\n",
    "        driver.execute_script(\"arguments[0].click();\", button)\n",
    "    except NoSuchElementException:\n",
    "        pass\n",
    "    time.sleep(2)"
   ]
  },
  {
   "cell_type": "code",
   "execution_count": 118,
   "metadata": {},
   "outputs": [
    {
     "data": {
      "text/plain": [
       "11263"
      ]
     },
     "execution_count": 118,
     "metadata": {},
     "output_type": "execute_result"
    }
   ],
   "source": [
    "len(Ratings)"
   ]
  },
  {
   "cell_type": "code",
   "execution_count": 119,
   "metadata": {},
   "outputs": [
    {
     "data": {
      "text/plain": [
       "11263"
      ]
     },
     "execution_count": 119,
     "metadata": {},
     "output_type": "execute_result"
    }
   ],
   "source": [
    "len(Full_review)"
   ]
  },
  {
   "cell_type": "code",
   "execution_count": 120,
   "metadata": {},
   "outputs": [],
   "source": [
    "url='https://www.flipkart.com/motorola-e7-plus-misty-blue-64-gb/product-reviews/itm9a59be77f1cd2?pid=MOBFTYWW8QWUYDZU&lid=LSTMOBFTYWW8QWUYDZUM6DQNI&marketplace=FLIPKART'"
   ]
  },
  {
   "cell_type": "code",
   "execution_count": 121,
   "metadata": {},
   "outputs": [],
   "source": [
    "driver.get(url)"
   ]
  },
  {
   "cell_type": "code",
   "execution_count": 122,
   "metadata": {},
   "outputs": [],
   "source": [
    "for i in range(0,373): \n",
    "    for j in driver.find_elements_by_xpath(\"//div[@class='_3LWZlK _1BLPMq' or @class='_3LWZlK _32lA32 _1BLPMq' or @class='_3LWZlK _1rdVr6 _1BLPMq']\"):\n",
    "        Ratings.append(j.text)\n",
    "            \n",
    "            \n",
    "    for k in driver.find_elements_by_xpath(\"//div[@class='t-ZTKy']/div/div\"):\n",
    "        Full_review.append(k.text.replace('\\n',' '))\n",
    "    \n",
    "    try:\n",
    "        button=driver.find_element_by_xpath(\"//*[contains(text(), 'Next')]\")\n",
    "        driver.execute_script(\"arguments[0].click();\", button)\n",
    "    except NoSuchElementException:\n",
    "        pass\n",
    "    time.sleep(2)"
   ]
  },
  {
   "cell_type": "code",
   "execution_count": 123,
   "metadata": {},
   "outputs": [
    {
     "data": {
      "text/plain": [
       "14993"
      ]
     },
     "execution_count": 123,
     "metadata": {},
     "output_type": "execute_result"
    }
   ],
   "source": [
    "len(Ratings)"
   ]
  },
  {
   "cell_type": "code",
   "execution_count": 124,
   "metadata": {},
   "outputs": [
    {
     "data": {
      "text/plain": [
       "14993"
      ]
     },
     "execution_count": 124,
     "metadata": {},
     "output_type": "execute_result"
    }
   ],
   "source": [
    "len(Full_review)"
   ]
  },
  {
   "cell_type": "markdown",
   "metadata": {},
   "source": [
    "### scraping ratings and reviews of headphones"
   ]
  },
  {
   "cell_type": "code",
   "execution_count": 125,
   "metadata": {},
   "outputs": [],
   "source": [
    "url='https://www.flipkart.com/mivi-collar-classic-fast-charging-bluetooth-headset/product-reviews/itmd6a3a8e12473f?pid=ACCGFGJTGWRHZUAF&lid=LSTACCGFGJTGWRHZUAF3XZAXJ&marketplace=FLIPKART'"
   ]
  },
  {
   "cell_type": "code",
   "execution_count": 126,
   "metadata": {},
   "outputs": [],
   "source": [
    "driver.get(url)"
   ]
  },
  {
   "cell_type": "code",
   "execution_count": 127,
   "metadata": {},
   "outputs": [],
   "source": [
    "for i in range(0,216): \n",
    "    for j in driver.find_elements_by_xpath(\"//div[@class='_3LWZlK _1BLPMq' or @class='_3LWZlK _32lA32 _1BLPMq' or @class='_3LWZlK _1rdVr6 _1BLPMq']\"):\n",
    "        Ratings.append(j.text)\n",
    "            \n",
    "            \n",
    "    for k in driver.find_elements_by_xpath(\"//div[@class='t-ZTKy']/div/div\"):\n",
    "        Full_review.append(k.text.replace('\\n',' '))\n",
    "    \n",
    "    try:\n",
    "        button=driver.find_element_by_xpath(\"//*[contains(text(), 'Next')]\")\n",
    "        driver.execute_script(\"arguments[0].click();\", button)\n",
    "    except NoSuchElementException:\n",
    "        pass\n",
    "    time.sleep(2)"
   ]
  },
  {
   "cell_type": "code",
   "execution_count": 128,
   "metadata": {},
   "outputs": [
    {
     "data": {
      "text/plain": [
       "17149"
      ]
     },
     "execution_count": 128,
     "metadata": {},
     "output_type": "execute_result"
    }
   ],
   "source": [
    "len(Ratings)"
   ]
  },
  {
   "cell_type": "code",
   "execution_count": 129,
   "metadata": {},
   "outputs": [
    {
     "data": {
      "text/plain": [
       "17149"
      ]
     },
     "execution_count": 129,
     "metadata": {},
     "output_type": "execute_result"
    }
   ],
   "source": [
    "len(Full_review)"
   ]
  },
  {
   "cell_type": "code",
   "execution_count": 130,
   "metadata": {},
   "outputs": [],
   "source": [
    "url='https://www.flipkart.com/ubon-ub-770-wired-headset/product-reviews/itmc75e7cc4986df?pid=ACCFHCAPHTPCCXZR&lid=LSTACCFHCAPHTPCCXZRKLYRFC&marketplace=FLIPKART'"
   ]
  },
  {
   "cell_type": "code",
   "execution_count": 131,
   "metadata": {},
   "outputs": [],
   "source": [
    "driver.get(url)"
   ]
  },
  {
   "cell_type": "code",
   "execution_count": 132,
   "metadata": {},
   "outputs": [],
   "source": [
    "for i in range(0,234): \n",
    "    for j in driver.find_elements_by_xpath(\"//div[@class='_3LWZlK _1BLPMq' or @class='_3LWZlK _32lA32 _1BLPMq' or @class='_3LWZlK _1rdVr6 _1BLPMq']\"):\n",
    "        Ratings.append(j.text)\n",
    "            \n",
    "            \n",
    "    for k in driver.find_elements_by_xpath(\"//div[@class='t-ZTKy']/div/div\"):\n",
    "        Full_review.append(k.text.replace('\\n',' '))\n",
    "    \n",
    "    try:\n",
    "        button=driver.find_element_by_xpath(\"//*[contains(text(), 'Next')]\")\n",
    "        driver.execute_script(\"arguments[0].click();\", button)\n",
    "    except NoSuchElementException:\n",
    "        pass\n",
    "    time.sleep(2)"
   ]
  },
  {
   "cell_type": "code",
   "execution_count": 133,
   "metadata": {},
   "outputs": [
    {
     "data": {
      "text/plain": [
       "19487"
      ]
     },
     "execution_count": 133,
     "metadata": {},
     "output_type": "execute_result"
    }
   ],
   "source": [
    "len(Ratings)"
   ]
  },
  {
   "cell_type": "code",
   "execution_count": 134,
   "metadata": {},
   "outputs": [
    {
     "data": {
      "text/plain": [
       "19487"
      ]
     },
     "execution_count": 134,
     "metadata": {},
     "output_type": "execute_result"
    }
   ],
   "source": [
    "len(Full_review)"
   ]
  },
  {
   "cell_type": "markdown",
   "metadata": {},
   "source": [
    "### scraping ratings and reviews of smart watches"
   ]
  },
  {
   "cell_type": "code",
   "execution_count": 135,
   "metadata": {},
   "outputs": [],
   "source": [
    "url='https://www.flipkart.com/alonzo-dz09-new-phone-smartwatch/product-reviews/itm44bd98f3bf1e7?pid=SMWF5BFJHTDYCYYD&lid=LSTSMWF5BFJHTDYCYYDJIL5XV&marketplace=FLIPKART'"
   ]
  },
  {
   "cell_type": "code",
   "execution_count": 140,
   "metadata": {},
   "outputs": [],
   "source": [
    "driver.get(url)"
   ]
  },
  {
   "cell_type": "code",
   "execution_count": 141,
   "metadata": {},
   "outputs": [],
   "source": [
    "for i in range(0,106): \n",
    "    for j in driver.find_elements_by_xpath(\"//div[@class='_3LWZlK _1BLPMq' or @class='_3LWZlK _32lA32 _1BLPMq' or @class='_3LWZlK _1rdVr6 _1BLPMq']\"):\n",
    "        Ratings.append(j.text)\n",
    "            \n",
    "            \n",
    "    for k in driver.find_elements_by_xpath(\"//div[@class='t-ZTKy']/div/div\"):\n",
    "        Full_review.append(k.text.replace('\\n',' '))\n",
    "    \n",
    "    try:\n",
    "        button=driver.find_element_by_xpath(\"//*[contains(text(), 'Next')]\")\n",
    "        driver.execute_script(\"arguments[0].click();\", button)\n",
    "    except NoSuchElementException:\n",
    "        pass\n",
    "    time.sleep(2)"
   ]
  },
  {
   "cell_type": "code",
   "execution_count": 142,
   "metadata": {},
   "outputs": [
    {
     "data": {
      "text/plain": [
       "20547"
      ]
     },
     "execution_count": 142,
     "metadata": {},
     "output_type": "execute_result"
    }
   ],
   "source": [
    "len(Ratings)"
   ]
  },
  {
   "cell_type": "code",
   "execution_count": 143,
   "metadata": {},
   "outputs": [
    {
     "data": {
      "text/plain": [
       "20547"
      ]
     },
     "execution_count": 143,
     "metadata": {},
     "output_type": "execute_result"
    }
   ],
   "source": [
    "len(Full_review)"
   ]
  },
  {
   "cell_type": "code",
   "execution_count": 144,
   "metadata": {},
   "outputs": [],
   "source": [
    "url='https://www.flipkart.com/life-like-v8-bluetooth-sim-tf-card-slot-smartwatch/product-reviews/itm8deac9de357e6?pid=SMWEQJPTGWKCBDUD&lid=LSTSMWEQJPTGWKCBDUDPTTYUT&marketplace=FLIPKART'"
   ]
  },
  {
   "cell_type": "code",
   "execution_count": 145,
   "metadata": {},
   "outputs": [],
   "source": [
    "driver.get(url)"
   ]
  },
  {
   "cell_type": "code",
   "execution_count": 146,
   "metadata": {},
   "outputs": [],
   "source": [
    "for i in range(0,51): \n",
    "    for j in driver.find_elements_by_xpath(\"//div[@class='_3LWZlK _1BLPMq' or @class='_3LWZlK _32lA32 _1BLPMq' or @class='_3LWZlK _1rdVr6 _1BLPMq']\"):\n",
    "        Ratings.append(j.text)\n",
    "            \n",
    "            \n",
    "    for k in driver.find_elements_by_xpath(\"//div[@class='t-ZTKy']/div/div\"):\n",
    "        Full_review.append(k.text.replace('\\n',' '))\n",
    "    \n",
    "    try:\n",
    "        button=driver.find_element_by_xpath(\"//*[contains(text(), 'Next')]\")\n",
    "        driver.execute_script(\"arguments[0].click();\", button)\n",
    "    except NoSuchElementException:\n",
    "        pass\n",
    "    time.sleep(2)"
   ]
  },
  {
   "cell_type": "code",
   "execution_count": 147,
   "metadata": {},
   "outputs": [
    {
     "data": {
      "text/plain": [
       "21057"
      ]
     },
     "execution_count": 147,
     "metadata": {},
     "output_type": "execute_result"
    }
   ],
   "source": [
    "len(Ratings)"
   ]
  },
  {
   "cell_type": "code",
   "execution_count": 148,
   "metadata": {},
   "outputs": [
    {
     "data": {
      "text/plain": [
       "21057"
      ]
     },
     "execution_count": 148,
     "metadata": {},
     "output_type": "execute_result"
    }
   ],
   "source": [
    "len(Full_review)"
   ]
  },
  {
   "cell_type": "code",
   "execution_count": 149,
   "metadata": {},
   "outputs": [],
   "source": [
    "url='https://www.flipkart.com/fitbit-versa-special-smartwatch/product-reviews/itme0fd47f890e7f?pid=SMWFDYBW3829GKEY&lid=LSTSMWFDYBW3829GKEY8DNWTD&marketplace=FLIPKART'"
   ]
  },
  {
   "cell_type": "code",
   "execution_count": 150,
   "metadata": {},
   "outputs": [],
   "source": [
    "driver.get(url)"
   ]
  },
  {
   "cell_type": "code",
   "execution_count": 151,
   "metadata": {},
   "outputs": [],
   "source": [
    "for i in range(0,39): \n",
    "    for j in driver.find_elements_by_xpath(\"//div[@class='_3LWZlK _1BLPMq' or @class='_3LWZlK _32lA32 _1BLPMq' or @class='_3LWZlK _1rdVr6 _1BLPMq']\"):\n",
    "        Ratings.append(j.text)\n",
    "            \n",
    "            \n",
    "    for k in driver.find_elements_by_xpath(\"//div[@class='t-ZTKy']/div/div\"):\n",
    "        Full_review.append(k.text.replace('\\n',' '))\n",
    "    \n",
    "    try:\n",
    "        button=driver.find_element_by_xpath(\"//*[contains(text(), 'Next')]\")\n",
    "        driver.execute_script(\"arguments[0].click();\", button)\n",
    "    except NoSuchElementException:\n",
    "        pass\n",
    "    time.sleep(2)"
   ]
  },
  {
   "cell_type": "code",
   "execution_count": 152,
   "metadata": {},
   "outputs": [
    {
     "data": {
      "text/plain": [
       "21447"
      ]
     },
     "execution_count": 152,
     "metadata": {},
     "output_type": "execute_result"
    }
   ],
   "source": [
    "len(Ratings)"
   ]
  },
  {
   "cell_type": "code",
   "execution_count": 153,
   "metadata": {},
   "outputs": [
    {
     "data": {
      "text/plain": [
       "21447"
      ]
     },
     "execution_count": 153,
     "metadata": {},
     "output_type": "execute_result"
    }
   ],
   "source": [
    "len(Full_review)"
   ]
  },
  {
   "cell_type": "markdown",
   "metadata": {},
   "source": [
    "### scraping ratings and reviews of professional cameras"
   ]
  },
  {
   "cell_type": "code",
   "execution_count": 154,
   "metadata": {},
   "outputs": [],
   "source": [
    "url='https://www.flipkart.com/canon-eos-3000d-dslr-camera-1-body-18-55-mm-lens-battery-battery-charger-usb-cable/product-reviews/itmed1b57035d2fc?pid=CAMF3DHJURPEMNRN&lid=LSTCAMF3DHJURPEMNRNYD4BKP&marketplace=FLIPKART'"
   ]
  },
  {
   "cell_type": "code",
   "execution_count": 155,
   "metadata": {},
   "outputs": [],
   "source": [
    "driver.get(url)"
   ]
  },
  {
   "cell_type": "code",
   "execution_count": 156,
   "metadata": {},
   "outputs": [],
   "source": [
    "for i in range(0,330): \n",
    "    for j in driver.find_elements_by_xpath(\"//div[@class='_3LWZlK _1BLPMq' or @class='_3LWZlK _32lA32 _1BLPMq' or @class='_3LWZlK _1rdVr6 _1BLPMq']\"):\n",
    "        Ratings.append(j.text)\n",
    "            \n",
    "            \n",
    "    for k in driver.find_elements_by_xpath(\"//div[@class='t-ZTKy']/div/div\"):\n",
    "        Full_review.append(k.text.replace('\\n',' '))\n",
    "    \n",
    "    try:\n",
    "        button=driver.find_element_by_xpath(\"//*[contains(text(), 'Next')]\")\n",
    "        driver.execute_script(\"arguments[0].click();\", button)\n",
    "    except NoSuchElementException:\n",
    "        pass\n",
    "    time.sleep(2)"
   ]
  },
  {
   "cell_type": "code",
   "execution_count": 157,
   "metadata": {},
   "outputs": [
    {
     "data": {
      "text/plain": [
       "24746"
      ]
     },
     "execution_count": 157,
     "metadata": {},
     "output_type": "execute_result"
    }
   ],
   "source": [
    "len(Ratings)"
   ]
  },
  {
   "cell_type": "code",
   "execution_count": 158,
   "metadata": {},
   "outputs": [
    {
     "data": {
      "text/plain": [
       "24746"
      ]
     },
     "execution_count": 158,
     "metadata": {},
     "output_type": "execute_result"
    }
   ],
   "source": [
    "len(Full_review)"
   ]
  },
  {
   "cell_type": "code",
   "execution_count": 159,
   "metadata": {},
   "outputs": [],
   "source": [
    "url='https://www.flipkart.com/nikon-d5600-dslr-camera-body-dual-lens-af-p-dx-nikkor-18-55-mm-f-3-5-5-6g-vr-70-300-f-4-5-6-3g-ed/product-reviews/itm8bd75efa91403?pid=DLLEZVB8MDXDYTHG&lid=LSTDLLEZVB8MDXDYTHGP8CUFI&marketplace=FLIPKART'"
   ]
  },
  {
   "cell_type": "code",
   "execution_count": 160,
   "metadata": {},
   "outputs": [],
   "source": [
    "driver.get(url)"
   ]
  },
  {
   "cell_type": "code",
   "execution_count": 161,
   "metadata": {},
   "outputs": [],
   "source": [
    "for i in range(0,169): \n",
    "    for j in driver.find_elements_by_xpath(\"//div[@class='_3LWZlK _1BLPMq' or @class='_3LWZlK _32lA32 _1BLPMq' or @class='_3LWZlK _1rdVr6 _1BLPMq']\"):\n",
    "        Ratings.append(j.text)\n",
    "            \n",
    "            \n",
    "    for k in driver.find_elements_by_xpath(\"//div[@class='t-ZTKy']/div/div\"):\n",
    "        Full_review.append(k.text.replace('\\n',' '))\n",
    "    \n",
    "    try:\n",
    "        button=driver.find_element_by_xpath(\"//*[contains(text(), 'Next')]\")\n",
    "        driver.execute_script(\"arguments[0].click();\", button)\n",
    "    except NoSuchElementException:\n",
    "        pass\n",
    "    time.sleep(2)"
   ]
  },
  {
   "cell_type": "code",
   "execution_count": 162,
   "metadata": {},
   "outputs": [
    {
     "data": {
      "text/plain": [
       "26436"
      ]
     },
     "execution_count": 162,
     "metadata": {},
     "output_type": "execute_result"
    }
   ],
   "source": [
    "len(Ratings)"
   ]
  },
  {
   "cell_type": "code",
   "execution_count": 163,
   "metadata": {},
   "outputs": [
    {
     "data": {
      "text/plain": [
       "26436"
      ]
     },
     "execution_count": 163,
     "metadata": {},
     "output_type": "execute_result"
    }
   ],
   "source": [
    "len(Full_review)"
   ]
  },
  {
   "cell_type": "markdown",
   "metadata": {},
   "source": [
    "### scraping ratings and reviews of printers"
   ]
  },
  {
   "cell_type": "code",
   "execution_count": 164,
   "metadata": {},
   "outputs": [],
   "source": [
    "url='https://www.flipkart.com/canon-pixma-mg2470-all-in-one-inkjet-printer/product-reviews/itmdqatqsyzyzffn?pid=PRNDQAR9KZEKSKRF&lid=LSTPRNDQAR9KZEKSKRFEMB7B0&marketplace=FLIPKART'"
   ]
  },
  {
   "cell_type": "code",
   "execution_count": 165,
   "metadata": {},
   "outputs": [],
   "source": [
    "driver.get(url)"
   ]
  },
  {
   "cell_type": "code",
   "execution_count": 166,
   "metadata": {},
   "outputs": [],
   "source": [
    "for i in range(0,610): \n",
    "    for j in driver.find_elements_by_xpath(\"//div[@class='_3LWZlK _1BLPMq' or @class='_3LWZlK _32lA32 _1BLPMq' or @class='_3LWZlK _1rdVr6 _1BLPMq']\"):\n",
    "        Ratings.append(j.text)\n",
    "            \n",
    "            \n",
    "    for k in driver.find_elements_by_xpath(\"//div[@class='t-ZTKy']/div/div\"):\n",
    "        Full_review.append(k.text.replace('\\n',' '))\n",
    "    \n",
    "    try:\n",
    "        button=driver.find_element_by_xpath(\"//*[contains(text(), 'Next')]\")\n",
    "        driver.execute_script(\"arguments[0].click();\", button)\n",
    "    except NoSuchElementException:\n",
    "        pass\n",
    "    time.sleep(2)"
   ]
  },
  {
   "cell_type": "code",
   "execution_count": 167,
   "metadata": {},
   "outputs": [
    {
     "data": {
      "text/plain": [
       "32533"
      ]
     },
     "execution_count": 167,
     "metadata": {},
     "output_type": "execute_result"
    }
   ],
   "source": [
    "len(Ratings)"
   ]
  },
  {
   "cell_type": "code",
   "execution_count": 168,
   "metadata": {},
   "outputs": [
    {
     "data": {
      "text/plain": [
       "32533"
      ]
     },
     "execution_count": 168,
     "metadata": {},
     "output_type": "execute_result"
    }
   ],
   "source": [
    "len(Full_review)"
   ]
  },
  {
   "cell_type": "code",
   "execution_count": 169,
   "metadata": {},
   "outputs": [],
   "source": [
    "url='https://www.flipkart.com/hp-deskjet-2331-multi-function-color-printer/product-reviews/itm5708dbe303a73?pid=PRNFTXAWZ9DZ2KHR&lid=LSTPRNFTXAWZ9DZ2KHRP7ZAXV&marketplace=FLIPKART'"
   ]
  },
  {
   "cell_type": "code",
   "execution_count": 170,
   "metadata": {},
   "outputs": [],
   "source": [
    "driver.get(url)"
   ]
  },
  {
   "cell_type": "code",
   "execution_count": 171,
   "metadata": {},
   "outputs": [],
   "source": [
    "for i in range(0,52): \n",
    "    for j in driver.find_elements_by_xpath(\"//div[@class='_3LWZlK _1BLPMq' or @class='_3LWZlK _32lA32 _1BLPMq' or @class='_3LWZlK _1rdVr6 _1BLPMq']\"):\n",
    "        Ratings.append(j.text)\n",
    "            \n",
    "            \n",
    "    for k in driver.find_elements_by_xpath(\"//div[@class='t-ZTKy']/div/div\"):\n",
    "        Full_review.append(k.text.replace('\\n',' '))\n",
    "    \n",
    "    try:\n",
    "        button=driver.find_element_by_xpath(\"//*[contains(text(), 'Next')]\")\n",
    "        driver.execute_script(\"arguments[0].click();\", button)\n",
    "    except NoSuchElementException:\n",
    "        pass\n",
    "    time.sleep(2)"
   ]
  },
  {
   "cell_type": "code",
   "execution_count": 172,
   "metadata": {},
   "outputs": [
    {
     "data": {
      "text/plain": [
       "33053"
      ]
     },
     "execution_count": 172,
     "metadata": {},
     "output_type": "execute_result"
    }
   ],
   "source": [
    "len(Ratings)"
   ]
  },
  {
   "cell_type": "code",
   "execution_count": 173,
   "metadata": {},
   "outputs": [
    {
     "data": {
      "text/plain": [
       "33053"
      ]
     },
     "execution_count": 173,
     "metadata": {},
     "output_type": "execute_result"
    }
   ],
   "source": [
    "len(Full_review)"
   ]
  },
  {
   "cell_type": "markdown",
   "metadata": {},
   "source": [
    "### scraping ratings and reviews of monitors"
   ]
  },
  {
   "cell_type": "code",
   "execution_count": 174,
   "metadata": {},
   "outputs": [],
   "source": [
    "url='https://www.flipkart.com/dell-18-5-inch-hd-led-backlit-tn-panel-monitor-d1918h/product-reviews/itmewm8z6awyx9rr?pid=MONEWM8ZKY38PWVP&lid=LSTMONEWM8ZKY38PWVPIKWEMH&marketplace=FLIPKART'"
   ]
  },
  {
   "cell_type": "code",
   "execution_count": 175,
   "metadata": {},
   "outputs": [],
   "source": [
    "driver.get(url)"
   ]
  },
  {
   "cell_type": "code",
   "execution_count": 176,
   "metadata": {},
   "outputs": [],
   "source": [
    "for i in range(0,58): \n",
    "    for j in driver.find_elements_by_xpath(\"//div[@class='_3LWZlK _1BLPMq' or @class='_3LWZlK _32lA32 _1BLPMq' or @class='_3LWZlK _1rdVr6 _1BLPMq']\"):\n",
    "        Ratings.append(j.text)\n",
    "            \n",
    "            \n",
    "    for k in driver.find_elements_by_xpath(\"//div[@class='t-ZTKy']/div/div\"):\n",
    "        Full_review.append(k.text.replace('\\n',' '))\n",
    "    \n",
    "    try:\n",
    "        button=driver.find_element_by_xpath(\"//*[contains(text(), 'Next')]\")\n",
    "        driver.execute_script(\"arguments[0].click();\", button)\n",
    "    except NoSuchElementException:\n",
    "        pass\n",
    "    time.sleep(2)"
   ]
  },
  {
   "cell_type": "code",
   "execution_count": 177,
   "metadata": {},
   "outputs": [
    {
     "data": {
      "text/plain": [
       "33633"
      ]
     },
     "execution_count": 177,
     "metadata": {},
     "output_type": "execute_result"
    }
   ],
   "source": [
    "len(Ratings)"
   ]
  },
  {
   "cell_type": "code",
   "execution_count": 178,
   "metadata": {},
   "outputs": [
    {
     "data": {
      "text/plain": [
       "33633"
      ]
     },
     "execution_count": 178,
     "metadata": {},
     "output_type": "execute_result"
    }
   ],
   "source": [
    "len(Full_review)"
   ]
  },
  {
   "cell_type": "code",
   "execution_count": 179,
   "metadata": {},
   "outputs": [],
   "source": [
    "url='https://www.flipkart.com/hp-23-8-inch-full-hd-led-backlit-ips-panel-monitor-24es/product-reviews/itm5613f46e3d8db?pid=MONEQFE5PQNQHHZF&lid=LSTMONEQFE5PQNQHHZFESEDRU&marketplace=FLIPKART'"
   ]
  },
  {
   "cell_type": "code",
   "execution_count": 180,
   "metadata": {},
   "outputs": [],
   "source": [
    "driver.get(url)"
   ]
  },
  {
   "cell_type": "code",
   "execution_count": 181,
   "metadata": {},
   "outputs": [],
   "source": [
    "for i in range(0,39): \n",
    "    for j in driver.find_elements_by_xpath(\"//div[@class='_3LWZlK _1BLPMq' or @class='_3LWZlK _32lA32 _1BLPMq' or @class='_3LWZlK _1rdVr6 _1BLPMq']\"):\n",
    "        Ratings.append(j.text)\n",
    "            \n",
    "            \n",
    "    for k in driver.find_elements_by_xpath(\"//div[@class='t-ZTKy']/div/div\"):\n",
    "        Full_review.append(k.text.replace('\\n',' '))\n",
    "    \n",
    "    try:\n",
    "        button=driver.find_element_by_xpath(\"//*[contains(text(), 'Next')]\")\n",
    "        driver.execute_script(\"arguments[0].click();\", button)\n",
    "    except NoSuchElementException:\n",
    "        pass\n",
    "    time.sleep(2)"
   ]
  },
  {
   "cell_type": "code",
   "execution_count": 182,
   "metadata": {},
   "outputs": [
    {
     "data": {
      "text/plain": [
       "34023"
      ]
     },
     "execution_count": 182,
     "metadata": {},
     "output_type": "execute_result"
    }
   ],
   "source": [
    "len(Ratings)"
   ]
  },
  {
   "cell_type": "code",
   "execution_count": 183,
   "metadata": {},
   "outputs": [
    {
     "data": {
      "text/plain": [
       "34023"
      ]
     },
     "execution_count": 183,
     "metadata": {},
     "output_type": "execute_result"
    }
   ],
   "source": [
    "len(Full_review)"
   ]
  },
  {
   "cell_type": "markdown",
   "metadata": {},
   "source": [
    "### scraping ratings and reviews of home theaters"
   ]
  },
  {
   "cell_type": "code",
   "execution_count": 184,
   "metadata": {},
   "outputs": [],
   "source": [
    "url='https://www.flipkart.com/intex-it-2616-bt-55-w-bluetooth-home-theatre/product-reviews/itm835ba2477ca67?pid=ACCFNMEYJNHSNCWN&lid=LSTACCFNMEYJNHSNCWNXWFCRW&marketplace=FLIPKART'"
   ]
  },
  {
   "cell_type": "code",
   "execution_count": 185,
   "metadata": {},
   "outputs": [],
   "source": [
    "driver.get(url)"
   ]
  },
  {
   "cell_type": "code",
   "execution_count": 186,
   "metadata": {},
   "outputs": [],
   "source": [
    "for i in range(0,216): \n",
    "    for j in driver.find_elements_by_xpath(\"//div[@class='_3LWZlK _1BLPMq' or @class='_3LWZlK _32lA32 _1BLPMq' or @class='_3LWZlK _1rdVr6 _1BLPMq']\"):\n",
    "        Ratings.append(j.text)\n",
    "            \n",
    "            \n",
    "    for k in driver.find_elements_by_xpath(\"//div[@class='t-ZTKy']/div/div\"):\n",
    "        Full_review.append(k.text.replace('\\n',' '))\n",
    "    \n",
    "    try:\n",
    "        button=driver.find_element_by_xpath(\"//*[contains(text(), 'Next')]\")\n",
    "        driver.execute_script(\"arguments[0].click();\", button)\n",
    "    except NoSuchElementException:\n",
    "        pass\n",
    "    time.sleep(2)"
   ]
  },
  {
   "cell_type": "code",
   "execution_count": 187,
   "metadata": {},
   "outputs": [
    {
     "data": {
      "text/plain": [
       "36183"
      ]
     },
     "execution_count": 187,
     "metadata": {},
     "output_type": "execute_result"
    }
   ],
   "source": [
    "len(Ratings)"
   ]
  },
  {
   "cell_type": "code",
   "execution_count": 188,
   "metadata": {},
   "outputs": [
    {
     "data": {
      "text/plain": [
       "36183"
      ]
     },
     "execution_count": 188,
     "metadata": {},
     "output_type": "execute_result"
    }
   ],
   "source": [
    "len(Full_review)"
   ]
  },
  {
   "cell_type": "code",
   "execution_count": 189,
   "metadata": {},
   "outputs": [],
   "source": [
    "url='https://www.flipkart.com/intex-2622-portable-bluetooth-home-theatre/product-reviews/itmd7aeef0b49f57?pid=ACCEPBDW89GY8ZYU&lid=LSTACCEPBDW89GY8ZYUZCVLEQ&marketplace=FLIPKART'"
   ]
  },
  {
   "cell_type": "code",
   "execution_count": 190,
   "metadata": {},
   "outputs": [],
   "source": [
    "driver.get(url)"
   ]
  },
  {
   "cell_type": "code",
   "execution_count": 191,
   "metadata": {},
   "outputs": [],
   "source": [
    "for i in range(0,134): \n",
    "    for j in driver.find_elements_by_xpath(\"//div[@class='_3LWZlK _1BLPMq' or @class='_3LWZlK _32lA32 _1BLPMq' or @class='_3LWZlK _1rdVr6 _1BLPMq']\"):\n",
    "        Ratings.append(j.text)\n",
    "            \n",
    "            \n",
    "    for k in driver.find_elements_by_xpath(\"//div[@class='t-ZTKy']/div/div\"):\n",
    "        Full_review.append(k.text.replace('\\n',' '))\n",
    "    \n",
    "    try:\n",
    "        button=driver.find_element_by_xpath(\"//*[contains(text(), 'Next')]\")\n",
    "        driver.execute_script(\"arguments[0].click();\", button)\n",
    "    except NoSuchElementException:\n",
    "        pass\n",
    "    time.sleep(2)"
   ]
  },
  {
   "cell_type": "code",
   "execution_count": 192,
   "metadata": {},
   "outputs": [
    {
     "data": {
      "text/plain": [
       "37523"
      ]
     },
     "execution_count": 192,
     "metadata": {},
     "output_type": "execute_result"
    }
   ],
   "source": [
    "len(Ratings)"
   ]
  },
  {
   "cell_type": "code",
   "execution_count": 193,
   "metadata": {},
   "outputs": [
    {
     "data": {
      "text/plain": [
       "37523"
      ]
     },
     "execution_count": 193,
     "metadata": {},
     "output_type": "execute_result"
    }
   ],
   "source": [
    "len(Full_review)"
   ]
  },
  {
   "cell_type": "markdown",
   "metadata": {},
   "source": [
    "### scraping ratings and reviews of routers"
   ]
  },
  {
   "cell_type": "code",
   "execution_count": 194,
   "metadata": {},
   "outputs": [],
   "source": [
    "url='https://www.flipkart.com/mi-r4cm-300-mbps-router/product-reviews/itm4ed0ab10f43e5?pid=RTRFZ9XMNKDBSHCY&lid=LSTRTRFZ9XMNKDBSHCY2N0IPP&marketplace=FLIPKART'"
   ]
  },
  {
   "cell_type": "code",
   "execution_count": 195,
   "metadata": {},
   "outputs": [],
   "source": [
    "driver.get(url)"
   ]
  },
  {
   "cell_type": "code",
   "execution_count": 196,
   "metadata": {},
   "outputs": [],
   "source": [
    "for i in range(0,143): \n",
    "    for j in driver.find_elements_by_xpath(\"//div[@class='_3LWZlK _1BLPMq' or @class='_3LWZlK _32lA32 _1BLPMq' or @class='_3LWZlK _1rdVr6 _1BLPMq']\"):\n",
    "        Ratings.append(j.text)\n",
    "            \n",
    "            \n",
    "    for k in driver.find_elements_by_xpath(\"//div[@class='t-ZTKy']/div/div\"):\n",
    "        Full_review.append(k.text.replace('\\n',' '))\n",
    "    \n",
    "    try:\n",
    "        button=driver.find_element_by_xpath(\"//*[contains(text(), 'Next')]\")\n",
    "        driver.execute_script(\"arguments[0].click();\", button)\n",
    "    except NoSuchElementException:\n",
    "        pass\n",
    "    time.sleep(2)"
   ]
  },
  {
   "cell_type": "code",
   "execution_count": 197,
   "metadata": {},
   "outputs": [
    {
     "data": {
      "text/plain": [
       "38953"
      ]
     },
     "execution_count": 197,
     "metadata": {},
     "output_type": "execute_result"
    }
   ],
   "source": [
    "len(Ratings)"
   ]
  },
  {
   "cell_type": "code",
   "execution_count": 198,
   "metadata": {},
   "outputs": [
    {
     "data": {
      "text/plain": [
       "38953"
      ]
     },
     "execution_count": 198,
     "metadata": {},
     "output_type": "execute_result"
    }
   ],
   "source": [
    "len(Full_review)"
   ]
  },
  {
   "cell_type": "code",
   "execution_count": 199,
   "metadata": {},
   "outputs": [],
   "source": [
    "url='https://www.flipkart.com/tenda-n301-300-mbps-router/product-reviews/itmehkf7am7tpawg?pid=RTRDYEYZKF884XRZ&lid=LSTRTRDYEYZKF884XRZA1WPYP&marketplace=FLIPKART'"
   ]
  },
  {
   "cell_type": "code",
   "execution_count": 200,
   "metadata": {},
   "outputs": [],
   "source": [
    "driver.get(url)"
   ]
  },
  {
   "cell_type": "code",
   "execution_count": 201,
   "metadata": {},
   "outputs": [],
   "source": [
    "for i in range(0,162): \n",
    "    for j in driver.find_elements_by_xpath(\"//div[@class='_3LWZlK _1BLPMq' or @class='_3LWZlK _32lA32 _1BLPMq' or @class='_3LWZlK _1rdVr6 _1BLPMq']\"):\n",
    "        Ratings.append(j.text)\n",
    "            \n",
    "            \n",
    "    for k in driver.find_elements_by_xpath(\"//div[@class='t-ZTKy']/div/div\"):\n",
    "        Full_review.append(k.text.replace('\\n',' '))\n",
    "    \n",
    "    try:\n",
    "        button=driver.find_element_by_xpath(\"//*[contains(text(), 'Next')]\")\n",
    "        driver.execute_script(\"arguments[0].click();\", button)\n",
    "    except NoSuchElementException:\n",
    "        pass\n",
    "    time.sleep(2)"
   ]
  },
  {
   "cell_type": "code",
   "execution_count": 204,
   "metadata": {},
   "outputs": [
    {
     "name": "stdout",
     "output_type": "stream",
     "text": [
      "40573 40573\n"
     ]
    }
   ],
   "source": [
    "#printing lengths\n",
    "print(len(Ratings),len(Full_review))"
   ]
  },
  {
   "cell_type": "code",
   "execution_count": 205,
   "metadata": {},
   "outputs": [],
   "source": [
    "#creating a dataframe\n",
    "Reviews=pd.DataFrame({})\n",
    "Reviews['Ratings']=Ratings\n",
    "Reviews['Full_review']=Full_review"
   ]
  },
  {
   "cell_type": "code",
   "execution_count": 206,
   "metadata": {},
   "outputs": [
    {
     "data": {
      "text/html": [
       "<div>\n",
       "<style scoped>\n",
       "    .dataframe tbody tr th:only-of-type {\n",
       "        vertical-align: middle;\n",
       "    }\n",
       "\n",
       "    .dataframe tbody tr th {\n",
       "        vertical-align: top;\n",
       "    }\n",
       "\n",
       "    .dataframe thead th {\n",
       "        text-align: right;\n",
       "    }\n",
       "</style>\n",
       "<table border=\"1\" class=\"dataframe\">\n",
       "  <thead>\n",
       "    <tr style=\"text-align: right;\">\n",
       "      <th></th>\n",
       "      <th>Ratings</th>\n",
       "      <th>Full_review</th>\n",
       "    </tr>\n",
       "  </thead>\n",
       "  <tbody>\n",
       "    <tr>\n",
       "      <th>0</th>\n",
       "      <td>5</td>\n",
       "      <td>This is the best laptop in this range.I reciev...</td>\n",
       "    </tr>\n",
       "    <tr>\n",
       "      <th>1</th>\n",
       "      <td>5</td>\n",
       "      <td>Good product as used of now.... Everything is ...</td>\n",
       "    </tr>\n",
       "    <tr>\n",
       "      <th>2</th>\n",
       "      <td>5</td>\n",
       "      <td>AWESOME LAPTOP. It supports many high spec gam...</td>\n",
       "    </tr>\n",
       "    <tr>\n",
       "      <th>3</th>\n",
       "      <td>4</td>\n",
       "      <td>For that price... it's exceptionally good. Pla...</td>\n",
       "    </tr>\n",
       "    <tr>\n",
       "      <th>4</th>\n",
       "      <td>4</td>\n",
       "      <td>RAM upgrade is must do because the useable RAM...</td>\n",
       "    </tr>\n",
       "    <tr>\n",
       "      <th>...</th>\n",
       "      <td>...</td>\n",
       "      <td>...</td>\n",
       "    </tr>\n",
       "    <tr>\n",
       "      <th>40568</th>\n",
       "      <td>5</td>\n",
       "      <td>Product received is of excellent quality with ...</td>\n",
       "    </tr>\n",
       "    <tr>\n",
       "      <th>40569</th>\n",
       "      <td>1</td>\n",
       "      <td>returnd bcoz of low range...thankfully got ref...</td>\n",
       "    </tr>\n",
       "    <tr>\n",
       "      <th>40570</th>\n",
       "      <td>1</td>\n",
       "      <td>no signal strength, customer support also very...</td>\n",
       "    </tr>\n",
       "    <tr>\n",
       "      <th>40571</th>\n",
       "      <td>1</td>\n",
       "      <td>I bought 2 pice and both have same issue in it...</td>\n",
       "    </tr>\n",
       "    <tr>\n",
       "      <th>40572</th>\n",
       "      <td>5</td>\n",
       "      <td>its a bravo product, I highly recommend this p...</td>\n",
       "    </tr>\n",
       "  </tbody>\n",
       "</table>\n",
       "<p>40573 rows × 2 columns</p>\n",
       "</div>"
      ],
      "text/plain": [
       "      Ratings                                        Full_review\n",
       "0           5  This is the best laptop in this range.I reciev...\n",
       "1           5  Good product as used of now.... Everything is ...\n",
       "2           5  AWESOME LAPTOP. It supports many high spec gam...\n",
       "3           4  For that price... it's exceptionally good. Pla...\n",
       "4           4  RAM upgrade is must do because the useable RAM...\n",
       "...       ...                                                ...\n",
       "40568       5  Product received is of excellent quality with ...\n",
       "40569       1  returnd bcoz of low range...thankfully got ref...\n",
       "40570       1  no signal strength, customer support also very...\n",
       "40571       1  I bought 2 pice and both have same issue in it...\n",
       "40572       5  its a bravo product, I highly recommend this p...\n",
       "\n",
       "[40573 rows x 2 columns]"
      ]
     },
     "execution_count": 206,
     "metadata": {},
     "output_type": "execute_result"
    }
   ],
   "source": [
    "Reviews"
   ]
  },
  {
   "cell_type": "code",
   "execution_count": 207,
   "metadata": {},
   "outputs": [],
   "source": [
    "#converting into csv format\n",
    "Reviews.to_csv(\"Reviews.csv\")"
   ]
  },
  {
   "cell_type": "code",
   "execution_count": 208,
   "metadata": {},
   "outputs": [],
   "source": [
    "#closing the driver\n",
    "driver.close()"
   ]
  },
  {
   "cell_type": "code",
   "execution_count": null,
   "metadata": {},
   "outputs": [],
   "source": []
  }
 ],
 "metadata": {
  "kernelspec": {
   "display_name": "Python 3",
   "language": "python",
   "name": "python3"
  },
  "language_info": {
   "codemirror_mode": {
    "name": "ipython",
    "version": 3
   },
   "file_extension": ".py",
   "mimetype": "text/x-python",
   "name": "python",
   "nbconvert_exporter": "python",
   "pygments_lexer": "ipython3",
   "version": "3.8.5"
  }
 },
 "nbformat": 4,
 "nbformat_minor": 4
}
